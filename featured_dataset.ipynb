{
 "cells": [
  {
   "cell_type": "code",
   "execution_count": 448,
   "id": "initial_id",
   "metadata": {
    "collapsed": true,
    "ExecuteTime": {
     "end_time": "2024-06-28T04:19:40.389399300Z",
     "start_time": "2024-06-28T04:19:40.331893400Z"
    }
   },
   "outputs": [],
   "source": [
    "import numpy as np\n",
    "import pandas as pd\n",
    "from sklearn.model_selection import train_test_split\n",
    "from sklearn.preprocessing import StandardScaler, OneHotEncoder\n",
    "from sklearn.compose import ColumnTransformer\n",
    "from sklearn.pipeline import Pipeline\n",
    "from sklearn.impute import SimpleImputer\n",
    "from sklearn.metrics import accuracy_score, precision_score, recall_score, f1_score, roc_auc_score, roc_curve, ConfusionMatrixDisplay\n",
    "import matplotlib.pyplot as plt\n",
    "import seaborn as sns\n",
    "from imblearn.over_sampling import SMOTE\n",
    "\n",
    "\n",
    "\n",
    "\n"
   ]
  },
  {
   "cell_type": "code",
   "execution_count": 449,
   "outputs": [],
   "source": [
    "tda = pd.read_csv('C:\\\\Users\\\\Eric\\\\Downloads\\\\decrypted_file\\\\train\\\\train_data_ads.csv')#your directory\n",
    "tdf =  pd.read_csv('C:\\\\Users\\\\Eric\\\\Downloads\\\\decrypted_file\\\\train\\\\train_data_feeds.csv')"
   ],
   "metadata": {
    "collapsed": false,
    "ExecuteTime": {
     "end_time": "2024-06-28T04:20:13.725746800Z",
     "start_time": "2024-06-28T04:19:40.335399700Z"
    }
   },
   "id": "3b85e6d86a7995c7"
  },
  {
   "cell_type": "code",
   "execution_count": 449,
   "outputs": [],
   "source": [],
   "metadata": {
    "collapsed": false,
    "ExecuteTime": {
     "end_time": "2024-06-28T04:20:13.728254400Z",
     "start_time": "2024-06-28T04:20:13.725746800Z"
    }
   },
   "id": "db6ff4e3869a6e86"
  },
  {
   "cell_type": "code",
   "execution_count": 450,
   "outputs": [],
   "source": [
    "tdf.rename(columns={'u_userId': 'user_id'}, inplace=True)  #change u_userId to user_id for better merging algotithm\n",
    "tda.rename(columns={'user_id': 'user_id'}, inplace=True)  \n",
    "\n",
    "tda = tda.sample(frac= 0.03)#remove this row in real process\n",
    "tdf = tdf.sample(frac= 0.03)#remove this row in real process"
   ],
   "metadata": {
    "collapsed": false,
    "ExecuteTime": {
     "end_time": "2024-06-28T04:20:14.528252400Z",
     "start_time": "2024-06-28T04:20:13.728254400Z"
    }
   },
   "id": "b13a4c143e4def02"
  },
  {
   "cell_type": "code",
   "execution_count": 450,
   "outputs": [],
   "source": [],
   "metadata": {
    "collapsed": false,
    "ExecuteTime": {
     "end_time": "2024-06-28T04:20:14.530858Z",
     "start_time": "2024-06-28T04:20:14.529859900Z"
    }
   },
   "id": "31bdb303e2d49518"
  },
  {
   "cell_type": "code",
   "execution_count": 451,
   "outputs": [],
   "source": [
    "#remove time stamp, since we are not interesting about time\n",
    "tda.drop(columns=['pt_d'], inplace=True)\n"
   ],
   "metadata": {
    "collapsed": false,
    "ExecuteTime": {
     "end_time": "2024-06-28T04:20:14.572858100Z",
     "start_time": "2024-06-28T04:20:14.530858Z"
    }
   },
   "id": "b3d96a0d7c25a2a8"
  },
  {
   "cell_type": "code",
   "execution_count": 452,
   "outputs": [],
   "source": [
    "tda.drop([\"device_size\"], axis=1, inplace= True) \n",
    "tdf.drop(['u_browserMode','e_pl','e_et',\"i_s_sourceId\", \"i_entities\"], axis=1, inplace= True)#some duplicated information and not useful information(please double check for me)"
   ],
   "metadata": {
    "collapsed": false,
    "ExecuteTime": {
     "end_time": "2024-06-28T04:20:14.636287400Z",
     "start_time": "2024-06-28T04:20:14.573858100Z"
    }
   },
   "id": "cecdc6c4c3c7f4e3"
  },
  {
   "cell_type": "code",
   "execution_count": 453,
   "outputs": [],
   "source": [
    "df1 = pd.DataFrame(tda)\n",
    "df2 = pd.DataFrame(tdf)\n",
    "\n",
    "# Store original data types\n",
    "original_dtypes_df1 = df1.dtypes\n",
    "original_dtypes_df2 = df2.dtypes\n",
    "\n",
    "# merge DataFrames\n",
    "merged_data = pd.merge(df1, df2, on='user_id', how='outer')\n",
    "\n",
    "# fill NaN values with appropriate default values\n",
    "merged_data.fillna(0, inplace=True)\n",
    "\n",
    "# convert data types back to original\n",
    "for col in merged_data.columns:\n",
    "    if col in original_dtypes_df1.index:\n",
    "        merged_data[col] = merged_data[col].astype(original_dtypes_df1[col])\n",
    "    elif col in original_dtypes_df2.index:\n",
    "        merged_data[col] = merged_data[col].astype(original_dtypes_df2[col])"
   ],
   "metadata": {
    "collapsed": false,
    "ExecuteTime": {
     "end_time": "2024-06-28T04:20:15.898835500Z",
     "start_time": "2024-06-28T04:20:14.637286900Z"
    }
   },
   "id": "a02d055ef48929e3"
  },
  {
   "cell_type": "code",
   "execution_count": 454,
   "outputs": [],
   "source": [
    "#featuring the data with clicked column\n",
    "merged_data['clicked'] = merged_data.apply(lambda row: row['user_id'] in tda['user_id'].values and row['user_id'] in tdf['user_id'].values, axis=1)\n",
    "merged_data.fillna(0, inplace=True )"
   ],
   "metadata": {
    "collapsed": false,
    "ExecuteTime": {
     "end_time": "2024-06-28T04:21:31.459439400Z",
     "start_time": "2024-06-28T04:20:15.961835200Z"
    }
   },
   "id": "b847a169775c14f7"
  },
  {
   "cell_type": "code",
   "execution_count": 455,
   "outputs": [],
   "source": [
    "\n",
    "merged_data.fillna(0, inplace=True )\n",
    "\n",
    "merged_data.drop(['user_id','log_id','task_id','adv_id','i_docId','device_name','series_dev','slot_id','spread_app_id','site_id','app_score'], axis = 1, inplace= True)\n",
    "# some data that I would consider to drop based on their distribution. They are either too biased or not meaningful. like ID type of variables. I also delete the column with too many unique value"
   ],
   "metadata": {
    "collapsed": false,
    "ExecuteTime": {
     "end_time": "2024-06-28T04:21:31.796992300Z",
     "start_time": "2024-06-28T04:21:31.460440300Z"
    }
   },
   "id": "c75c0a3b2bfd14d4"
  },
  {
   "cell_type": "code",
   "execution_count": 463,
   "outputs": [],
   "source": [],
   "metadata": {
    "collapsed": false,
    "ExecuteTime": {
     "end_time": "2024-06-28T04:29:17.423675100Z",
     "start_time": "2024-06-28T04:29:17.421677Z"
    }
   },
   "id": "cf29a32010fd24"
  },
  {
   "cell_type": "code",
   "execution_count": 457,
   "outputs": [],
   "source": [],
   "metadata": {
    "collapsed": false,
    "ExecuteTime": {
     "end_time": "2024-06-28T04:21:31.806321300Z",
     "start_time": "2024-06-28T04:21:31.801038300Z"
    }
   },
   "id": "e2eedafc3e4f07f5"
  },
  {
   "cell_type": "code",
   "execution_count": 458,
   "outputs": [
    {
     "data": {
      "text/plain": "        label_x  age  gender  residence  city  city_rank  series_group  \\\n0           0.0    5       2         46   354          2             8   \n1           0.0    5       2         46   354          2             8   \n2           0.0    5       2         46   354          2             8   \n3           0.0    5       2         46   354          2             8   \n4           0.0    3       4         33   319          3             3   \n...         ...  ...     ...        ...   ...        ...           ...   \n743030      0.0    6       4         33   319          3             2   \n743031      0.0    6       4         33   319          3             2   \n743032      0.0    6       4         33   319          3             2   \n743033      0.0    6       4         33   319          3             2   \n743034      0.0    6       4         33   319          3             2   \n\n        emui_dev  net_type  creat_type_cd  ...  i_dtype  e_ch   e_m  e_po  \\\n0             32         7              2  ...        0     0     0     0   \n1             32         7              8  ...        0     0     0     0   \n2             32         7              8  ...        0     0     0     0   \n3             32         7              2  ...        0     0     0     0   \n4             20         4              8  ...       11    19  1361    12   \n...          ...       ...            ...  ...      ...   ...   ...   ...   \n743030        11         7             10  ...        0     0     0     0   \n743031        11         7              5  ...        0     0     0     0   \n743032        11         7             10  ...        0     0     0     0   \n743033        11         7              4  ...        0     0     0     0   \n743034        11         7             10  ...        0     0     0     0   \n\n       e_rn e_section label_y cillabel pro clicked  \n0         0         0     0.0        0   0   False  \n1         0         0     0.0        0   0   False  \n2         0         0     0.0        0   0   False  \n3         0         0     0.0        0   0   False  \n4         9         0    -1.0       -1   0    True  \n...     ...       ...     ...      ...  ..     ...  \n743030    0         0     0.0        0   0   False  \n743031    0         0     0.0        0   0   False  \n743032    0         0     0.0        0   0   False  \n743033    0         0     0.0        0   0   False  \n743034    0         0     0.0        0   0   False  \n\n[743035 rows x 45 columns]",
      "text/html": "<div>\n<style scoped>\n    .dataframe tbody tr th:only-of-type {\n        vertical-align: middle;\n    }\n\n    .dataframe tbody tr th {\n        vertical-align: top;\n    }\n\n    .dataframe thead th {\n        text-align: right;\n    }\n</style>\n<table border=\"1\" class=\"dataframe\">\n  <thead>\n    <tr style=\"text-align: right;\">\n      <th></th>\n      <th>label_x</th>\n      <th>age</th>\n      <th>gender</th>\n      <th>residence</th>\n      <th>city</th>\n      <th>city_rank</th>\n      <th>series_group</th>\n      <th>emui_dev</th>\n      <th>net_type</th>\n      <th>creat_type_cd</th>\n      <th>...</th>\n      <th>i_dtype</th>\n      <th>e_ch</th>\n      <th>e_m</th>\n      <th>e_po</th>\n      <th>e_rn</th>\n      <th>e_section</th>\n      <th>label_y</th>\n      <th>cillabel</th>\n      <th>pro</th>\n      <th>clicked</th>\n    </tr>\n  </thead>\n  <tbody>\n    <tr>\n      <th>0</th>\n      <td>0.0</td>\n      <td>5</td>\n      <td>2</td>\n      <td>46</td>\n      <td>354</td>\n      <td>2</td>\n      <td>8</td>\n      <td>32</td>\n      <td>7</td>\n      <td>2</td>\n      <td>...</td>\n      <td>0</td>\n      <td>0</td>\n      <td>0</td>\n      <td>0</td>\n      <td>0</td>\n      <td>0</td>\n      <td>0.0</td>\n      <td>0</td>\n      <td>0</td>\n      <td>False</td>\n    </tr>\n    <tr>\n      <th>1</th>\n      <td>0.0</td>\n      <td>5</td>\n      <td>2</td>\n      <td>46</td>\n      <td>354</td>\n      <td>2</td>\n      <td>8</td>\n      <td>32</td>\n      <td>7</td>\n      <td>8</td>\n      <td>...</td>\n      <td>0</td>\n      <td>0</td>\n      <td>0</td>\n      <td>0</td>\n      <td>0</td>\n      <td>0</td>\n      <td>0.0</td>\n      <td>0</td>\n      <td>0</td>\n      <td>False</td>\n    </tr>\n    <tr>\n      <th>2</th>\n      <td>0.0</td>\n      <td>5</td>\n      <td>2</td>\n      <td>46</td>\n      <td>354</td>\n      <td>2</td>\n      <td>8</td>\n      <td>32</td>\n      <td>7</td>\n      <td>8</td>\n      <td>...</td>\n      <td>0</td>\n      <td>0</td>\n      <td>0</td>\n      <td>0</td>\n      <td>0</td>\n      <td>0</td>\n      <td>0.0</td>\n      <td>0</td>\n      <td>0</td>\n      <td>False</td>\n    </tr>\n    <tr>\n      <th>3</th>\n      <td>0.0</td>\n      <td>5</td>\n      <td>2</td>\n      <td>46</td>\n      <td>354</td>\n      <td>2</td>\n      <td>8</td>\n      <td>32</td>\n      <td>7</td>\n      <td>2</td>\n      <td>...</td>\n      <td>0</td>\n      <td>0</td>\n      <td>0</td>\n      <td>0</td>\n      <td>0</td>\n      <td>0</td>\n      <td>0.0</td>\n      <td>0</td>\n      <td>0</td>\n      <td>False</td>\n    </tr>\n    <tr>\n      <th>4</th>\n      <td>0.0</td>\n      <td>3</td>\n      <td>4</td>\n      <td>33</td>\n      <td>319</td>\n      <td>3</td>\n      <td>3</td>\n      <td>20</td>\n      <td>4</td>\n      <td>8</td>\n      <td>...</td>\n      <td>11</td>\n      <td>19</td>\n      <td>1361</td>\n      <td>12</td>\n      <td>9</td>\n      <td>0</td>\n      <td>-1.0</td>\n      <td>-1</td>\n      <td>0</td>\n      <td>True</td>\n    </tr>\n    <tr>\n      <th>...</th>\n      <td>...</td>\n      <td>...</td>\n      <td>...</td>\n      <td>...</td>\n      <td>...</td>\n      <td>...</td>\n      <td>...</td>\n      <td>...</td>\n      <td>...</td>\n      <td>...</td>\n      <td>...</td>\n      <td>...</td>\n      <td>...</td>\n      <td>...</td>\n      <td>...</td>\n      <td>...</td>\n      <td>...</td>\n      <td>...</td>\n      <td>...</td>\n      <td>...</td>\n      <td>...</td>\n    </tr>\n    <tr>\n      <th>743030</th>\n      <td>0.0</td>\n      <td>6</td>\n      <td>4</td>\n      <td>33</td>\n      <td>319</td>\n      <td>3</td>\n      <td>2</td>\n      <td>11</td>\n      <td>7</td>\n      <td>10</td>\n      <td>...</td>\n      <td>0</td>\n      <td>0</td>\n      <td>0</td>\n      <td>0</td>\n      <td>0</td>\n      <td>0</td>\n      <td>0.0</td>\n      <td>0</td>\n      <td>0</td>\n      <td>False</td>\n    </tr>\n    <tr>\n      <th>743031</th>\n      <td>0.0</td>\n      <td>6</td>\n      <td>4</td>\n      <td>33</td>\n      <td>319</td>\n      <td>3</td>\n      <td>2</td>\n      <td>11</td>\n      <td>7</td>\n      <td>5</td>\n      <td>...</td>\n      <td>0</td>\n      <td>0</td>\n      <td>0</td>\n      <td>0</td>\n      <td>0</td>\n      <td>0</td>\n      <td>0.0</td>\n      <td>0</td>\n      <td>0</td>\n      <td>False</td>\n    </tr>\n    <tr>\n      <th>743032</th>\n      <td>0.0</td>\n      <td>6</td>\n      <td>4</td>\n      <td>33</td>\n      <td>319</td>\n      <td>3</td>\n      <td>2</td>\n      <td>11</td>\n      <td>7</td>\n      <td>10</td>\n      <td>...</td>\n      <td>0</td>\n      <td>0</td>\n      <td>0</td>\n      <td>0</td>\n      <td>0</td>\n      <td>0</td>\n      <td>0.0</td>\n      <td>0</td>\n      <td>0</td>\n      <td>False</td>\n    </tr>\n    <tr>\n      <th>743033</th>\n      <td>0.0</td>\n      <td>6</td>\n      <td>4</td>\n      <td>33</td>\n      <td>319</td>\n      <td>3</td>\n      <td>2</td>\n      <td>11</td>\n      <td>7</td>\n      <td>4</td>\n      <td>...</td>\n      <td>0</td>\n      <td>0</td>\n      <td>0</td>\n      <td>0</td>\n      <td>0</td>\n      <td>0</td>\n      <td>0.0</td>\n      <td>0</td>\n      <td>0</td>\n      <td>False</td>\n    </tr>\n    <tr>\n      <th>743034</th>\n      <td>0.0</td>\n      <td>6</td>\n      <td>4</td>\n      <td>33</td>\n      <td>319</td>\n      <td>3</td>\n      <td>2</td>\n      <td>11</td>\n      <td>7</td>\n      <td>10</td>\n      <td>...</td>\n      <td>0</td>\n      <td>0</td>\n      <td>0</td>\n      <td>0</td>\n      <td>0</td>\n      <td>0</td>\n      <td>0.0</td>\n      <td>0</td>\n      <td>0</td>\n      <td>False</td>\n    </tr>\n  </tbody>\n</table>\n<p>743035 rows × 45 columns</p>\n</div>"
     },
     "execution_count": 458,
     "metadata": {},
     "output_type": "execute_result"
    }
   ],
   "source": [],
   "metadata": {
    "collapsed": false,
    "ExecuteTime": {
     "end_time": "2024-06-28T04:21:32.026526400Z",
     "start_time": "2024-06-28T04:21:31.807323200Z"
    }
   },
   "id": "5ebdd87aa465664f"
  },
  {
   "cell_type": "code",
   "execution_count": 458,
   "outputs": [],
   "source": [],
   "metadata": {
    "collapsed": false,
    "ExecuteTime": {
     "end_time": "2024-06-28T04:21:32.031002700Z",
     "start_time": "2024-06-28T04:21:32.029004600Z"
    }
   },
   "id": "1b604804305dcd41"
  },
  {
   "cell_type": "code",
   "execution_count": 459,
   "outputs": [],
   "source": [
    "# Split the column into multiple columns(like 23151^231^214^123, I separate this long list to multiple column. I think the numerical number could represent certain category, and after ^ is the subset of this category)\n",
    "\n",
    "def div_cols(df, col_name):\n",
    "    split_columns = df[col_name].astype(str).str.split('^', expand=True)\n",
    "    split_columns.columns = [f'{col_name}_{i+1}' for i in range(split_columns.shape[1])]\n",
    "    split_columns.fillna(0, inplace=True)\n",
    "\n",
    "    df = pd.concat([df, split_columns], axis=1)\n",
    "    df = df.loc[:, ~df.columns.duplicated()]  # drop duplicated columns\n",
    "    df.drop(col_name, axis=1, inplace=True)\n",
    "    return df\n",
    "\n",
    "# Define the split_columns_with_delimiter function\n",
    "def split_columns_with_delimiter(df, delimiter='^'):\n",
    "    columns_to_split = [col for col in df.columns if df[col].astype(str).str.contains(delimiter).any()]\n",
    "   \n",
    "    for col in columns_to_split:\n",
    "        df = div_cols(df, col)\n",
    "   \n",
    "    return df\n",
    "merged_data = split_columns_with_delimiter(merged_data)"
   ],
   "metadata": {
    "collapsed": false,
    "ExecuteTime": {
     "end_time": "2024-06-28T04:23:55.308140700Z",
     "start_time": "2024-06-28T04:21:32.031002700Z"
    }
   },
   "id": "2d12280b95455ede"
  },
  {
   "cell_type": "code",
   "execution_count": 459,
   "outputs": [],
   "source": [],
   "metadata": {
    "collapsed": false,
    "ExecuteTime": {
     "end_time": "2024-06-28T04:23:55.313495100Z",
     "start_time": "2024-06-28T04:23:55.308140700Z"
    }
   },
   "id": "67438db81ed42b16"
  },
  {
   "cell_type": "code",
   "execution_count": 460,
   "outputs": [
    {
     "data": {
      "text/plain": "       label_x_1 age_1 gender_1 residence_1 city_1 city_rank_1 series_group_1  \\\n0            0.0     5        2          46    354           2              8   \n1            0.0     5        2          46    354           2              8   \n2            0.0     5        2          46    354           2              8   \n3            0.0     5        2          46    354           2              8   \n4            0.0     3        4          33    319           3              3   \n...          ...   ...      ...         ...    ...         ...            ...   \n743030       0.0     6        4          33    319           3              2   \n743031       0.0     6        4          33    319           3              2   \n743032       0.0     6        4          33    319           3              2   \n743033       0.0     6        4          33    319           3              2   \n743034       0.0     6        4          33    319           3              2   \n\n       emui_dev_1 net_type_1 adv_prim_id_1  ... i_dtype_1 e_ch_1 e_m_1 e_po_1  \\\n0              32          7          1913  ...         0      0     0      0   \n1              32          7          1036  ...         0      0     0      0   \n2              32          7          1492  ...         0      0     0      0   \n3              32          7          1913  ...         0      0     0      0   \n4              20          4          1316  ...        11     19  1361     12   \n...           ...        ...           ...  ...       ...    ...   ...    ...   \n743030         11          7          1005  ...         0      0     0      0   \n743031         11          7          1236  ...         0      0     0      0   \n743032         11          7          1486  ...         0      0     0      0   \n743033         11          7          1236  ...         0      0     0      0   \n743034         11          7          1220  ...         0      0     0      0   \n\n       e_rn_1 e_section_1 label_y_1 cillabel_1 pro_1 clicked_1  \n0           0           0       0.0          0     0     False  \n1           0           0       0.0          0     0     False  \n2           0           0       0.0          0     0     False  \n3           0           0       0.0          0     0     False  \n4           9           0      -1.0         -1     0      True  \n...       ...         ...       ...        ...   ...       ...  \n743030      0           0       0.0          0     0     False  \n743031      0           0       0.0          0     0     False  \n743032      0           0       0.0          0     0     False  \n743033      0           0       0.0          0     0     False  \n743034      0           0       0.0          0     0     False  \n\n[743035 rows x 87 columns]",
      "text/html": "<div>\n<style scoped>\n    .dataframe tbody tr th:only-of-type {\n        vertical-align: middle;\n    }\n\n    .dataframe tbody tr th {\n        vertical-align: top;\n    }\n\n    .dataframe thead th {\n        text-align: right;\n    }\n</style>\n<table border=\"1\" class=\"dataframe\">\n  <thead>\n    <tr style=\"text-align: right;\">\n      <th></th>\n      <th>label_x_1</th>\n      <th>age_1</th>\n      <th>gender_1</th>\n      <th>residence_1</th>\n      <th>city_1</th>\n      <th>city_rank_1</th>\n      <th>series_group_1</th>\n      <th>emui_dev_1</th>\n      <th>net_type_1</th>\n      <th>adv_prim_id_1</th>\n      <th>...</th>\n      <th>i_dtype_1</th>\n      <th>e_ch_1</th>\n      <th>e_m_1</th>\n      <th>e_po_1</th>\n      <th>e_rn_1</th>\n      <th>e_section_1</th>\n      <th>label_y_1</th>\n      <th>cillabel_1</th>\n      <th>pro_1</th>\n      <th>clicked_1</th>\n    </tr>\n  </thead>\n  <tbody>\n    <tr>\n      <th>0</th>\n      <td>0.0</td>\n      <td>5</td>\n      <td>2</td>\n      <td>46</td>\n      <td>354</td>\n      <td>2</td>\n      <td>8</td>\n      <td>32</td>\n      <td>7</td>\n      <td>1913</td>\n      <td>...</td>\n      <td>0</td>\n      <td>0</td>\n      <td>0</td>\n      <td>0</td>\n      <td>0</td>\n      <td>0</td>\n      <td>0.0</td>\n      <td>0</td>\n      <td>0</td>\n      <td>False</td>\n    </tr>\n    <tr>\n      <th>1</th>\n      <td>0.0</td>\n      <td>5</td>\n      <td>2</td>\n      <td>46</td>\n      <td>354</td>\n      <td>2</td>\n      <td>8</td>\n      <td>32</td>\n      <td>7</td>\n      <td>1036</td>\n      <td>...</td>\n      <td>0</td>\n      <td>0</td>\n      <td>0</td>\n      <td>0</td>\n      <td>0</td>\n      <td>0</td>\n      <td>0.0</td>\n      <td>0</td>\n      <td>0</td>\n      <td>False</td>\n    </tr>\n    <tr>\n      <th>2</th>\n      <td>0.0</td>\n      <td>5</td>\n      <td>2</td>\n      <td>46</td>\n      <td>354</td>\n      <td>2</td>\n      <td>8</td>\n      <td>32</td>\n      <td>7</td>\n      <td>1492</td>\n      <td>...</td>\n      <td>0</td>\n      <td>0</td>\n      <td>0</td>\n      <td>0</td>\n      <td>0</td>\n      <td>0</td>\n      <td>0.0</td>\n      <td>0</td>\n      <td>0</td>\n      <td>False</td>\n    </tr>\n    <tr>\n      <th>3</th>\n      <td>0.0</td>\n      <td>5</td>\n      <td>2</td>\n      <td>46</td>\n      <td>354</td>\n      <td>2</td>\n      <td>8</td>\n      <td>32</td>\n      <td>7</td>\n      <td>1913</td>\n      <td>...</td>\n      <td>0</td>\n      <td>0</td>\n      <td>0</td>\n      <td>0</td>\n      <td>0</td>\n      <td>0</td>\n      <td>0.0</td>\n      <td>0</td>\n      <td>0</td>\n      <td>False</td>\n    </tr>\n    <tr>\n      <th>4</th>\n      <td>0.0</td>\n      <td>3</td>\n      <td>4</td>\n      <td>33</td>\n      <td>319</td>\n      <td>3</td>\n      <td>3</td>\n      <td>20</td>\n      <td>4</td>\n      <td>1316</td>\n      <td>...</td>\n      <td>11</td>\n      <td>19</td>\n      <td>1361</td>\n      <td>12</td>\n      <td>9</td>\n      <td>0</td>\n      <td>-1.0</td>\n      <td>-1</td>\n      <td>0</td>\n      <td>True</td>\n    </tr>\n    <tr>\n      <th>...</th>\n      <td>...</td>\n      <td>...</td>\n      <td>...</td>\n      <td>...</td>\n      <td>...</td>\n      <td>...</td>\n      <td>...</td>\n      <td>...</td>\n      <td>...</td>\n      <td>...</td>\n      <td>...</td>\n      <td>...</td>\n      <td>...</td>\n      <td>...</td>\n      <td>...</td>\n      <td>...</td>\n      <td>...</td>\n      <td>...</td>\n      <td>...</td>\n      <td>...</td>\n      <td>...</td>\n    </tr>\n    <tr>\n      <th>743030</th>\n      <td>0.0</td>\n      <td>6</td>\n      <td>4</td>\n      <td>33</td>\n      <td>319</td>\n      <td>3</td>\n      <td>2</td>\n      <td>11</td>\n      <td>7</td>\n      <td>1005</td>\n      <td>...</td>\n      <td>0</td>\n      <td>0</td>\n      <td>0</td>\n      <td>0</td>\n      <td>0</td>\n      <td>0</td>\n      <td>0.0</td>\n      <td>0</td>\n      <td>0</td>\n      <td>False</td>\n    </tr>\n    <tr>\n      <th>743031</th>\n      <td>0.0</td>\n      <td>6</td>\n      <td>4</td>\n      <td>33</td>\n      <td>319</td>\n      <td>3</td>\n      <td>2</td>\n      <td>11</td>\n      <td>7</td>\n      <td>1236</td>\n      <td>...</td>\n      <td>0</td>\n      <td>0</td>\n      <td>0</td>\n      <td>0</td>\n      <td>0</td>\n      <td>0</td>\n      <td>0.0</td>\n      <td>0</td>\n      <td>0</td>\n      <td>False</td>\n    </tr>\n    <tr>\n      <th>743032</th>\n      <td>0.0</td>\n      <td>6</td>\n      <td>4</td>\n      <td>33</td>\n      <td>319</td>\n      <td>3</td>\n      <td>2</td>\n      <td>11</td>\n      <td>7</td>\n      <td>1486</td>\n      <td>...</td>\n      <td>0</td>\n      <td>0</td>\n      <td>0</td>\n      <td>0</td>\n      <td>0</td>\n      <td>0</td>\n      <td>0.0</td>\n      <td>0</td>\n      <td>0</td>\n      <td>False</td>\n    </tr>\n    <tr>\n      <th>743033</th>\n      <td>0.0</td>\n      <td>6</td>\n      <td>4</td>\n      <td>33</td>\n      <td>319</td>\n      <td>3</td>\n      <td>2</td>\n      <td>11</td>\n      <td>7</td>\n      <td>1236</td>\n      <td>...</td>\n      <td>0</td>\n      <td>0</td>\n      <td>0</td>\n      <td>0</td>\n      <td>0</td>\n      <td>0</td>\n      <td>0.0</td>\n      <td>0</td>\n      <td>0</td>\n      <td>False</td>\n    </tr>\n    <tr>\n      <th>743034</th>\n      <td>0.0</td>\n      <td>6</td>\n      <td>4</td>\n      <td>33</td>\n      <td>319</td>\n      <td>3</td>\n      <td>2</td>\n      <td>11</td>\n      <td>7</td>\n      <td>1220</td>\n      <td>...</td>\n      <td>0</td>\n      <td>0</td>\n      <td>0</td>\n      <td>0</td>\n      <td>0</td>\n      <td>0</td>\n      <td>0.0</td>\n      <td>0</td>\n      <td>0</td>\n      <td>False</td>\n    </tr>\n  </tbody>\n</table>\n<p>743035 rows × 87 columns</p>\n</div>"
     },
     "execution_count": 460,
     "metadata": {},
     "output_type": "execute_result"
    }
   ],
   "source": [
    "merged_data.drop(columns=['creat_type_cd_1','inter_type_cd_1'])"
   ],
   "metadata": {
    "collapsed": false,
    "ExecuteTime": {
     "end_time": "2024-06-28T04:23:56.702068700Z",
     "start_time": "2024-06-28T04:23:55.310495200Z"
    }
   },
   "id": "52f4a80b552a6685"
  },
  {
   "cell_type": "code",
   "execution_count": 460,
   "outputs": [],
   "source": [],
   "metadata": {
    "collapsed": false,
    "ExecuteTime": {
     "end_time": "2024-06-28T04:23:56.706030800Z",
     "start_time": "2024-06-28T04:23:56.702068700Z"
    }
   },
   "id": "404122877e3187d"
  },
  {
   "cell_type": "code",
   "execution_count": 461,
   "outputs": [],
   "source": [
    "#seperate the dataset to 2 file clicked and not clicked\n",
    "pos_click = merged_data[merged_data['clicked_1'] == \"True\"]\n",
    "neg_click = merged_data[merged_data['clicked_1'] == \"False\"]\n",
    "# save to csv files\n",
    "pos_click.to_csv('pos_click.csv', index=False)\n",
    "neg_click.to_csv('neg_click.csv', index=False)"
   ],
   "metadata": {
    "collapsed": false,
    "ExecuteTime": {
     "end_time": "2024-06-28T04:24:04.330881900Z",
     "start_time": "2024-06-28T04:23:56.704031300Z"
    }
   },
   "id": "8556acfc1a58ace5"
  },
  {
   "cell_type": "code",
   "execution_count": 462,
   "outputs": [
    {
     "data": {
      "text/plain": "       label_x_1 age_1 gender_1 residence_1 city_1 city_rank_1 series_group_1  \\\n4            0.0     3        4          33    319           3              3   \n5            0.0     3        4          33    319           3              3   \n6            0.0     3        4          33    319           3              3   \n7            0.0     3        4          33    319           3              3   \n8            0.0     3        4          33    319           3              3   \n...          ...   ...      ...         ...    ...         ...            ...   \n743024       0.0     3        2          41    135           5              7   \n743025       0.0     3        2          41    135           5              7   \n743026       1.0     3        2          41    135           5              7   \n743027       0.0     3        2          41    135           5              7   \n743028       0.0     3        2          41    135           5              7   \n\n       emui_dev_1 net_type_1 creat_type_cd_1  ... i_dtype_1 e_ch_1 e_m_1  \\\n4              20          4               8  ...        11     19  1361   \n5              20          4               8  ...        12     19  1361   \n6              20          4               8  ...        11     19  1361   \n7              20          4               8  ...        10     19  1361   \n8              20          4               8  ...        13     19  1361   \n...           ...        ...             ...  ...       ...    ...   ...   \n743024         21          7              10  ...        12     11   196   \n743025         21          7               8  ...        12     11   196   \n743026         21          7               3  ...        12     11   196   \n743027         21          7              10  ...        12     11   196   \n743028         21          7               8  ...        12     11   196   \n\n       e_po_1 e_rn_1 e_section_1 label_y_1 cillabel_1 pro_1 clicked_1  \n4          12      9           0      -1.0         -1     0      True  \n5           1      8           0      -1.0         -1     0      True  \n6           5      9           0      -1.0         -1     0      True  \n7           6      1           1      -1.0         -1     0      True  \n8           7      4           0      -1.0         -1     0      True  \n...       ...    ...         ...       ...        ...   ...       ...  \n743024      1      1           0      -1.0         -1     0      True  \n743025      1      1           0      -1.0         -1     0      True  \n743026      1      1           0      -1.0         -1     0      True  \n743027      1      1           0      -1.0         -1     0      True  \n743028      1      1           0      -1.0         -1     0      True  \n\n[663349 rows x 89 columns]",
      "text/html": "<div>\n<style scoped>\n    .dataframe tbody tr th:only-of-type {\n        vertical-align: middle;\n    }\n\n    .dataframe tbody tr th {\n        vertical-align: top;\n    }\n\n    .dataframe thead th {\n        text-align: right;\n    }\n</style>\n<table border=\"1\" class=\"dataframe\">\n  <thead>\n    <tr style=\"text-align: right;\">\n      <th></th>\n      <th>label_x_1</th>\n      <th>age_1</th>\n      <th>gender_1</th>\n      <th>residence_1</th>\n      <th>city_1</th>\n      <th>city_rank_1</th>\n      <th>series_group_1</th>\n      <th>emui_dev_1</th>\n      <th>net_type_1</th>\n      <th>creat_type_cd_1</th>\n      <th>...</th>\n      <th>i_dtype_1</th>\n      <th>e_ch_1</th>\n      <th>e_m_1</th>\n      <th>e_po_1</th>\n      <th>e_rn_1</th>\n      <th>e_section_1</th>\n      <th>label_y_1</th>\n      <th>cillabel_1</th>\n      <th>pro_1</th>\n      <th>clicked_1</th>\n    </tr>\n  </thead>\n  <tbody>\n    <tr>\n      <th>4</th>\n      <td>0.0</td>\n      <td>3</td>\n      <td>4</td>\n      <td>33</td>\n      <td>319</td>\n      <td>3</td>\n      <td>3</td>\n      <td>20</td>\n      <td>4</td>\n      <td>8</td>\n      <td>...</td>\n      <td>11</td>\n      <td>19</td>\n      <td>1361</td>\n      <td>12</td>\n      <td>9</td>\n      <td>0</td>\n      <td>-1.0</td>\n      <td>-1</td>\n      <td>0</td>\n      <td>True</td>\n    </tr>\n    <tr>\n      <th>5</th>\n      <td>0.0</td>\n      <td>3</td>\n      <td>4</td>\n      <td>33</td>\n      <td>319</td>\n      <td>3</td>\n      <td>3</td>\n      <td>20</td>\n      <td>4</td>\n      <td>8</td>\n      <td>...</td>\n      <td>12</td>\n      <td>19</td>\n      <td>1361</td>\n      <td>1</td>\n      <td>8</td>\n      <td>0</td>\n      <td>-1.0</td>\n      <td>-1</td>\n      <td>0</td>\n      <td>True</td>\n    </tr>\n    <tr>\n      <th>6</th>\n      <td>0.0</td>\n      <td>3</td>\n      <td>4</td>\n      <td>33</td>\n      <td>319</td>\n      <td>3</td>\n      <td>3</td>\n      <td>20</td>\n      <td>4</td>\n      <td>8</td>\n      <td>...</td>\n      <td>11</td>\n      <td>19</td>\n      <td>1361</td>\n      <td>5</td>\n      <td>9</td>\n      <td>0</td>\n      <td>-1.0</td>\n      <td>-1</td>\n      <td>0</td>\n      <td>True</td>\n    </tr>\n    <tr>\n      <th>7</th>\n      <td>0.0</td>\n      <td>3</td>\n      <td>4</td>\n      <td>33</td>\n      <td>319</td>\n      <td>3</td>\n      <td>3</td>\n      <td>20</td>\n      <td>4</td>\n      <td>8</td>\n      <td>...</td>\n      <td>10</td>\n      <td>19</td>\n      <td>1361</td>\n      <td>6</td>\n      <td>1</td>\n      <td>1</td>\n      <td>-1.0</td>\n      <td>-1</td>\n      <td>0</td>\n      <td>True</td>\n    </tr>\n    <tr>\n      <th>8</th>\n      <td>0.0</td>\n      <td>3</td>\n      <td>4</td>\n      <td>33</td>\n      <td>319</td>\n      <td>3</td>\n      <td>3</td>\n      <td>20</td>\n      <td>4</td>\n      <td>8</td>\n      <td>...</td>\n      <td>13</td>\n      <td>19</td>\n      <td>1361</td>\n      <td>7</td>\n      <td>4</td>\n      <td>0</td>\n      <td>-1.0</td>\n      <td>-1</td>\n      <td>0</td>\n      <td>True</td>\n    </tr>\n    <tr>\n      <th>...</th>\n      <td>...</td>\n      <td>...</td>\n      <td>...</td>\n      <td>...</td>\n      <td>...</td>\n      <td>...</td>\n      <td>...</td>\n      <td>...</td>\n      <td>...</td>\n      <td>...</td>\n      <td>...</td>\n      <td>...</td>\n      <td>...</td>\n      <td>...</td>\n      <td>...</td>\n      <td>...</td>\n      <td>...</td>\n      <td>...</td>\n      <td>...</td>\n      <td>...</td>\n      <td>...</td>\n    </tr>\n    <tr>\n      <th>743024</th>\n      <td>0.0</td>\n      <td>3</td>\n      <td>2</td>\n      <td>41</td>\n      <td>135</td>\n      <td>5</td>\n      <td>7</td>\n      <td>21</td>\n      <td>7</td>\n      <td>10</td>\n      <td>...</td>\n      <td>12</td>\n      <td>11</td>\n      <td>196</td>\n      <td>1</td>\n      <td>1</td>\n      <td>0</td>\n      <td>-1.0</td>\n      <td>-1</td>\n      <td>0</td>\n      <td>True</td>\n    </tr>\n    <tr>\n      <th>743025</th>\n      <td>0.0</td>\n      <td>3</td>\n      <td>2</td>\n      <td>41</td>\n      <td>135</td>\n      <td>5</td>\n      <td>7</td>\n      <td>21</td>\n      <td>7</td>\n      <td>8</td>\n      <td>...</td>\n      <td>12</td>\n      <td>11</td>\n      <td>196</td>\n      <td>1</td>\n      <td>1</td>\n      <td>0</td>\n      <td>-1.0</td>\n      <td>-1</td>\n      <td>0</td>\n      <td>True</td>\n    </tr>\n    <tr>\n      <th>743026</th>\n      <td>1.0</td>\n      <td>3</td>\n      <td>2</td>\n      <td>41</td>\n      <td>135</td>\n      <td>5</td>\n      <td>7</td>\n      <td>21</td>\n      <td>7</td>\n      <td>3</td>\n      <td>...</td>\n      <td>12</td>\n      <td>11</td>\n      <td>196</td>\n      <td>1</td>\n      <td>1</td>\n      <td>0</td>\n      <td>-1.0</td>\n      <td>-1</td>\n      <td>0</td>\n      <td>True</td>\n    </tr>\n    <tr>\n      <th>743027</th>\n      <td>0.0</td>\n      <td>3</td>\n      <td>2</td>\n      <td>41</td>\n      <td>135</td>\n      <td>5</td>\n      <td>7</td>\n      <td>21</td>\n      <td>7</td>\n      <td>10</td>\n      <td>...</td>\n      <td>12</td>\n      <td>11</td>\n      <td>196</td>\n      <td>1</td>\n      <td>1</td>\n      <td>0</td>\n      <td>-1.0</td>\n      <td>-1</td>\n      <td>0</td>\n      <td>True</td>\n    </tr>\n    <tr>\n      <th>743028</th>\n      <td>0.0</td>\n      <td>3</td>\n      <td>2</td>\n      <td>41</td>\n      <td>135</td>\n      <td>5</td>\n      <td>7</td>\n      <td>21</td>\n      <td>7</td>\n      <td>8</td>\n      <td>...</td>\n      <td>12</td>\n      <td>11</td>\n      <td>196</td>\n      <td>1</td>\n      <td>1</td>\n      <td>0</td>\n      <td>-1.0</td>\n      <td>-1</td>\n      <td>0</td>\n      <td>True</td>\n    </tr>\n  </tbody>\n</table>\n<p>663349 rows × 89 columns</p>\n</div>"
     },
     "execution_count": 462,
     "metadata": {},
     "output_type": "execute_result"
    }
   ],
   "source": [
    "pos_click"
   ],
   "metadata": {
    "collapsed": false,
    "ExecuteTime": {
     "end_time": "2024-06-28T04:24:05.150932900Z",
     "start_time": "2024-06-28T04:24:04.330881900Z"
    }
   },
   "id": "81a77369cfa6f79"
  },
  {
   "cell_type": "code",
   "execution_count": 463,
   "outputs": [],
   "source": [
    "#merged_data.drop(['ad_click_list_v001', 'ad_click_list_v002', 'ad_click_list_v003',  'ad_close_list_v001', 'ad_close_list_v002', 'ad_close_list_v003'], axis=1, inplace= True)"
   ],
   "metadata": {
    "collapsed": false,
    "ExecuteTime": {
     "end_time": "2024-06-28T04:24:05.151899200Z",
     "start_time": "2024-06-28T04:24:05.148577600Z"
    }
   },
   "id": "7b0983438be3fc8f"
  },
  {
   "cell_type": "code",
   "execution_count": 463,
   "outputs": [],
   "source": [],
   "metadata": {
    "collapsed": false,
    "ExecuteTime": {
     "end_time": "2024-06-28T04:24:05.152413400Z",
     "start_time": "2024-06-28T04:24:05.150392400Z"
    }
   },
   "id": "41422731cf49caa8"
  },
  {
   "cell_type": "code",
   "execution_count": 463,
   "outputs": [],
   "source": [
    "\n"
   ],
   "metadata": {
    "collapsed": false,
    "ExecuteTime": {
     "end_time": "2024-06-28T04:24:05.156687500Z",
     "start_time": "2024-06-28T04:24:05.152413400Z"
    }
   },
   "id": "5bc6bc86b16b9a4d"
  },
  {
   "cell_type": "code",
   "execution_count": 463,
   "outputs": [],
   "source": [],
   "metadata": {
    "collapsed": false,
    "ExecuteTime": {
     "end_time": "2024-06-28T04:24:05.156687500Z",
     "start_time": "2024-06-28T04:24:05.154689100Z"
    }
   },
   "id": "20ac2c6f61d82678"
  },
  {
   "cell_type": "code",
   "execution_count": 463,
   "outputs": [],
   "source": [],
   "metadata": {
    "collapsed": false,
    "ExecuteTime": {
     "end_time": "2024-06-28T04:24:05.157895500Z",
     "start_time": "2024-06-28T04:24:05.155687300Z"
    }
   },
   "id": "dc37d23ffd37a050"
  },
  {
   "cell_type": "code",
   "execution_count": 463,
   "outputs": [],
   "source": [],
   "metadata": {
    "collapsed": false,
    "ExecuteTime": {
     "end_time": "2024-06-28T04:24:05.162090900Z",
     "start_time": "2024-06-28T04:24:05.157895500Z"
    }
   },
   "id": "8def3f9af2aefebc"
  },
  {
   "cell_type": "code",
   "execution_count": 463,
   "outputs": [],
   "source": [],
   "metadata": {
    "collapsed": false,
    "ExecuteTime": {
     "end_time": "2024-06-28T04:24:05.162090900Z",
     "start_time": "2024-06-28T04:24:05.160027700Z"
    }
   },
   "id": "a1cdba538d66635f"
  },
  {
   "cell_type": "code",
   "execution_count": 463,
   "outputs": [],
   "source": [],
   "metadata": {
    "collapsed": false,
    "ExecuteTime": {
     "end_time": "2024-06-28T04:24:05.162090900Z",
     "start_time": "2024-06-28T04:24:05.161584100Z"
    }
   },
   "id": "ccd119c0e8d5a504"
  },
  {
   "cell_type": "code",
   "execution_count": 463,
   "outputs": [],
   "source": [],
   "metadata": {
    "collapsed": false,
    "ExecuteTime": {
     "end_time": "2024-06-28T04:24:05.168525500Z",
     "start_time": "2024-06-28T04:24:05.163195400Z"
    }
   },
   "id": "36ed61bc622950e4"
  }
 ],
 "metadata": {
  "kernelspec": {
   "display_name": "Python 3",
   "language": "python",
   "name": "python3"
  },
  "language_info": {
   "codemirror_mode": {
    "name": "ipython",
    "version": 2
   },
   "file_extension": ".py",
   "mimetype": "text/x-python",
   "name": "python",
   "nbconvert_exporter": "python",
   "pygments_lexer": "ipython2",
   "version": "2.7.6"
  }
 },
 "nbformat": 4,
 "nbformat_minor": 5
}
