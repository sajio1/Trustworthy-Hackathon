{
 "cells": [
  {
   "cell_type": "code",
   "execution_count": 24,
   "id": "initial_id",
   "metadata": {
    "collapsed": true,
    "ExecuteTime": {
     "end_time": "2024-06-27T19:57:18.829367500Z",
     "start_time": "2024-06-27T19:57:18.770364600Z"
    }
   },
   "outputs": [],
   "source": [
    "import numpy as np\n",
    "import pandas as pd\n",
    "from sklearn.model_selection import train_test_split\n",
    "from sklearn.preprocessing import StandardScaler, OneHotEncoder\n",
    "from sklearn.compose import ColumnTransformer\n",
    "from sklearn.pipeline import Pipeline\n",
    "from sklearn.impute import SimpleImputer\n",
    "from sklearn.metrics import accuracy_score, precision_score, recall_score, f1_score, roc_auc_score, roc_curve, ConfusionMatrixDisplay\n",
    "import matplotlib.pyplot as plt\n",
    "import seaborn as sns\n",
    "from imblearn.over_sampling import SMOTE\n",
    "\n",
    "\n",
    "\n",
    "\n"
   ]
  },
  {
   "cell_type": "code",
   "execution_count": 25,
   "outputs": [],
   "source": [
    "tda = pd.read_csv('C:\\\\Users\\\\Eric\\\\Downloads\\\\decrypted_file\\\\train\\\\train_data_ads.csv')#your directory\n",
    "tdf =  pd.read_csv('C:\\\\Users\\\\Eric\\\\Downloads\\\\decrypted_file\\\\train\\\\train_data_feeds.csv')"
   ],
   "metadata": {
    "collapsed": false,
    "ExecuteTime": {
     "end_time": "2024-06-27T19:57:38.374952500Z",
     "start_time": "2024-06-27T19:57:18.772367100Z"
    }
   },
   "id": "3b85e6d86a7995c7"
  },
  {
   "cell_type": "code",
   "execution_count": 25,
   "outputs": [],
   "source": [],
   "metadata": {
    "collapsed": false,
    "ExecuteTime": {
     "end_time": "2024-06-27T19:57:38.379290700Z",
     "start_time": "2024-06-27T19:57:38.375782500Z"
    }
   },
   "id": "db6ff4e3869a6e86"
  },
  {
   "cell_type": "code",
   "execution_count": 26,
   "outputs": [],
   "source": [
    "tdf.rename(columns={'u_userId': 'user_id'}, inplace=True)  #change u_userId to user_id for better merging algotithm\n",
    "tda.rename(columns={'user_id': 'user_id'}, inplace=True)  \n",
    "\n",
    "tda = tda.sample(frac= 0.01)#remove this row in real process\n",
    "tdf = tdf.sample(frac= 0.01)#remove this row in real process"
   ],
   "metadata": {
    "collapsed": false,
    "ExecuteTime": {
     "end_time": "2024-06-27T19:57:38.933501100Z",
     "start_time": "2024-06-27T19:57:38.378290500Z"
    }
   },
   "id": "b13a4c143e4def02"
  },
  {
   "cell_type": "code",
   "execution_count": 26,
   "outputs": [],
   "source": [],
   "metadata": {
    "collapsed": false,
    "ExecuteTime": {
     "end_time": "2024-06-27T19:57:38.937557700Z",
     "start_time": "2024-06-27T19:57:38.935050200Z"
    }
   },
   "id": "31bdb303e2d49518"
  },
  {
   "cell_type": "code",
   "execution_count": 27,
   "outputs": [],
   "source": [
    "tda['pt_d'] = tda['pt_d'].astype(str)\n",
    "\n",
    "# Extract the month and time\n",
    "tda['month'] = tda['pt_d'].str[4:6]#only consider month\n",
    "tda['day'] = tda['pt_d'].str[6:8]#only consider date\n",
    "tda['hour']= tda['pt_d'].str[8:10]#only consider hour\n",
    "\n",
    "tda.drop(columns=['pt_d'], inplace=True)\n",
    "\n",
    "\n",
    "\n"
   ],
   "metadata": {
    "collapsed": false,
    "ExecuteTime": {
     "end_time": "2024-06-27T19:57:38.980587600Z",
     "start_time": "2024-06-27T19:57:38.936557700Z"
    }
   },
   "id": "b3d96a0d7c25a2a8"
  },
  {
   "cell_type": "code",
   "execution_count": 28,
   "outputs": [
    {
     "data": {
      "text/plain": "5720680    11\n1088930    08\n2810415    01\n1448645    09\n2741800    02\n           ..\n6957884    12\n5995458    07\n6546373    11\n2809815    03\n1918365    06\nName: hour, Length: 76755, dtype: object"
     },
     "execution_count": 28,
     "metadata": {},
     "output_type": "execute_result"
    }
   ],
   "source": [
    "tda['hour']"
   ],
   "metadata": {
    "collapsed": false,
    "ExecuteTime": {
     "end_time": "2024-06-27T19:57:38.985130400Z",
     "start_time": "2024-06-27T19:57:38.981588100Z"
    }
   },
   "id": "33eabfe126ed0d82"
  },
  {
   "cell_type": "code",
   "execution_count": 28,
   "outputs": [],
   "source": [],
   "metadata": {
    "collapsed": false,
    "ExecuteTime": {
     "end_time": "2024-06-27T19:57:38.985636100Z",
     "start_time": "2024-06-27T19:57:38.985130400Z"
    }
   },
   "id": "da396528826b7a0d"
  },
  {
   "cell_type": "code",
   "execution_count": 29,
   "outputs": [],
   "source": [
    "tda.drop([\"city\",\"device_size\"], axis=1, inplace= True)    #city is too specific, keep state instead of city should be good\n",
    "tdf.drop(['u_browserMode','e_pl','e_et',\"i_s_sourceId\", \"i_entities\"], axis=1, inplace= True)#some duplicated information and not useful information(please double check for me)"
   ],
   "metadata": {
    "collapsed": false,
    "ExecuteTime": {
     "end_time": "2024-06-27T19:57:39.023467100Z",
     "start_time": "2024-06-27T19:57:38.986638300Z"
    }
   },
   "id": "cecdc6c4c3c7f4e3"
  },
  {
   "cell_type": "code",
   "execution_count": 29,
   "outputs": [],
   "source": [],
   "metadata": {
    "collapsed": false,
    "ExecuteTime": {
     "end_time": "2024-06-27T19:57:39.023467100Z",
     "start_time": "2024-06-27T19:57:39.010959500Z"
    }
   },
   "id": "a02d055ef48929e3"
  },
  {
   "cell_type": "code",
   "execution_count": 30,
   "outputs": [],
   "source": [
    "#merge data by user_id\n",
    "merged_data = pd.merge(tda, tdf, on='user_id', how='outer')#merge them by user_id\n",
    "\n",
    "# create a feature indicating if the user clicked on the ad (i.e., userID exists in both datasets)\n",
    "merged_data['clicked'] = merged_data.apply(lambda row: row['user_id'] in tda['user_id'].values and row['user_id'] in tdf['user_id'].values, axis=1)\n",
    "merged_data.fillna(0, inplace=True )\n",
    "\n",
    "merged_data.drop(['user_id','log_id','task_id','adv_id','i_docId','device_name','series_dev','slot_id','spread_app_id','site_id'], axis = 1, inplace= True)# some data that I would consider to drop based on their distribution. They are either too biased or not meaningful. like ID type of variables. I also delete the column with too many unique value"
   ],
   "metadata": {
    "collapsed": false,
    "ExecuteTime": {
     "end_time": "2024-06-27T19:57:43.191732400Z",
     "start_time": "2024-06-27T19:57:39.014466700Z"
    }
   },
   "id": "c75c0a3b2bfd14d4"
  },
  {
   "cell_type": "code",
   "execution_count": 31,
   "outputs": [],
   "source": [
    "#sparse classes combination for the value that exist less than 4 times\n",
    "value_frequencies = merged_data[\"residence\"].value_counts()\n",
    "sparse_classes = value_frequencies[value_frequencies < 4].index\n",
    "merged_data[\"residence_combined\"] = merged_data[\"residence\"].apply(lambda x: 'Other' if x in sparse_classes else x)\n"
   ],
   "metadata": {
    "collapsed": false,
    "ExecuteTime": {
     "end_time": "2024-06-27T19:57:43.275926100Z",
     "start_time": "2024-06-27T19:57:43.192732200Z"
    }
   },
   "id": "e2eedafc3e4f07f5"
  },
  {
   "cell_type": "code",
   "execution_count": 32,
   "outputs": [
    {
     "data": {
      "text/plain": "        label_x  age  gender  residence  city_rank  series_group  emui_dev  \\\n0           0.0  0.0     0.0        0.0        0.0           0.0       0.0   \n1           0.0  5.0     2.0       46.0        2.0           8.0      32.0   \n2           0.0  0.0     0.0        0.0        0.0           0.0       0.0   \n3           0.0  0.0     0.0        0.0        0.0           0.0       0.0   \n4           0.0  0.0     0.0        0.0        0.0           0.0       0.0   \n...         ...  ...     ...        ...        ...           ...       ...   \n123653      1.0  7.0     2.0       39.0        5.0           3.0      28.0   \n123654      0.0  7.0     2.0       39.0        5.0           3.0      28.0   \n123655      0.0  3.0     2.0       41.0        5.0           7.0      21.0   \n123656      0.0  8.0     2.0       41.0        5.0           3.0      20.0   \n123657      0.0  6.0     4.0       33.0        3.0           2.0      11.0   \n\n        net_type  creat_type_cd  adv_prim_id  ...  e_ch     e_m  e_po  e_rn  \\\n0            0.0            0.0          0.0  ...  19.0   369.0   7.0   2.0   \n1            7.0            8.0       1036.0  ...  19.0   508.0   7.0   9.0   \n2            0.0            0.0          0.0  ...  11.0  1361.0   3.0   1.0   \n3            0.0            0.0          0.0  ...  19.0  1361.0   2.0   2.0   \n4            0.0            0.0          0.0  ...  19.0  1361.0  12.0   4.0   \n...          ...            ...          ...  ...   ...     ...   ...   ...   \n123653       4.0            3.0       1690.0  ...   0.0     0.0   0.0   0.0   \n123654       6.0            5.0       1236.0  ...   0.0     0.0   0.0   0.0   \n123655       7.0           10.0       1830.0  ...  19.0   196.0   5.0   4.0   \n123656       7.0            8.0       1535.0  ...   0.0     0.0   0.0   0.0   \n123657       7.0            5.0       1236.0  ...   0.0     0.0   0.0   0.0   \n\n       e_section label_y cillabel   pro clicked residence_combined  \n0            0.0    -1.0     -1.0   0.0   False                0.0  \n1            0.0    -1.0     -1.0   0.0    True               46.0  \n2            0.0    -1.0     -1.0   0.0   False                0.0  \n3            0.0     1.0     -1.0  40.0   False                0.0  \n4            0.0    -1.0     -1.0   0.0   False                0.0  \n...          ...     ...      ...   ...     ...                ...  \n123653       0.0     0.0      0.0   0.0   False               39.0  \n123654       0.0     0.0      0.0   0.0   False               39.0  \n123655       0.0    -1.0     -1.0   0.0    True               41.0  \n123656       0.0     0.0      0.0   0.0   False               41.0  \n123657       0.0     0.0      0.0   0.0   False               33.0  \n\n[123658 rows x 49 columns]",
      "text/html": "<div>\n<style scoped>\n    .dataframe tbody tr th:only-of-type {\n        vertical-align: middle;\n    }\n\n    .dataframe tbody tr th {\n        vertical-align: top;\n    }\n\n    .dataframe thead th {\n        text-align: right;\n    }\n</style>\n<table border=\"1\" class=\"dataframe\">\n  <thead>\n    <tr style=\"text-align: right;\">\n      <th></th>\n      <th>label_x</th>\n      <th>age</th>\n      <th>gender</th>\n      <th>residence</th>\n      <th>city_rank</th>\n      <th>series_group</th>\n      <th>emui_dev</th>\n      <th>net_type</th>\n      <th>creat_type_cd</th>\n      <th>adv_prim_id</th>\n      <th>...</th>\n      <th>e_ch</th>\n      <th>e_m</th>\n      <th>e_po</th>\n      <th>e_rn</th>\n      <th>e_section</th>\n      <th>label_y</th>\n      <th>cillabel</th>\n      <th>pro</th>\n      <th>clicked</th>\n      <th>residence_combined</th>\n    </tr>\n  </thead>\n  <tbody>\n    <tr>\n      <th>0</th>\n      <td>0.0</td>\n      <td>0.0</td>\n      <td>0.0</td>\n      <td>0.0</td>\n      <td>0.0</td>\n      <td>0.0</td>\n      <td>0.0</td>\n      <td>0.0</td>\n      <td>0.0</td>\n      <td>0.0</td>\n      <td>...</td>\n      <td>19.0</td>\n      <td>369.0</td>\n      <td>7.0</td>\n      <td>2.0</td>\n      <td>0.0</td>\n      <td>-1.0</td>\n      <td>-1.0</td>\n      <td>0.0</td>\n      <td>False</td>\n      <td>0.0</td>\n    </tr>\n    <tr>\n      <th>1</th>\n      <td>0.0</td>\n      <td>5.0</td>\n      <td>2.0</td>\n      <td>46.0</td>\n      <td>2.0</td>\n      <td>8.0</td>\n      <td>32.0</td>\n      <td>7.0</td>\n      <td>8.0</td>\n      <td>1036.0</td>\n      <td>...</td>\n      <td>19.0</td>\n      <td>508.0</td>\n      <td>7.0</td>\n      <td>9.0</td>\n      <td>0.0</td>\n      <td>-1.0</td>\n      <td>-1.0</td>\n      <td>0.0</td>\n      <td>True</td>\n      <td>46.0</td>\n    </tr>\n    <tr>\n      <th>2</th>\n      <td>0.0</td>\n      <td>0.0</td>\n      <td>0.0</td>\n      <td>0.0</td>\n      <td>0.0</td>\n      <td>0.0</td>\n      <td>0.0</td>\n      <td>0.0</td>\n      <td>0.0</td>\n      <td>0.0</td>\n      <td>...</td>\n      <td>11.0</td>\n      <td>1361.0</td>\n      <td>3.0</td>\n      <td>1.0</td>\n      <td>0.0</td>\n      <td>-1.0</td>\n      <td>-1.0</td>\n      <td>0.0</td>\n      <td>False</td>\n      <td>0.0</td>\n    </tr>\n    <tr>\n      <th>3</th>\n      <td>0.0</td>\n      <td>0.0</td>\n      <td>0.0</td>\n      <td>0.0</td>\n      <td>0.0</td>\n      <td>0.0</td>\n      <td>0.0</td>\n      <td>0.0</td>\n      <td>0.0</td>\n      <td>0.0</td>\n      <td>...</td>\n      <td>19.0</td>\n      <td>1361.0</td>\n      <td>2.0</td>\n      <td>2.0</td>\n      <td>0.0</td>\n      <td>1.0</td>\n      <td>-1.0</td>\n      <td>40.0</td>\n      <td>False</td>\n      <td>0.0</td>\n    </tr>\n    <tr>\n      <th>4</th>\n      <td>0.0</td>\n      <td>0.0</td>\n      <td>0.0</td>\n      <td>0.0</td>\n      <td>0.0</td>\n      <td>0.0</td>\n      <td>0.0</td>\n      <td>0.0</td>\n      <td>0.0</td>\n      <td>0.0</td>\n      <td>...</td>\n      <td>19.0</td>\n      <td>1361.0</td>\n      <td>12.0</td>\n      <td>4.0</td>\n      <td>0.0</td>\n      <td>-1.0</td>\n      <td>-1.0</td>\n      <td>0.0</td>\n      <td>False</td>\n      <td>0.0</td>\n    </tr>\n    <tr>\n      <th>...</th>\n      <td>...</td>\n      <td>...</td>\n      <td>...</td>\n      <td>...</td>\n      <td>...</td>\n      <td>...</td>\n      <td>...</td>\n      <td>...</td>\n      <td>...</td>\n      <td>...</td>\n      <td>...</td>\n      <td>...</td>\n      <td>...</td>\n      <td>...</td>\n      <td>...</td>\n      <td>...</td>\n      <td>...</td>\n      <td>...</td>\n      <td>...</td>\n      <td>...</td>\n      <td>...</td>\n    </tr>\n    <tr>\n      <th>123653</th>\n      <td>1.0</td>\n      <td>7.0</td>\n      <td>2.0</td>\n      <td>39.0</td>\n      <td>5.0</td>\n      <td>3.0</td>\n      <td>28.0</td>\n      <td>4.0</td>\n      <td>3.0</td>\n      <td>1690.0</td>\n      <td>...</td>\n      <td>0.0</td>\n      <td>0.0</td>\n      <td>0.0</td>\n      <td>0.0</td>\n      <td>0.0</td>\n      <td>0.0</td>\n      <td>0.0</td>\n      <td>0.0</td>\n      <td>False</td>\n      <td>39.0</td>\n    </tr>\n    <tr>\n      <th>123654</th>\n      <td>0.0</td>\n      <td>7.0</td>\n      <td>2.0</td>\n      <td>39.0</td>\n      <td>5.0</td>\n      <td>3.0</td>\n      <td>28.0</td>\n      <td>6.0</td>\n      <td>5.0</td>\n      <td>1236.0</td>\n      <td>...</td>\n      <td>0.0</td>\n      <td>0.0</td>\n      <td>0.0</td>\n      <td>0.0</td>\n      <td>0.0</td>\n      <td>0.0</td>\n      <td>0.0</td>\n      <td>0.0</td>\n      <td>False</td>\n      <td>39.0</td>\n    </tr>\n    <tr>\n      <th>123655</th>\n      <td>0.0</td>\n      <td>3.0</td>\n      <td>2.0</td>\n      <td>41.0</td>\n      <td>5.0</td>\n      <td>7.0</td>\n      <td>21.0</td>\n      <td>7.0</td>\n      <td>10.0</td>\n      <td>1830.0</td>\n      <td>...</td>\n      <td>19.0</td>\n      <td>196.0</td>\n      <td>5.0</td>\n      <td>4.0</td>\n      <td>0.0</td>\n      <td>-1.0</td>\n      <td>-1.0</td>\n      <td>0.0</td>\n      <td>True</td>\n      <td>41.0</td>\n    </tr>\n    <tr>\n      <th>123656</th>\n      <td>0.0</td>\n      <td>8.0</td>\n      <td>2.0</td>\n      <td>41.0</td>\n      <td>5.0</td>\n      <td>3.0</td>\n      <td>20.0</td>\n      <td>7.0</td>\n      <td>8.0</td>\n      <td>1535.0</td>\n      <td>...</td>\n      <td>0.0</td>\n      <td>0.0</td>\n      <td>0.0</td>\n      <td>0.0</td>\n      <td>0.0</td>\n      <td>0.0</td>\n      <td>0.0</td>\n      <td>0.0</td>\n      <td>False</td>\n      <td>41.0</td>\n    </tr>\n    <tr>\n      <th>123657</th>\n      <td>0.0</td>\n      <td>6.0</td>\n      <td>4.0</td>\n      <td>33.0</td>\n      <td>3.0</td>\n      <td>2.0</td>\n      <td>11.0</td>\n      <td>7.0</td>\n      <td>5.0</td>\n      <td>1236.0</td>\n      <td>...</td>\n      <td>0.0</td>\n      <td>0.0</td>\n      <td>0.0</td>\n      <td>0.0</td>\n      <td>0.0</td>\n      <td>0.0</td>\n      <td>0.0</td>\n      <td>0.0</td>\n      <td>False</td>\n      <td>33.0</td>\n    </tr>\n  </tbody>\n</table>\n<p>123658 rows × 49 columns</p>\n</div>"
     },
     "execution_count": 32,
     "metadata": {},
     "output_type": "execute_result"
    }
   ],
   "source": [
    "merged_data"
   ],
   "metadata": {
    "collapsed": false,
    "ExecuteTime": {
     "end_time": "2024-06-27T19:57:43.316062800Z",
     "start_time": "2024-06-27T19:57:43.275926100Z"
    }
   },
   "id": "5ebdd87aa465664f"
  },
  {
   "cell_type": "code",
   "execution_count": 33,
   "outputs": [],
   "source": [
    "\n",
    "# Split the column into multiple columns(like 23151^231^214^123, I separate this long list to multiple column. I think the numerical number could represent certain category, and after ^ is the subset of this category)\n",
    "\n",
    "def div_cols(df, col_name):\n",
    "    split_columns = df[col_name].astype(str).str.split('^', expand=True)\n",
    "    split_columns.columns = [f'{col_name}_{i+1}' for i in range(split_columns.shape[1])]\n",
    "    split_columns.fillna(0, inplace=True)\n",
    "\n",
    "    df = pd.concat([df, split_columns], axis=1)\n",
    "    df = df.loc[:, ~df.columns.duplicated()]  # drop duplicated columns\n",
    "    df.drop(col_name, axis=1, inplace=True)\n",
    "    return df\n",
    "\n",
    "# Define the split_columns_with_delimiter function\n",
    "def split_columns_with_delimiter(df, delimiter='^'):\n",
    "    columns_to_split = [col for col in df.columns if df[col].astype(str).str.contains(delimiter).any()]\n",
    "   \n",
    "    for col in columns_to_split:\n",
    "        df = div_cols(df, col)\n",
    "   \n",
    "    return df\n",
    "merged_data = split_columns_with_delimiter(merged_data)\n"
   ],
   "metadata": {
    "collapsed": false,
    "ExecuteTime": {
     "end_time": "2024-06-27T19:58:08.897697Z",
     "start_time": "2024-06-27T19:57:43.318063200Z"
    }
   },
   "id": "1b604804305dcd41"
  },
  {
   "cell_type": "code",
   "execution_count": 33,
   "outputs": [],
   "source": [],
   "metadata": {
    "collapsed": false,
    "ExecuteTime": {
     "end_time": "2024-06-27T19:58:08.908851800Z",
     "start_time": "2024-06-27T19:58:08.899343700Z"
    }
   },
   "id": "2d12280b95455ede"
  },
  {
   "cell_type": "code",
   "execution_count": 34,
   "outputs": [],
   "source": [
    "from sklearn.preprocessing import LabelEncoder\n",
    "\n",
    "# Identify and encode categorical columns\n",
    "categorical_cols = merged_data.select_dtypes(include=['object', 'category']).columns\n",
    "label_encoder = LabelEncoder()\n",
    "\n",
    "for col in categorical_cols:\n",
    "    merged_data[col] = merged_data[col].astype(str)\n",
    "    merged_data[col] = label_encoder.fit_transform(merged_data[col])\n"
   ],
   "metadata": {
    "collapsed": false,
    "ExecuteTime": {
     "end_time": "2024-06-27T19:58:10.731022400Z",
     "start_time": "2024-06-27T19:58:08.901852Z"
    }
   },
   "id": "67438db81ed42b16"
  },
  {
   "cell_type": "code",
   "execution_count": 35,
   "outputs": [
    {
     "data": {
      "text/plain": "        label_x_1  age_1  gender_1  residence_1  city_rank_1  series_group_1  \\\n0               0      0         0            0            0               0   \n1               0      4         1           35            1               7   \n2               0      0         0            0            0               0   \n3               0      0         0            0            0               0   \n4               0      0         0            0            0               0   \n...           ...    ...       ...          ...          ...             ...   \n123653          1      6         1           28            4               2   \n123654          0      6         1           28            4               2   \n123655          0      2         1           30            4               6   \n123656          0      7         1           30            4               2   \n123657          0      5         3           23            2               1   \n\n        emui_dev_1  net_type_1  adv_prim_id_1  hispace_app_tags_1  ...  \\\n0                0           0              0                   0  ...   \n1               19           6             16                  31  ...   \n2                0           0              0                   0  ...   \n3                0           0              0                   0  ...   \n4                0           0              0                   0  ...   \n...            ...         ...            ...                 ...  ...   \n123653          15           3            323                   7  ...   \n123654          15           5            115                   7  ...   \n123655          10           6            389                  35  ...   \n123656           9           6            250                  31  ...   \n123657           1           6            115                   7  ...   \n\n        e_ch_1  e_m_1  e_po_1  e_rn_1  e_section_1  label_y_1  cillabel_1  \\\n0           10    128      22      12            0          0           0   \n1           10    146      22      70            0          0           0   \n2            2     65      18       1            0          0           0   \n3           10     65      12      12            0          2           0   \n4           10     65       4      34            0          0           0   \n...        ...    ...     ...     ...          ...        ...         ...   \n123653       0      0       0       0            0          1           1   \n123654       0      0       0       0            0          1           1   \n123655      10    103      20      34            0          0           0   \n123656       0      0       0       0            0          1           1   \n123657       0      0       0       0            0          1           1   \n\n        pro_1  clicked_1  residence_combined_1  \n0           0          0                     0  \n1           0          1                    35  \n2           0          0                     0  \n3           3          0                     0  \n4           0          0                     0  \n...       ...        ...                   ...  \n123653      0          0                    28  \n123654      0          0                    28  \n123655      0          1                    30  \n123656      0          0                    30  \n123657      0          0                    23  \n\n[123658 rows x 91 columns]",
      "text/html": "<div>\n<style scoped>\n    .dataframe tbody tr th:only-of-type {\n        vertical-align: middle;\n    }\n\n    .dataframe tbody tr th {\n        vertical-align: top;\n    }\n\n    .dataframe thead th {\n        text-align: right;\n    }\n</style>\n<table border=\"1\" class=\"dataframe\">\n  <thead>\n    <tr style=\"text-align: right;\">\n      <th></th>\n      <th>label_x_1</th>\n      <th>age_1</th>\n      <th>gender_1</th>\n      <th>residence_1</th>\n      <th>city_rank_1</th>\n      <th>series_group_1</th>\n      <th>emui_dev_1</th>\n      <th>net_type_1</th>\n      <th>adv_prim_id_1</th>\n      <th>hispace_app_tags_1</th>\n      <th>...</th>\n      <th>e_ch_1</th>\n      <th>e_m_1</th>\n      <th>e_po_1</th>\n      <th>e_rn_1</th>\n      <th>e_section_1</th>\n      <th>label_y_1</th>\n      <th>cillabel_1</th>\n      <th>pro_1</th>\n      <th>clicked_1</th>\n      <th>residence_combined_1</th>\n    </tr>\n  </thead>\n  <tbody>\n    <tr>\n      <th>0</th>\n      <td>0</td>\n      <td>0</td>\n      <td>0</td>\n      <td>0</td>\n      <td>0</td>\n      <td>0</td>\n      <td>0</td>\n      <td>0</td>\n      <td>0</td>\n      <td>0</td>\n      <td>...</td>\n      <td>10</td>\n      <td>128</td>\n      <td>22</td>\n      <td>12</td>\n      <td>0</td>\n      <td>0</td>\n      <td>0</td>\n      <td>0</td>\n      <td>0</td>\n      <td>0</td>\n    </tr>\n    <tr>\n      <th>1</th>\n      <td>0</td>\n      <td>4</td>\n      <td>1</td>\n      <td>35</td>\n      <td>1</td>\n      <td>7</td>\n      <td>19</td>\n      <td>6</td>\n      <td>16</td>\n      <td>31</td>\n      <td>...</td>\n      <td>10</td>\n      <td>146</td>\n      <td>22</td>\n      <td>70</td>\n      <td>0</td>\n      <td>0</td>\n      <td>0</td>\n      <td>0</td>\n      <td>1</td>\n      <td>35</td>\n    </tr>\n    <tr>\n      <th>2</th>\n      <td>0</td>\n      <td>0</td>\n      <td>0</td>\n      <td>0</td>\n      <td>0</td>\n      <td>0</td>\n      <td>0</td>\n      <td>0</td>\n      <td>0</td>\n      <td>0</td>\n      <td>...</td>\n      <td>2</td>\n      <td>65</td>\n      <td>18</td>\n      <td>1</td>\n      <td>0</td>\n      <td>0</td>\n      <td>0</td>\n      <td>0</td>\n      <td>0</td>\n      <td>0</td>\n    </tr>\n    <tr>\n      <th>3</th>\n      <td>0</td>\n      <td>0</td>\n      <td>0</td>\n      <td>0</td>\n      <td>0</td>\n      <td>0</td>\n      <td>0</td>\n      <td>0</td>\n      <td>0</td>\n      <td>0</td>\n      <td>...</td>\n      <td>10</td>\n      <td>65</td>\n      <td>12</td>\n      <td>12</td>\n      <td>0</td>\n      <td>2</td>\n      <td>0</td>\n      <td>3</td>\n      <td>0</td>\n      <td>0</td>\n    </tr>\n    <tr>\n      <th>4</th>\n      <td>0</td>\n      <td>0</td>\n      <td>0</td>\n      <td>0</td>\n      <td>0</td>\n      <td>0</td>\n      <td>0</td>\n      <td>0</td>\n      <td>0</td>\n      <td>0</td>\n      <td>...</td>\n      <td>10</td>\n      <td>65</td>\n      <td>4</td>\n      <td>34</td>\n      <td>0</td>\n      <td>0</td>\n      <td>0</td>\n      <td>0</td>\n      <td>0</td>\n      <td>0</td>\n    </tr>\n    <tr>\n      <th>...</th>\n      <td>...</td>\n      <td>...</td>\n      <td>...</td>\n      <td>...</td>\n      <td>...</td>\n      <td>...</td>\n      <td>...</td>\n      <td>...</td>\n      <td>...</td>\n      <td>...</td>\n      <td>...</td>\n      <td>...</td>\n      <td>...</td>\n      <td>...</td>\n      <td>...</td>\n      <td>...</td>\n      <td>...</td>\n      <td>...</td>\n      <td>...</td>\n      <td>...</td>\n      <td>...</td>\n    </tr>\n    <tr>\n      <th>123653</th>\n      <td>1</td>\n      <td>6</td>\n      <td>1</td>\n      <td>28</td>\n      <td>4</td>\n      <td>2</td>\n      <td>15</td>\n      <td>3</td>\n      <td>323</td>\n      <td>7</td>\n      <td>...</td>\n      <td>0</td>\n      <td>0</td>\n      <td>0</td>\n      <td>0</td>\n      <td>0</td>\n      <td>1</td>\n      <td>1</td>\n      <td>0</td>\n      <td>0</td>\n      <td>28</td>\n    </tr>\n    <tr>\n      <th>123654</th>\n      <td>0</td>\n      <td>6</td>\n      <td>1</td>\n      <td>28</td>\n      <td>4</td>\n      <td>2</td>\n      <td>15</td>\n      <td>5</td>\n      <td>115</td>\n      <td>7</td>\n      <td>...</td>\n      <td>0</td>\n      <td>0</td>\n      <td>0</td>\n      <td>0</td>\n      <td>0</td>\n      <td>1</td>\n      <td>1</td>\n      <td>0</td>\n      <td>0</td>\n      <td>28</td>\n    </tr>\n    <tr>\n      <th>123655</th>\n      <td>0</td>\n      <td>2</td>\n      <td>1</td>\n      <td>30</td>\n      <td>4</td>\n      <td>6</td>\n      <td>10</td>\n      <td>6</td>\n      <td>389</td>\n      <td>35</td>\n      <td>...</td>\n      <td>10</td>\n      <td>103</td>\n      <td>20</td>\n      <td>34</td>\n      <td>0</td>\n      <td>0</td>\n      <td>0</td>\n      <td>0</td>\n      <td>1</td>\n      <td>30</td>\n    </tr>\n    <tr>\n      <th>123656</th>\n      <td>0</td>\n      <td>7</td>\n      <td>1</td>\n      <td>30</td>\n      <td>4</td>\n      <td>2</td>\n      <td>9</td>\n      <td>6</td>\n      <td>250</td>\n      <td>31</td>\n      <td>...</td>\n      <td>0</td>\n      <td>0</td>\n      <td>0</td>\n      <td>0</td>\n      <td>0</td>\n      <td>1</td>\n      <td>1</td>\n      <td>0</td>\n      <td>0</td>\n      <td>30</td>\n    </tr>\n    <tr>\n      <th>123657</th>\n      <td>0</td>\n      <td>5</td>\n      <td>3</td>\n      <td>23</td>\n      <td>2</td>\n      <td>1</td>\n      <td>1</td>\n      <td>6</td>\n      <td>115</td>\n      <td>7</td>\n      <td>...</td>\n      <td>0</td>\n      <td>0</td>\n      <td>0</td>\n      <td>0</td>\n      <td>0</td>\n      <td>1</td>\n      <td>1</td>\n      <td>0</td>\n      <td>0</td>\n      <td>23</td>\n    </tr>\n  </tbody>\n</table>\n<p>123658 rows × 91 columns</p>\n</div>"
     },
     "execution_count": 35,
     "metadata": {},
     "output_type": "execute_result"
    }
   ],
   "source": [
    "merged_data.drop(columns=['creat_type_cd_1','inter_type_cd_1'])"
   ],
   "metadata": {
    "collapsed": false,
    "ExecuteTime": {
     "end_time": "2024-06-27T19:58:10.774982600Z",
     "start_time": "2024-06-27T19:58:10.732022600Z"
    }
   },
   "id": "52f4a80b552a6685"
  },
  {
   "cell_type": "code",
   "execution_count": 35,
   "outputs": [],
   "source": [],
   "metadata": {
    "collapsed": false,
    "ExecuteTime": {
     "end_time": "2024-06-27T19:58:10.783131500Z",
     "start_time": "2024-06-27T19:58:10.775623400Z"
    }
   },
   "id": "404122877e3187d"
  },
  {
   "cell_type": "code",
   "execution_count": 36,
   "outputs": [],
   "source": [
    "\n",
    "pos_click = merged_data[merged_data['clicked_1'] == True]\n",
    "\n",
    "# filter rows where clicked is False\n",
    "neg_click = merged_data[merged_data['clicked_1'] == False]\n",
    "\n",
    "# save to csv files\n",
    "pos_click.to_csv('pos_click.csv', index=False)\n",
    "neg_click.to_csv('neg_click.csv', index=False)"
   ],
   "metadata": {
    "collapsed": false,
    "ExecuteTime": {
     "end_time": "2024-06-27T19:58:11.808066600Z",
     "start_time": "2024-06-27T19:58:10.778131700Z"
    }
   },
   "id": "8556acfc1a58ace5"
  },
  {
   "cell_type": "code",
   "execution_count": 37,
   "outputs": [
    {
     "data": {
      "text/plain": "        label_x_1  age_1  gender_1  residence_1  city_rank_1  series_group_1  \\\n1               0      4         1           35            1               7   \n7               0      4         1           17            4               2   \n8               0      4         1           17            4               2   \n9               0      4         1           17            4               2   \n10              0      4         1           22            4               6   \n...           ...    ...       ...          ...          ...             ...   \n123643          0      7         1            3            1               2   \n123644          0      7         1            3            1               2   \n123645          0      7         1            3            1               2   \n123646          0      4         2           24            1               2   \n123655          0      2         1           30            4               6   \n\n        emui_dev_1  net_type_1  creat_type_cd_1  adv_prim_id_1  ...  e_ch_1  \\\n1               19           6                8             16  ...      10   \n7                9           6                8            250  ...      10   \n8                9           6                8            137  ...      10   \n9                9           6                8            147  ...      10   \n10               8           6                1            436  ...      10   \n...            ...         ...              ...            ...  ...     ...   \n123643          15           3                8             93  ...      10   \n123644          15           3                8             93  ...      10   \n123645          15           3                8             93  ...      10   \n123646          10           6                8             16  ...      10   \n123655          10           6                1            389  ...      10   \n\n        e_m_1  e_po_1  e_rn_1  e_section_1  label_y_1  cillabel_1  pro_1  \\\n1         146      22      70            0          0           0      0   \n7          65       9       1            0          2           0      0   \n8          65       9       1            0          2           0      0   \n9          65       9       1            0          2           0      0   \n10        142      21       1            1          0           0      0   \n...       ...     ...     ...          ...        ...         ...    ...   \n123643    144       4      23            0          0           0      0   \n123644    144       6       1            0          0           0      0   \n123645    144      23       1            0          0           0      0   \n123646    196      11       1            0          0           0      0   \n123655    103      20      34            0          0           0      0   \n\n        clicked_1  residence_combined_1  \n1               1                    35  \n7               1                    17  \n8               1                    17  \n9               1                    17  \n10              1                    22  \n...           ...                   ...  \n123643          1                     3  \n123644          1                     3  \n123645          1                     3  \n123646          1                    24  \n123655          1                    30  \n\n[72728 rows x 93 columns]",
      "text/html": "<div>\n<style scoped>\n    .dataframe tbody tr th:only-of-type {\n        vertical-align: middle;\n    }\n\n    .dataframe tbody tr th {\n        vertical-align: top;\n    }\n\n    .dataframe thead th {\n        text-align: right;\n    }\n</style>\n<table border=\"1\" class=\"dataframe\">\n  <thead>\n    <tr style=\"text-align: right;\">\n      <th></th>\n      <th>label_x_1</th>\n      <th>age_1</th>\n      <th>gender_1</th>\n      <th>residence_1</th>\n      <th>city_rank_1</th>\n      <th>series_group_1</th>\n      <th>emui_dev_1</th>\n      <th>net_type_1</th>\n      <th>creat_type_cd_1</th>\n      <th>adv_prim_id_1</th>\n      <th>...</th>\n      <th>e_ch_1</th>\n      <th>e_m_1</th>\n      <th>e_po_1</th>\n      <th>e_rn_1</th>\n      <th>e_section_1</th>\n      <th>label_y_1</th>\n      <th>cillabel_1</th>\n      <th>pro_1</th>\n      <th>clicked_1</th>\n      <th>residence_combined_1</th>\n    </tr>\n  </thead>\n  <tbody>\n    <tr>\n      <th>1</th>\n      <td>0</td>\n      <td>4</td>\n      <td>1</td>\n      <td>35</td>\n      <td>1</td>\n      <td>7</td>\n      <td>19</td>\n      <td>6</td>\n      <td>8</td>\n      <td>16</td>\n      <td>...</td>\n      <td>10</td>\n      <td>146</td>\n      <td>22</td>\n      <td>70</td>\n      <td>0</td>\n      <td>0</td>\n      <td>0</td>\n      <td>0</td>\n      <td>1</td>\n      <td>35</td>\n    </tr>\n    <tr>\n      <th>7</th>\n      <td>0</td>\n      <td>4</td>\n      <td>1</td>\n      <td>17</td>\n      <td>4</td>\n      <td>2</td>\n      <td>9</td>\n      <td>6</td>\n      <td>8</td>\n      <td>250</td>\n      <td>...</td>\n      <td>10</td>\n      <td>65</td>\n      <td>9</td>\n      <td>1</td>\n      <td>0</td>\n      <td>2</td>\n      <td>0</td>\n      <td>0</td>\n      <td>1</td>\n      <td>17</td>\n    </tr>\n    <tr>\n      <th>8</th>\n      <td>0</td>\n      <td>4</td>\n      <td>1</td>\n      <td>17</td>\n      <td>4</td>\n      <td>2</td>\n      <td>9</td>\n      <td>6</td>\n      <td>8</td>\n      <td>137</td>\n      <td>...</td>\n      <td>10</td>\n      <td>65</td>\n      <td>9</td>\n      <td>1</td>\n      <td>0</td>\n      <td>2</td>\n      <td>0</td>\n      <td>0</td>\n      <td>1</td>\n      <td>17</td>\n    </tr>\n    <tr>\n      <th>9</th>\n      <td>0</td>\n      <td>4</td>\n      <td>1</td>\n      <td>17</td>\n      <td>4</td>\n      <td>2</td>\n      <td>9</td>\n      <td>6</td>\n      <td>8</td>\n      <td>147</td>\n      <td>...</td>\n      <td>10</td>\n      <td>65</td>\n      <td>9</td>\n      <td>1</td>\n      <td>0</td>\n      <td>2</td>\n      <td>0</td>\n      <td>0</td>\n      <td>1</td>\n      <td>17</td>\n    </tr>\n    <tr>\n      <th>10</th>\n      <td>0</td>\n      <td>4</td>\n      <td>1</td>\n      <td>22</td>\n      <td>4</td>\n      <td>6</td>\n      <td>8</td>\n      <td>6</td>\n      <td>1</td>\n      <td>436</td>\n      <td>...</td>\n      <td>10</td>\n      <td>142</td>\n      <td>21</td>\n      <td>1</td>\n      <td>1</td>\n      <td>0</td>\n      <td>0</td>\n      <td>0</td>\n      <td>1</td>\n      <td>22</td>\n    </tr>\n    <tr>\n      <th>...</th>\n      <td>...</td>\n      <td>...</td>\n      <td>...</td>\n      <td>...</td>\n      <td>...</td>\n      <td>...</td>\n      <td>...</td>\n      <td>...</td>\n      <td>...</td>\n      <td>...</td>\n      <td>...</td>\n      <td>...</td>\n      <td>...</td>\n      <td>...</td>\n      <td>...</td>\n      <td>...</td>\n      <td>...</td>\n      <td>...</td>\n      <td>...</td>\n      <td>...</td>\n      <td>...</td>\n    </tr>\n    <tr>\n      <th>123643</th>\n      <td>0</td>\n      <td>7</td>\n      <td>1</td>\n      <td>3</td>\n      <td>1</td>\n      <td>2</td>\n      <td>15</td>\n      <td>3</td>\n      <td>8</td>\n      <td>93</td>\n      <td>...</td>\n      <td>10</td>\n      <td>144</td>\n      <td>4</td>\n      <td>23</td>\n      <td>0</td>\n      <td>0</td>\n      <td>0</td>\n      <td>0</td>\n      <td>1</td>\n      <td>3</td>\n    </tr>\n    <tr>\n      <th>123644</th>\n      <td>0</td>\n      <td>7</td>\n      <td>1</td>\n      <td>3</td>\n      <td>1</td>\n      <td>2</td>\n      <td>15</td>\n      <td>3</td>\n      <td>8</td>\n      <td>93</td>\n      <td>...</td>\n      <td>10</td>\n      <td>144</td>\n      <td>6</td>\n      <td>1</td>\n      <td>0</td>\n      <td>0</td>\n      <td>0</td>\n      <td>0</td>\n      <td>1</td>\n      <td>3</td>\n    </tr>\n    <tr>\n      <th>123645</th>\n      <td>0</td>\n      <td>7</td>\n      <td>1</td>\n      <td>3</td>\n      <td>1</td>\n      <td>2</td>\n      <td>15</td>\n      <td>3</td>\n      <td>8</td>\n      <td>93</td>\n      <td>...</td>\n      <td>10</td>\n      <td>144</td>\n      <td>23</td>\n      <td>1</td>\n      <td>0</td>\n      <td>0</td>\n      <td>0</td>\n      <td>0</td>\n      <td>1</td>\n      <td>3</td>\n    </tr>\n    <tr>\n      <th>123646</th>\n      <td>0</td>\n      <td>4</td>\n      <td>2</td>\n      <td>24</td>\n      <td>1</td>\n      <td>2</td>\n      <td>10</td>\n      <td>6</td>\n      <td>8</td>\n      <td>16</td>\n      <td>...</td>\n      <td>10</td>\n      <td>196</td>\n      <td>11</td>\n      <td>1</td>\n      <td>0</td>\n      <td>0</td>\n      <td>0</td>\n      <td>0</td>\n      <td>1</td>\n      <td>24</td>\n    </tr>\n    <tr>\n      <th>123655</th>\n      <td>0</td>\n      <td>2</td>\n      <td>1</td>\n      <td>30</td>\n      <td>4</td>\n      <td>6</td>\n      <td>10</td>\n      <td>6</td>\n      <td>1</td>\n      <td>389</td>\n      <td>...</td>\n      <td>10</td>\n      <td>103</td>\n      <td>20</td>\n      <td>34</td>\n      <td>0</td>\n      <td>0</td>\n      <td>0</td>\n      <td>0</td>\n      <td>1</td>\n      <td>30</td>\n    </tr>\n  </tbody>\n</table>\n<p>72728 rows × 93 columns</p>\n</div>"
     },
     "execution_count": 37,
     "metadata": {},
     "output_type": "execute_result"
    }
   ],
   "source": [
    "pos_click"
   ],
   "metadata": {
    "collapsed": false,
    "ExecuteTime": {
     "end_time": "2024-06-27T19:58:11.825905100Z",
     "start_time": "2024-06-27T19:58:11.808066600Z"
    }
   },
   "id": "81a77369cfa6f79"
  },
  {
   "cell_type": "code",
   "execution_count": 37,
   "outputs": [],
   "source": [],
   "metadata": {
    "collapsed": false,
    "ExecuteTime": {
     "end_time": "2024-06-27T19:58:11.832126Z",
     "start_time": "2024-06-27T19:58:11.825905100Z"
    }
   },
   "id": "7b0983438be3fc8f"
  },
  {
   "cell_type": "code",
   "execution_count": 37,
   "outputs": [],
   "source": [],
   "metadata": {
    "collapsed": false,
    "ExecuteTime": {
     "end_time": "2024-06-27T19:58:11.832703700Z",
     "start_time": "2024-06-27T19:58:11.828737800Z"
    }
   },
   "id": "41422731cf49caa8"
  },
  {
   "cell_type": "code",
   "execution_count": 37,
   "outputs": [],
   "source": [
    "\n"
   ],
   "metadata": {
    "collapsed": false,
    "ExecuteTime": {
     "end_time": "2024-06-27T19:58:11.832703700Z",
     "start_time": "2024-06-27T19:58:11.830245Z"
    }
   },
   "id": "5bc6bc86b16b9a4d"
  },
  {
   "cell_type": "code",
   "execution_count": 37,
   "outputs": [],
   "source": [],
   "metadata": {
    "collapsed": false,
    "ExecuteTime": {
     "end_time": "2024-06-27T19:58:11.843674100Z",
     "start_time": "2024-06-27T19:58:11.832126Z"
    }
   },
   "id": "20ac2c6f61d82678"
  },
  {
   "cell_type": "code",
   "execution_count": 37,
   "outputs": [],
   "source": [],
   "metadata": {
    "collapsed": false,
    "ExecuteTime": {
     "end_time": "2024-06-27T19:58:11.843674100Z",
     "start_time": "2024-06-27T19:58:11.834210900Z"
    }
   },
   "id": "dc37d23ffd37a050"
  },
  {
   "cell_type": "code",
   "execution_count": 37,
   "outputs": [],
   "source": [],
   "metadata": {
    "collapsed": false,
    "ExecuteTime": {
     "end_time": "2024-06-27T19:58:11.843674100Z",
     "start_time": "2024-06-27T19:58:11.837208100Z"
    }
   },
   "id": "8def3f9af2aefebc"
  },
  {
   "cell_type": "code",
   "execution_count": 37,
   "outputs": [],
   "source": [],
   "metadata": {
    "collapsed": false,
    "ExecuteTime": {
     "end_time": "2024-06-27T19:58:11.864680600Z",
     "start_time": "2024-06-27T19:58:11.838715100Z"
    }
   },
   "id": "a1cdba538d66635f"
  },
  {
   "cell_type": "code",
   "execution_count": 37,
   "outputs": [],
   "source": [],
   "metadata": {
    "collapsed": false,
    "ExecuteTime": {
     "end_time": "2024-06-27T19:58:11.876680800Z",
     "start_time": "2024-06-27T19:58:11.841460700Z"
    }
   },
   "id": "ccd119c0e8d5a504"
  },
  {
   "cell_type": "code",
   "execution_count": 37,
   "outputs": [],
   "source": [],
   "metadata": {
    "collapsed": false,
    "ExecuteTime": {
     "end_time": "2024-06-27T19:58:11.877680700Z",
     "start_time": "2024-06-27T19:58:11.842967900Z"
    }
   },
   "id": "36ed61bc622950e4"
  }
 ],
 "metadata": {
  "kernelspec": {
   "display_name": "Python 3",
   "language": "python",
   "name": "python3"
  },
  "language_info": {
   "codemirror_mode": {
    "name": "ipython",
    "version": 2
   },
   "file_extension": ".py",
   "mimetype": "text/x-python",
   "name": "python",
   "nbconvert_exporter": "python",
   "pygments_lexer": "ipython2",
   "version": "2.7.6"
  }
 },
 "nbformat": 4,
 "nbformat_minor": 5
}
