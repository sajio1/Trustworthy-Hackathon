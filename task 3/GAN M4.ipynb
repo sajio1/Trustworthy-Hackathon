{
 "cells": [
  {
   "cell_type": "code",
   "outputs": [],
   "source": [
    "import pandas as pd\n",
    "import numpy as np\n",
    "from tensorflow.keras.models import Model, Sequential\n",
    "from tensorflow.keras.layers import Input, Dense, LeakyReLU, BatchNormalization\n",
    "from tensorflow.keras.optimizers import Adam\n",
    "from sklearn.preprocessing import MinMaxScaler\n",
    "import tensorflow as tf\n",
    "np.random.seed(42)\n",
    "tf.random.set_seed(42)\n"
   ],
   "metadata": {
    "collapsed": false,
    "ExecuteTime": {
     "end_time": "2024-06-28T04:53:30.976122Z",
     "start_time": "2024-06-28T04:53:27.855629Z"
    }
   },
   "id": "b8c88fca6834d655",
   "execution_count": 1
  },
  {
   "cell_type": "code",
   "outputs": [],
   "source": [
    "# This model works optimally around 100-200 epochs before it diverges "
   ],
   "metadata": {
    "collapsed": false
   },
   "id": "4bc05e8a9a0fe937"
  },
  {
   "cell_type": "code",
   "outputs": [],
   "source": [
    "class GAN:\n",
    "    def __init__(self, latent_dim, data_dim):\n",
    "        # Initialize GAN parameters\n",
    "        self.latent_dim = latent_dim  # Dimension of the noise vector\n",
    "        self.data_dim = data_dim  # Dimension of the data\n",
    "\n",
    "        # Build and compile the discriminator\n",
    "        self.discriminator = self.build_discriminator()\n",
    "        self.discriminator.compile(\n",
    "            loss='binary_crossentropy',\n",
    "            optimizer=Adam(learning_rate=0.0002, beta_1=0.5),\n",
    "            metrics=['accuracy']\n",
    "        )\n",
    "\n",
    "        # Build the generator\n",
    "        self.generator = self.build_generator()\n",
    "\n",
    "        # Define the input for the generator\n",
    "        z = Input(shape=(self.latent_dim,))\n",
    "        generated_data = self.generator(z)\n",
    "\n",
    "        # For the combined model, we will only train the generator\n",
    "        self.discriminator.trainable = False\n",
    "\n",
    "        # Define the validity of the generated data through the discriminator\n",
    "        validity = self.discriminator(generated_data)\n",
    "\n",
    "        # Define and compile the combined model (generator stacked with discriminator)\n",
    "        self.combined = Model(z, validity)\n",
    "        self.combined.compile(\n",
    "            loss='binary_crossentropy',\n",
    "            optimizer=Adam(learning_rate=0.0001, beta_1=0.5)\n",
    "        )\n",
    "\n",
    "        # Reset the discriminator's trainable attribute to True\n",
    "        self.discriminator.trainable = True\n",
    "\n",
    "    def build_generator(self):\n",
    "        # Build the generator model\n",
    "        model = Sequential()\n",
    "        model.add(Input(shape=(self.latent_dim,)))\n",
    "        model.add(Dense(256))\n",
    "        model.add(LeakyReLU(negative_slope=0.2))\n",
    "        model.add(BatchNormalization(momentum=0.8))\n",
    "        model.add(Dense(512))\n",
    "        model.add(LeakyReLU(negative_slope=0.2))\n",
    "        model.add(BatchNormalization(momentum=0.8))\n",
    "        model.add(Dense(1024))\n",
    "        model.add(LeakyReLU(negative_slope=0.2))\n",
    "        model.add(BatchNormalization(momentum=0.8))\n",
    "        model.add(Dense(self.data_dim, activation='tanh'))\n",
    "        return model\n",
    "\n",
    "    def build_discriminator(self):\n",
    "        # Build the discriminator model\n",
    "        model = Sequential()\n",
    "        model.add(Input(shape=(self.data_dim,)))\n",
    "        model.add(Dense(512))\n",
    "        model.add(LeakyReLU(negative_slope=0.2))\n",
    "        model.add(Dense(256))\n",
    "        model.add(LeakyReLU(negative_slope=0.2))\n",
    "        model.add(Dense(1, activation='sigmoid'))\n",
    "        return model\n",
    "\n",
    "    def train(self, data, epochs, batch_size):\n",
    "        # Rescale the data to the range [-1, 1]\n",
    "        data = data * 2 - 1\n",
    "        valid = np.ones((batch_size, 1))\n",
    "        fake = np.zeros((batch_size, 1))\n",
    "\n",
    "        for epoch in range(epochs):\n",
    "            idx = np.random.randint(0, data.shape[0], batch_size)\n",
    "            real_data = data[idx]\n",
    "\n",
    "            noise = np.random.normal(0, 1, (batch_size, self.latent_dim))\n",
    "            generated_data = self.generator.predict(noise)\n",
    "\n",
    "            d_loss_real = self.discriminator.train_on_batch(real_data, valid)\n",
    "            d_loss_fake = self.discriminator.train_on_batch(generated_data, fake)\n",
    "            d_loss = 0.5 * np.add(d_loss_real, d_loss_fake)\n",
    "\n",
    "            noise = np.random.normal(0, 1, (batch_size, self.latent_dim))\n",
    "            g_loss = self.combined.train_on_batch(noise, valid)\n",
    "\n",
    "            print(f\"{epoch} [D loss: {d_loss[0]}, acc.: {100 * d_loss[1]}] [G loss: {g_loss}]\")\n"
   ],
   "metadata": {
    "collapsed": false,
    "ExecuteTime": {
     "end_time": "2024-06-28T04:53:30.984162Z",
     "start_time": "2024-06-28T04:53:30.977129Z"
    }
   },
   "id": "66266621e9cec7ad",
   "execution_count": 2
  },
  {
   "cell_type": "code",
   "outputs": [],
   "source": [
    "# Load CSV files and merge them\n",
    "ads_data_path = r'C:\\Users\\lucas\\Downloads\\GES Hackathon\\decrypted_file\\train\\train_data_ads.csv'  # Replace with actual file path\n",
    "feeds_data_path = r'C:\\Users\\lucas\\Downloads\\GES Hackathon\\decrypted_file\\train\\train_data_feeds.csv'  # Replace with actual file path\n",
    "\n",
    "ads_data = pd.read_csv(ads_data_path)\n",
    "feeds_data = pd.read_csv(feeds_data_path)"
   ],
   "metadata": {
    "collapsed": false,
    "ExecuteTime": {
     "end_time": "2024-06-28T04:54:07.660434Z",
     "start_time": "2024-06-28T04:53:30.985168Z"
    }
   },
   "id": "ae0da68152764bee",
   "execution_count": 3
  },
  {
   "cell_type": "code",
   "outputs": [],
   "source": [
    "# Fractions of data used as loading both of them in full raises a memory allocation error due to large size\n",
    "sample_ads_data = ads_data.sample(frac=.01, random_state=42)\n",
    "sample_feeds_data = feeds_data.sample(frac=.01, random_state=42)"
   ],
   "metadata": {
    "collapsed": false,
    "ExecuteTime": {
     "end_time": "2024-06-28T04:54:08.372622Z",
     "start_time": "2024-06-28T04:54:07.671460Z"
    }
   },
   "id": "9ca327d533b68d53",
   "execution_count": 4
  },
  {
   "cell_type": "code",
   "outputs": [],
   "source": [
    "click = pd.merge(sample_ads_data, sample_feeds_data, left_on='user_id', right_on='u_userId')"
   ],
   "metadata": {
    "collapsed": false,
    "ExecuteTime": {
     "end_time": "2024-06-28T04:54:08.475575Z",
     "start_time": "2024-06-28T04:54:08.374636Z"
    }
   },
   "id": "7e5973c86f4ee333",
   "execution_count": 5
  },
  {
   "cell_type": "code",
   "outputs": [
    {
     "data": {
      "text/plain": "   log_id  label_x  user_id  age  gender  residence  city  city_rank  \\\n0  389752        0   192266    2       2         46   354          2   \n1  389752        0   192266    2       2         46   354          2   \n2  237151        0   231175    6       4         33   319          3   \n3  963804        0   203833    8       2         30   113          5   \n4  376817        0   115573    2       2         27   162          5   \n\n   series_dev  series_group  ...  e_ch   e_m  e_po  e_pl  e_rn  e_section  \\\n0          11             8  ...    19   320     2   214     2          0   \n1          11             8  ...    19   320     9   214     6          0   \n2          27             2  ...    19  1185    16  1830     1          0   \n3          31             3  ...    19   565    10  1396    57          0   \n4          30             3  ...    19   327     7  2073     2          0   \n\n           e_et  label_y  cillabel  pro  \n0  202206080822       -1        -1    0  \n1  202206032022       -1        -1    0  \n2  202206051726       -1        -1    0  \n3  202206031220       -1        -1    0  \n4  202206070922        1        -1  100  \n\n[5 rows x 63 columns]",
      "text/html": "<div>\n<style scoped>\n    .dataframe tbody tr th:only-of-type {\n        vertical-align: middle;\n    }\n\n    .dataframe tbody tr th {\n        vertical-align: top;\n    }\n\n    .dataframe thead th {\n        text-align: right;\n    }\n</style>\n<table border=\"1\" class=\"dataframe\">\n  <thead>\n    <tr style=\"text-align: right;\">\n      <th></th>\n      <th>log_id</th>\n      <th>label_x</th>\n      <th>user_id</th>\n      <th>age</th>\n      <th>gender</th>\n      <th>residence</th>\n      <th>city</th>\n      <th>city_rank</th>\n      <th>series_dev</th>\n      <th>series_group</th>\n      <th>...</th>\n      <th>e_ch</th>\n      <th>e_m</th>\n      <th>e_po</th>\n      <th>e_pl</th>\n      <th>e_rn</th>\n      <th>e_section</th>\n      <th>e_et</th>\n      <th>label_y</th>\n      <th>cillabel</th>\n      <th>pro</th>\n    </tr>\n  </thead>\n  <tbody>\n    <tr>\n      <th>0</th>\n      <td>389752</td>\n      <td>0</td>\n      <td>192266</td>\n      <td>2</td>\n      <td>2</td>\n      <td>46</td>\n      <td>354</td>\n      <td>2</td>\n      <td>11</td>\n      <td>8</td>\n      <td>...</td>\n      <td>19</td>\n      <td>320</td>\n      <td>2</td>\n      <td>214</td>\n      <td>2</td>\n      <td>0</td>\n      <td>202206080822</td>\n      <td>-1</td>\n      <td>-1</td>\n      <td>0</td>\n    </tr>\n    <tr>\n      <th>1</th>\n      <td>389752</td>\n      <td>0</td>\n      <td>192266</td>\n      <td>2</td>\n      <td>2</td>\n      <td>46</td>\n      <td>354</td>\n      <td>2</td>\n      <td>11</td>\n      <td>8</td>\n      <td>...</td>\n      <td>19</td>\n      <td>320</td>\n      <td>9</td>\n      <td>214</td>\n      <td>6</td>\n      <td>0</td>\n      <td>202206032022</td>\n      <td>-1</td>\n      <td>-1</td>\n      <td>0</td>\n    </tr>\n    <tr>\n      <th>2</th>\n      <td>237151</td>\n      <td>0</td>\n      <td>231175</td>\n      <td>6</td>\n      <td>4</td>\n      <td>33</td>\n      <td>319</td>\n      <td>3</td>\n      <td>27</td>\n      <td>2</td>\n      <td>...</td>\n      <td>19</td>\n      <td>1185</td>\n      <td>16</td>\n      <td>1830</td>\n      <td>1</td>\n      <td>0</td>\n      <td>202206051726</td>\n      <td>-1</td>\n      <td>-1</td>\n      <td>0</td>\n    </tr>\n    <tr>\n      <th>3</th>\n      <td>963804</td>\n      <td>0</td>\n      <td>203833</td>\n      <td>8</td>\n      <td>2</td>\n      <td>30</td>\n      <td>113</td>\n      <td>5</td>\n      <td>31</td>\n      <td>3</td>\n      <td>...</td>\n      <td>19</td>\n      <td>565</td>\n      <td>10</td>\n      <td>1396</td>\n      <td>57</td>\n      <td>0</td>\n      <td>202206031220</td>\n      <td>-1</td>\n      <td>-1</td>\n      <td>0</td>\n    </tr>\n    <tr>\n      <th>4</th>\n      <td>376817</td>\n      <td>0</td>\n      <td>115573</td>\n      <td>2</td>\n      <td>2</td>\n      <td>27</td>\n      <td>162</td>\n      <td>5</td>\n      <td>30</td>\n      <td>3</td>\n      <td>...</td>\n      <td>19</td>\n      <td>327</td>\n      <td>7</td>\n      <td>2073</td>\n      <td>2</td>\n      <td>0</td>\n      <td>202206070922</td>\n      <td>1</td>\n      <td>-1</td>\n      <td>100</td>\n    </tr>\n  </tbody>\n</table>\n<p>5 rows × 63 columns</p>\n</div>"
     },
     "execution_count": 6,
     "metadata": {},
     "output_type": "execute_result"
    }
   ],
   "source": [
    "click.head()"
   ],
   "metadata": {
    "collapsed": false,
    "ExecuteTime": {
     "end_time": "2024-06-28T04:54:08.551876Z",
     "start_time": "2024-06-28T04:54:08.476590Z"
    }
   },
   "id": "3e56aff5008da276",
   "execution_count": 6
  },
  {
   "cell_type": "code",
   "outputs": [
    {
     "data": {
      "text/plain": "   log_id  label_x  user_id  age  gender  residence  city  city_rank  \\\n0  389752        0   192266    2       2         46   354          2   \n1  389752        0   192266    2       2         46   354          2   \n2  237151        0   231175    6       4         33   319          3   \n3  963804        0   203833    8       2         30   113          5   \n4  376817        0   115573    2       2         27   162          5   \n\n   series_dev  series_group  ...  u_newsCatInterestsST_y_1  \\\n0          11             8  ...                        85   \n1          11             8  ...                       173   \n2          27             2  ...                       112   \n3          31             3  ...                       168   \n4          30             3  ...                       199   \n\n   u_newsCatInterestsST_y_2  u_newsCatInterestsST_y_3  \\\n0                        65                       152   \n1                        50                       123   \n2                       109                        44   \n3                       167                        65   \n4                        25                       171   \n\n   u_newsCatInterestsST_y_4  u_newsCatInterestsST_y_5  u_click_ca2_news_1  \\\n0                       116                       177                  85   \n1                         0                         0                 173   \n2                       153                       157                 112   \n3                         0                         0                 168   \n4                        65                       104                  65   \n\n   u_click_ca2_news_2  u_click_ca2_news_3  u_click_ca2_news_4  \\\n0                 152                  65                 116   \n1                  50                 123                  80   \n2                  17                 109                  78   \n3                 167                 219                  65   \n4                 104                 131                 199   \n\n   u_click_ca2_news_5  \n0                  25  \n1                 114  \n2                 153  \n3                 109  \n4                  66  \n\n[5 rows x 104 columns]",
      "text/html": "<div>\n<style scoped>\n    .dataframe tbody tr th:only-of-type {\n        vertical-align: middle;\n    }\n\n    .dataframe tbody tr th {\n        vertical-align: top;\n    }\n\n    .dataframe thead th {\n        text-align: right;\n    }\n</style>\n<table border=\"1\" class=\"dataframe\">\n  <thead>\n    <tr style=\"text-align: right;\">\n      <th></th>\n      <th>log_id</th>\n      <th>label_x</th>\n      <th>user_id</th>\n      <th>age</th>\n      <th>gender</th>\n      <th>residence</th>\n      <th>city</th>\n      <th>city_rank</th>\n      <th>series_dev</th>\n      <th>series_group</th>\n      <th>...</th>\n      <th>u_newsCatInterestsST_y_1</th>\n      <th>u_newsCatInterestsST_y_2</th>\n      <th>u_newsCatInterestsST_y_3</th>\n      <th>u_newsCatInterestsST_y_4</th>\n      <th>u_newsCatInterestsST_y_5</th>\n      <th>u_click_ca2_news_1</th>\n      <th>u_click_ca2_news_2</th>\n      <th>u_click_ca2_news_3</th>\n      <th>u_click_ca2_news_4</th>\n      <th>u_click_ca2_news_5</th>\n    </tr>\n  </thead>\n  <tbody>\n    <tr>\n      <th>0</th>\n      <td>389752</td>\n      <td>0</td>\n      <td>192266</td>\n      <td>2</td>\n      <td>2</td>\n      <td>46</td>\n      <td>354</td>\n      <td>2</td>\n      <td>11</td>\n      <td>8</td>\n      <td>...</td>\n      <td>85</td>\n      <td>65</td>\n      <td>152</td>\n      <td>116</td>\n      <td>177</td>\n      <td>85</td>\n      <td>152</td>\n      <td>65</td>\n      <td>116</td>\n      <td>25</td>\n    </tr>\n    <tr>\n      <th>1</th>\n      <td>389752</td>\n      <td>0</td>\n      <td>192266</td>\n      <td>2</td>\n      <td>2</td>\n      <td>46</td>\n      <td>354</td>\n      <td>2</td>\n      <td>11</td>\n      <td>8</td>\n      <td>...</td>\n      <td>173</td>\n      <td>50</td>\n      <td>123</td>\n      <td>0</td>\n      <td>0</td>\n      <td>173</td>\n      <td>50</td>\n      <td>123</td>\n      <td>80</td>\n      <td>114</td>\n    </tr>\n    <tr>\n      <th>2</th>\n      <td>237151</td>\n      <td>0</td>\n      <td>231175</td>\n      <td>6</td>\n      <td>4</td>\n      <td>33</td>\n      <td>319</td>\n      <td>3</td>\n      <td>27</td>\n      <td>2</td>\n      <td>...</td>\n      <td>112</td>\n      <td>109</td>\n      <td>44</td>\n      <td>153</td>\n      <td>157</td>\n      <td>112</td>\n      <td>17</td>\n      <td>109</td>\n      <td>78</td>\n      <td>153</td>\n    </tr>\n    <tr>\n      <th>3</th>\n      <td>963804</td>\n      <td>0</td>\n      <td>203833</td>\n      <td>8</td>\n      <td>2</td>\n      <td>30</td>\n      <td>113</td>\n      <td>5</td>\n      <td>31</td>\n      <td>3</td>\n      <td>...</td>\n      <td>168</td>\n      <td>167</td>\n      <td>65</td>\n      <td>0</td>\n      <td>0</td>\n      <td>168</td>\n      <td>167</td>\n      <td>219</td>\n      <td>65</td>\n      <td>109</td>\n    </tr>\n    <tr>\n      <th>4</th>\n      <td>376817</td>\n      <td>0</td>\n      <td>115573</td>\n      <td>2</td>\n      <td>2</td>\n      <td>27</td>\n      <td>162</td>\n      <td>5</td>\n      <td>30</td>\n      <td>3</td>\n      <td>...</td>\n      <td>199</td>\n      <td>25</td>\n      <td>171</td>\n      <td>65</td>\n      <td>104</td>\n      <td>65</td>\n      <td>104</td>\n      <td>131</td>\n      <td>199</td>\n      <td>66</td>\n    </tr>\n  </tbody>\n</table>\n<p>5 rows × 104 columns</p>\n</div>"
     },
     "execution_count": 7,
     "metadata": {},
     "output_type": "execute_result"
    }
   ],
   "source": [
    "size = 5  # Every list seperated by ^ is at max 5 long \n",
    "\n",
    "def normalize_list_length(lst, max_length):\n",
    "    if len(lst) > max_length:  # If the list is longer than the fixed length\n",
    "        return lst[:max_length]  # Truncate the list\n",
    "    else:  # If the list is shorter than the fixed length\n",
    "        return lst + ['0'] * (max_length - len(lst))\n",
    "\n",
    "def split_list_column(df, column_name, max_length):\n",
    "    # Ensure the column contains lists before processing\n",
    "    if df[column_name].apply(lambda x: isinstance(x, list)).all():\n",
    "        # Create a DataFrame from the lists with appropriate column names\n",
    "        split_columns = pd.DataFrame(df[column_name].tolist(),\n",
    "                                     columns=[f'{column_name}_{i+1}' for i in range(max_length)])\n",
    "        # Drop the original column and join the new columns\n",
    "        df = df.drop(columns=[column_name]).join(split_columns)\n",
    "    return df\n",
    "\n",
    "\n",
    "for col in click.columns: # This creates necessary columns \n",
    "    if click[col].dtype == object:  \n",
    "        max_length = click[col].apply(lambda x: x.count('^') + 1 if isinstance(x, str) else 1).max() \n",
    "        click[col] = click[col].apply(lambda x: x.split('^') if isinstance(x, str) else x)\n",
    "        click[col] = click[col].apply(lambda x: normalize_list_length(x, max_length) if isinstance(x, list) else x)\n",
    "        click = split_list_column(click, col, max_length)\n",
    "\n",
    "click = click.drop(columns=['i_entities', 'i_docId_1', 'i_s_sourceId_1']) # Drop strings for now\n",
    "click.head()\n"
   ],
   "metadata": {
    "collapsed": false,
    "ExecuteTime": {
     "end_time": "2024-06-28T04:54:16.125926Z",
     "start_time": "2024-06-28T04:54:08.557885Z"
    }
   },
   "id": "52326aa138f1b7aa",
   "execution_count": 7
  },
  {
   "cell_type": "code",
   "outputs": [],
   "source": [
    "for column in click.columns: # Convert to integer\n",
    "    if click[column].dtype == object:\n",
    "        click[column] = click[column].astype(int)"
   ],
   "metadata": {
    "collapsed": false,
    "ExecuteTime": {
     "end_time": "2024-06-28T04:54:16.427108Z",
     "start_time": "2024-06-28T04:54:16.126932Z"
    }
   },
   "id": "26f5fc3a2dbd5b9e",
   "execution_count": 8
  },
  {
   "cell_type": "code",
   "outputs": [
    {
     "data": {
      "text/plain": "\u001B[1mModel: \"sequential\"\u001B[0m\n",
      "text/html": "<pre style=\"white-space:pre;overflow-x:auto;line-height:normal;font-family:Menlo,'DejaVu Sans Mono',consolas,'Courier New',monospace\"><span style=\"font-weight: bold\">Model: \"sequential\"</span>\n</pre>\n"
     },
     "metadata": {},
     "output_type": "display_data"
    },
    {
     "data": {
      "text/plain": "┏━━━━━━━━━━━━━━━━━━━━━━━━━━━━━━━━━┳━━━━━━━━━━━━━━━━━━━━━━━━┳━━━━━━━━━━━━━━━┓\n┃\u001B[1m \u001B[0m\u001B[1mLayer (type)                   \u001B[0m\u001B[1m \u001B[0m┃\u001B[1m \u001B[0m\u001B[1mOutput Shape          \u001B[0m\u001B[1m \u001B[0m┃\u001B[1m \u001B[0m\u001B[1m      Param #\u001B[0m\u001B[1m \u001B[0m┃\n┡━━━━━━━━━━━━━━━━━━━━━━━━━━━━━━━━━╇━━━━━━━━━━━━━━━━━━━━━━━━╇━━━━━━━━━━━━━━━┩\n│ dense (\u001B[38;5;33mDense\u001B[0m)                   │ (\u001B[38;5;45mNone\u001B[0m, \u001B[38;5;34m256\u001B[0m)            │        \u001B[38;5;34m26,880\u001B[0m │\n├─────────────────────────────────┼────────────────────────┼───────────────┤\n│ leaky_re_lu (\u001B[38;5;33mLeakyReLU\u001B[0m)         │ (\u001B[38;5;45mNone\u001B[0m, \u001B[38;5;34m256\u001B[0m)            │             \u001B[38;5;34m0\u001B[0m │\n├─────────────────────────────────┼────────────────────────┼───────────────┤\n│ dense_1 (\u001B[38;5;33mDense\u001B[0m)                 │ (\u001B[38;5;45mNone\u001B[0m, \u001B[38;5;34m1\u001B[0m)              │           \u001B[38;5;34m257\u001B[0m │\n└─────────────────────────────────┴────────────────────────┴───────────────┘\n",
      "text/html": "<pre style=\"white-space:pre;overflow-x:auto;line-height:normal;font-family:Menlo,'DejaVu Sans Mono',consolas,'Courier New',monospace\">┏━━━━━━━━━━━━━━━━━━━━━━━━━━━━━━━━━┳━━━━━━━━━━━━━━━━━━━━━━━━┳━━━━━━━━━━━━━━━┓\n┃<span style=\"font-weight: bold\"> Layer (type)                    </span>┃<span style=\"font-weight: bold\"> Output Shape           </span>┃<span style=\"font-weight: bold\">       Param # </span>┃\n┡━━━━━━━━━━━━━━━━━━━━━━━━━━━━━━━━━╇━━━━━━━━━━━━━━━━━━━━━━━━╇━━━━━━━━━━━━━━━┩\n│ dense (<span style=\"color: #0087ff; text-decoration-color: #0087ff\">Dense</span>)                   │ (<span style=\"color: #00d7ff; text-decoration-color: #00d7ff\">None</span>, <span style=\"color: #00af00; text-decoration-color: #00af00\">256</span>)            │        <span style=\"color: #00af00; text-decoration-color: #00af00\">26,880</span> │\n├─────────────────────────────────┼────────────────────────┼───────────────┤\n│ leaky_re_lu (<span style=\"color: #0087ff; text-decoration-color: #0087ff\">LeakyReLU</span>)         │ (<span style=\"color: #00d7ff; text-decoration-color: #00d7ff\">None</span>, <span style=\"color: #00af00; text-decoration-color: #00af00\">256</span>)            │             <span style=\"color: #00af00; text-decoration-color: #00af00\">0</span> │\n├─────────────────────────────────┼────────────────────────┼───────────────┤\n│ dense_1 (<span style=\"color: #0087ff; text-decoration-color: #0087ff\">Dense</span>)                 │ (<span style=\"color: #00d7ff; text-decoration-color: #00d7ff\">None</span>, <span style=\"color: #00af00; text-decoration-color: #00af00\">1</span>)              │           <span style=\"color: #00af00; text-decoration-color: #00af00\">257</span> │\n└─────────────────────────────────┴────────────────────────┴───────────────┘\n</pre>\n"
     },
     "metadata": {},
     "output_type": "display_data"
    },
    {
     "data": {
      "text/plain": "\u001B[1m Total params: \u001B[0m\u001B[38;5;34m27,137\u001B[0m (106.00 KB)\n",
      "text/html": "<pre style=\"white-space:pre;overflow-x:auto;line-height:normal;font-family:Menlo,'DejaVu Sans Mono',consolas,'Courier New',monospace\"><span style=\"font-weight: bold\"> Total params: </span><span style=\"color: #00af00; text-decoration-color: #00af00\">27,137</span> (106.00 KB)\n</pre>\n"
     },
     "metadata": {},
     "output_type": "display_data"
    },
    {
     "data": {
      "text/plain": "\u001B[1m Trainable params: \u001B[0m\u001B[38;5;34m27,137\u001B[0m (106.00 KB)\n",
      "text/html": "<pre style=\"white-space:pre;overflow-x:auto;line-height:normal;font-family:Menlo,'DejaVu Sans Mono',consolas,'Courier New',monospace\"><span style=\"font-weight: bold\"> Trainable params: </span><span style=\"color: #00af00; text-decoration-color: #00af00\">27,137</span> (106.00 KB)\n</pre>\n"
     },
     "metadata": {},
     "output_type": "display_data"
    },
    {
     "data": {
      "text/plain": "\u001B[1m Non-trainable params: \u001B[0m\u001B[38;5;34m0\u001B[0m (0.00 B)\n",
      "text/html": "<pre style=\"white-space:pre;overflow-x:auto;line-height:normal;font-family:Menlo,'DejaVu Sans Mono',consolas,'Courier New',monospace\"><span style=\"font-weight: bold\"> Non-trainable params: </span><span style=\"color: #00af00; text-decoration-color: #00af00\">0</span> (0.00 B)\n</pre>\n"
     },
     "metadata": {},
     "output_type": "display_data"
    },
    {
     "data": {
      "text/plain": "\u001B[1mModel: \"sequential_1\"\u001B[0m\n",
      "text/html": "<pre style=\"white-space:pre;overflow-x:auto;line-height:normal;font-family:Menlo,'DejaVu Sans Mono',consolas,'Courier New',monospace\"><span style=\"font-weight: bold\">Model: \"sequential_1\"</span>\n</pre>\n"
     },
     "metadata": {},
     "output_type": "display_data"
    },
    {
     "data": {
      "text/plain": "┏━━━━━━━━━━━━━━━━━━━━━━━━━━━━━━━━━┳━━━━━━━━━━━━━━━━━━━━━━━━┳━━━━━━━━━━━━━━━┓\n┃\u001B[1m \u001B[0m\u001B[1mLayer (type)                   \u001B[0m\u001B[1m \u001B[0m┃\u001B[1m \u001B[0m\u001B[1mOutput Shape          \u001B[0m\u001B[1m \u001B[0m┃\u001B[1m \u001B[0m\u001B[1m      Param #\u001B[0m\u001B[1m \u001B[0m┃\n┡━━━━━━━━━━━━━━━━━━━━━━━━━━━━━━━━━╇━━━━━━━━━━━━━━━━━━━━━━━━╇━━━━━━━━━━━━━━━┩\n│ dense_2 (\u001B[38;5;33mDense\u001B[0m)                 │ (\u001B[38;5;45mNone\u001B[0m, \u001B[38;5;34m256\u001B[0m)            │        \u001B[38;5;34m25,856\u001B[0m │\n├─────────────────────────────────┼────────────────────────┼───────────────┤\n│ leaky_re_lu_1 (\u001B[38;5;33mLeakyReLU\u001B[0m)       │ (\u001B[38;5;45mNone\u001B[0m, \u001B[38;5;34m256\u001B[0m)            │             \u001B[38;5;34m0\u001B[0m │\n├─────────────────────────────────┼────────────────────────┼───────────────┤\n│ batch_normalization             │ (\u001B[38;5;45mNone\u001B[0m, \u001B[38;5;34m256\u001B[0m)            │         \u001B[38;5;34m1,024\u001B[0m │\n│ (\u001B[38;5;33mBatchNormalization\u001B[0m)            │                        │               │\n├─────────────────────────────────┼────────────────────────┼───────────────┤\n│ dense_3 (\u001B[38;5;33mDense\u001B[0m)                 │ (\u001B[38;5;45mNone\u001B[0m, \u001B[38;5;34m104\u001B[0m)            │        \u001B[38;5;34m26,728\u001B[0m │\n└─────────────────────────────────┴────────────────────────┴───────────────┘\n",
      "text/html": "<pre style=\"white-space:pre;overflow-x:auto;line-height:normal;font-family:Menlo,'DejaVu Sans Mono',consolas,'Courier New',monospace\">┏━━━━━━━━━━━━━━━━━━━━━━━━━━━━━━━━━┳━━━━━━━━━━━━━━━━━━━━━━━━┳━━━━━━━━━━━━━━━┓\n┃<span style=\"font-weight: bold\"> Layer (type)                    </span>┃<span style=\"font-weight: bold\"> Output Shape           </span>┃<span style=\"font-weight: bold\">       Param # </span>┃\n┡━━━━━━━━━━━━━━━━━━━━━━━━━━━━━━━━━╇━━━━━━━━━━━━━━━━━━━━━━━━╇━━━━━━━━━━━━━━━┩\n│ dense_2 (<span style=\"color: #0087ff; text-decoration-color: #0087ff\">Dense</span>)                 │ (<span style=\"color: #00d7ff; text-decoration-color: #00d7ff\">None</span>, <span style=\"color: #00af00; text-decoration-color: #00af00\">256</span>)            │        <span style=\"color: #00af00; text-decoration-color: #00af00\">25,856</span> │\n├─────────────────────────────────┼────────────────────────┼───────────────┤\n│ leaky_re_lu_1 (<span style=\"color: #0087ff; text-decoration-color: #0087ff\">LeakyReLU</span>)       │ (<span style=\"color: #00d7ff; text-decoration-color: #00d7ff\">None</span>, <span style=\"color: #00af00; text-decoration-color: #00af00\">256</span>)            │             <span style=\"color: #00af00; text-decoration-color: #00af00\">0</span> │\n├─────────────────────────────────┼────────────────────────┼───────────────┤\n│ batch_normalization             │ (<span style=\"color: #00d7ff; text-decoration-color: #00d7ff\">None</span>, <span style=\"color: #00af00; text-decoration-color: #00af00\">256</span>)            │         <span style=\"color: #00af00; text-decoration-color: #00af00\">1,024</span> │\n│ (<span style=\"color: #0087ff; text-decoration-color: #0087ff\">BatchNormalization</span>)            │                        │               │\n├─────────────────────────────────┼────────────────────────┼───────────────┤\n│ dense_3 (<span style=\"color: #0087ff; text-decoration-color: #0087ff\">Dense</span>)                 │ (<span style=\"color: #00d7ff; text-decoration-color: #00d7ff\">None</span>, <span style=\"color: #00af00; text-decoration-color: #00af00\">104</span>)            │        <span style=\"color: #00af00; text-decoration-color: #00af00\">26,728</span> │\n└─────────────────────────────────┴────────────────────────┴───────────────┘\n</pre>\n"
     },
     "metadata": {},
     "output_type": "display_data"
    },
    {
     "data": {
      "text/plain": "\u001B[1m Total params: \u001B[0m\u001B[38;5;34m53,608\u001B[0m (209.41 KB)\n",
      "text/html": "<pre style=\"white-space:pre;overflow-x:auto;line-height:normal;font-family:Menlo,'DejaVu Sans Mono',consolas,'Courier New',monospace\"><span style=\"font-weight: bold\"> Total params: </span><span style=\"color: #00af00; text-decoration-color: #00af00\">53,608</span> (209.41 KB)\n</pre>\n"
     },
     "metadata": {},
     "output_type": "display_data"
    },
    {
     "data": {
      "text/plain": "\u001B[1m Trainable params: \u001B[0m\u001B[38;5;34m53,096\u001B[0m (207.41 KB)\n",
      "text/html": "<pre style=\"white-space:pre;overflow-x:auto;line-height:normal;font-family:Menlo,'DejaVu Sans Mono',consolas,'Courier New',monospace\"><span style=\"font-weight: bold\"> Trainable params: </span><span style=\"color: #00af00; text-decoration-color: #00af00\">53,096</span> (207.41 KB)\n</pre>\n"
     },
     "metadata": {},
     "output_type": "display_data"
    },
    {
     "data": {
      "text/plain": "\u001B[1m Non-trainable params: \u001B[0m\u001B[38;5;34m512\u001B[0m (2.00 KB)\n",
      "text/html": "<pre style=\"white-space:pre;overflow-x:auto;line-height:normal;font-family:Menlo,'DejaVu Sans Mono',consolas,'Courier New',monospace\"><span style=\"font-weight: bold\"> Non-trainable params: </span><span style=\"color: #00af00; text-decoration-color: #00af00\">512</span> (2.00 KB)\n</pre>\n"
     },
     "metadata": {},
     "output_type": "display_data"
    },
    {
     "name": "stdout",
     "output_type": "stream",
     "text": [
      "Discriminator trainable weights: [<KerasVariable shape=(104, 256), dtype=float32, path=sequential/dense/kernel>, <KerasVariable shape=(256,), dtype=float32, path=sequential/dense/bias>, <KerasVariable shape=(256, 1), dtype=float32, path=sequential/dense_1/kernel>, <KerasVariable shape=(1,), dtype=float32, path=sequential/dense_1/bias>]\n",
      "Generator trainable weights: [<KerasVariable shape=(100, 256), dtype=float32, path=sequential_1/dense_2/kernel>, <KerasVariable shape=(256,), dtype=float32, path=sequential_1/dense_2/bias>, <KerasVariable shape=(256,), dtype=float32, path=sequential_1/batch_normalization/gamma>, <KerasVariable shape=(256,), dtype=float32, path=sequential_1/batch_normalization/beta>, <KerasVariable shape=(256, 104), dtype=float32, path=sequential_1/dense_3/kernel>, <KerasVariable shape=(104,), dtype=float32, path=sequential_1/dense_3/bias>]\n",
      "Combined model trainable weights: [<KerasVariable shape=(100, 256), dtype=float32, path=sequential_1/dense_2/kernel>, <KerasVariable shape=(256,), dtype=float32, path=sequential_1/dense_2/bias>, <KerasVariable shape=(256,), dtype=float32, path=sequential_1/batch_normalization/gamma>, <KerasVariable shape=(256,), dtype=float32, path=sequential_1/batch_normalization/beta>, <KerasVariable shape=(256, 104), dtype=float32, path=sequential_1/dense_3/kernel>, <KerasVariable shape=(104,), dtype=float32, path=sequential_1/dense_3/bias>, <KerasVariable shape=(104, 256), dtype=float32, path=sequential/dense/kernel>, <KerasVariable shape=(256,), dtype=float32, path=sequential/dense/bias>, <KerasVariable shape=(256, 1), dtype=float32, path=sequential/dense_1/kernel>, <KerasVariable shape=(1,), dtype=float32, path=sequential/dense_1/bias>]\n",
      "\u001B[1m4/4\u001B[0m \u001B[32m━━━━━━━━━━━━━━━━━━━━\u001B[0m\u001B[37m\u001B[0m \u001B[1m0s\u001B[0m 2ms/step  \n",
      "0 [D loss: [0.41706622 0.9941406 ]] [G loss: [array(0.44906867, dtype=float32), array(0.44906867, dtype=float32), array(0.99609375, dtype=float32)]]\n",
      "\u001B[1m4/4\u001B[0m \u001B[32m━━━━━━━━━━━━━━━━━━━━\u001B[0m\u001B[37m\u001B[0m \u001B[1m0s\u001B[0m 729us/step\n",
      "WARNING:tensorflow:5 out of the last 5 calls to <function TensorFlowTrainer.make_train_function.<locals>.one_step_on_iterator at 0x0000013305E1F740> triggered tf.function retracing. Tracing is expensive and the excessive number of tracings could be due to (1) creating @tf.function repeatedly in a loop, (2) passing tensors with different shapes, (3) passing Python objects instead of tensors. For (1), please define your @tf.function outside of the loop. For (2), @tf.function has reduce_retracing=True option that can avoid unnecessary retracing. For (3), please refer to https://www.tensorflow.org/guide/function#controlling_retracing and https://www.tensorflow.org/api_docs/python/tf/function for  more details.\n",
      "WARNING:tensorflow:6 out of the last 6 calls to <function TensorFlowTrainer.make_train_function.<locals>.one_step_on_iterator at 0x00000133078AF2E0> triggered tf.function retracing. Tracing is expensive and the excessive number of tracings could be due to (1) creating @tf.function repeatedly in a loop, (2) passing tensors with different shapes, (3) passing Python objects instead of tensors. For (1), please define your @tf.function outside of the loop. For (2), @tf.function has reduce_retracing=True option that can avoid unnecessary retracing. For (3), please refer to https://www.tensorflow.org/guide/function#controlling_retracing and https://www.tensorflow.org/api_docs/python/tf/function for  more details.\n",
      "1 [D loss: [0.42122936 0.9977213 ]] [G loss: [array(0.4279325, dtype=float32), array(0.4279325, dtype=float32), array(0.9980469, dtype=float32)]]\n",
      "\u001B[1m4/4\u001B[0m \u001B[32m━━━━━━━━━━━━━━━━━━━━\u001B[0m\u001B[37m\u001B[0m \u001B[1m0s\u001B[0m 1ms/step \n",
      "2 [D loss: [0.40596807 0.9985677 ]] [G loss: [array(0.40735808, dtype=float32), array(0.40735808, dtype=float32), array(0.99869794, dtype=float32)]]\n",
      "\u001B[1m4/4\u001B[0m \u001B[32m━━━━━━━━━━━━━━━━━━━━\u001B[0m\u001B[37m\u001B[0m \u001B[1m0s\u001B[0m 969us/step\n",
      "3 [D loss: [0.39130807 0.9989537 ]] [G loss: [array(0.39104694, dtype=float32), array(0.39104694, dtype=float32), array(0.99902344, dtype=float32)]]\n",
      "\u001B[1m4/4\u001B[0m \u001B[32m━━━━━━━━━━━━━━━━━━━━\u001B[0m\u001B[37m\u001B[0m \u001B[1m0s\u001B[0m 698us/step\n",
      "4 [D loss: [0.37559146 0.9991753 ]] [G loss: [array(0.37460572, dtype=float32), array(0.37460572, dtype=float32), array(0.99921876, dtype=float32)]]\n",
      "\u001B[1m4/4\u001B[0m \u001B[32m━━━━━━━━━━━━━━━━━━━━\u001B[0m\u001B[37m\u001B[0m \u001B[1m0s\u001B[0m 1ms/step \n",
      "5 [D loss: [0.36013827 0.9993193 ]] [G loss: [array(0.3585397, dtype=float32), array(0.3585397, dtype=float32), array(0.99934894, dtype=float32)]]\n",
      "\u001B[1m4/4\u001B[0m \u001B[32m━━━━━━━━━━━━━━━━━━━━\u001B[0m\u001B[37m\u001B[0m \u001B[1m0s\u001B[0m 642us/step\n",
      "6 [D loss: [0.3468989 0.9994205]] [G loss: [array(0.34510857, dtype=float32), array(0.34510857, dtype=float32), array(0.999442, dtype=float32)]]\n",
      "\u001B[1m4/4\u001B[0m \u001B[32m━━━━━━━━━━━━━━━━━━━━\u001B[0m\u001B[37m\u001B[0m \u001B[1m0s\u001B[0m 756us/step\n",
      "7 [D loss: [0.33489978 0.99949545]] [G loss: [array(0.33305502, dtype=float32), array(0.33305502, dtype=float32), array(0.9995117, dtype=float32)]]\n",
      "\u001B[1m4/4\u001B[0m \u001B[32m━━━━━━━━━━━━━━━━━━━━\u001B[0m\u001B[37m\u001B[0m \u001B[1m0s\u001B[0m 1ms/step \n",
      "8 [D loss: [0.32320112 0.9995532 ]] [G loss: [array(0.3215284, dtype=float32), array(0.3215284, dtype=float32), array(0.99956596, dtype=float32)]]\n",
      "\u001B[1m4/4\u001B[0m \u001B[32m━━━━━━━━━━━━━━━━━━━━\u001B[0m\u001B[37m\u001B[0m \u001B[1m0s\u001B[0m 1ms/step \n",
      "9 [D loss: [0.3119715 0.9995991]] [G loss: [array(0.310339, dtype=float32), array(0.310339, dtype=float32), array(0.99960935, dtype=float32)]]\n",
      "\u001B[1m4/4\u001B[0m \u001B[32m━━━━━━━━━━━━━━━━━━━━\u001B[0m\u001B[37m\u001B[0m \u001B[1m0s\u001B[0m 1ms/step \n",
      "10 [D loss: [0.30203742 0.9996364 ]] [G loss: [array(0.3004847, dtype=float32), array(0.3004847, dtype=float32), array(0.9996449, dtype=float32)]]\n",
      "\u001B[1m4/4\u001B[0m \u001B[32m━━━━━━━━━━━━━━━━━━━━\u001B[0m\u001B[37m\u001B[0m \u001B[1m0s\u001B[0m 1ms/step \n",
      "11 [D loss: [0.29245108 0.9996674 ]] [G loss: [array(0.29086694, dtype=float32), array(0.29086694, dtype=float32), array(0.9996745, dtype=float32)]]\n",
      "\u001B[1m4/4\u001B[0m \u001B[32m━━━━━━━━━━━━━━━━━━━━\u001B[0m\u001B[37m\u001B[0m \u001B[1m0s\u001B[0m 979us/step\n",
      "12 [D loss: [0.28387496 0.9996935 ]] [G loss: [array(0.2825139, dtype=float32), array(0.2825139, dtype=float32), array(0.99969953, dtype=float32)]]\n",
      "\u001B[1m4/4\u001B[0m \u001B[32m━━━━━━━━━━━━━━━━━━━━\u001B[0m\u001B[37m\u001B[0m \u001B[1m0s\u001B[0m 1ms/step \n",
      "13 [D loss: [0.2758465 0.9997158]] [G loss: [array(0.27445653, dtype=float32), array(0.27445653, dtype=float32), array(0.999721, dtype=float32)]]\n",
      "\u001B[1m4/4\u001B[0m \u001B[32m━━━━━━━━━━━━━━━━━━━━\u001B[0m\u001B[37m\u001B[0m \u001B[1m0s\u001B[0m 1ms/step \n",
      "14 [D loss: [0.26829863 0.9997351 ]] [G loss: [array(0.26699752, dtype=float32), array(0.26699752, dtype=float32), array(0.9997396, dtype=float32)]]\n",
      "\u001B[1m4/4\u001B[0m \u001B[32m━━━━━━━━━━━━━━━━━━━━\u001B[0m\u001B[37m\u001B[0m \u001B[1m0s\u001B[0m 1ms/step \n",
      "15 [D loss: [0.26134416 0.9997519 ]] [G loss: [array(0.2600571, dtype=float32), array(0.2600571, dtype=float32), array(0.99975586, dtype=float32)]]\n",
      "\u001B[1m4/4\u001B[0m \u001B[32m━━━━━━━━━━━━━━━━━━━━\u001B[0m\u001B[37m\u001B[0m \u001B[1m0s\u001B[0m 1ms/step \n",
      "16 [D loss: [0.25444788 0.9997667 ]] [G loss: [array(0.2532623, dtype=float32), array(0.2532623, dtype=float32), array(0.9997702, dtype=float32)]]\n",
      "\u001B[1m4/4\u001B[0m \u001B[32m━━━━━━━━━━━━━━━━━━━━\u001B[0m\u001B[37m\u001B[0m \u001B[1m0s\u001B[0m 608us/step\n",
      "17 [D loss: [0.24797878 0.9997799 ]] [G loss: [array(0.24689585, dtype=float32), array(0.24689585, dtype=float32), array(0.999783, dtype=float32)]]\n",
      "\u001B[1m4/4\u001B[0m \u001B[32m━━━━━━━━━━━━━━━━━━━━\u001B[0m\u001B[37m\u001B[0m \u001B[1m0s\u001B[0m 1ms/step \n",
      "18 [D loss: [0.24208114 0.9997916 ]] [G loss: [array(0.24101579, dtype=float32), array(0.24101579, dtype=float32), array(0.9997944, dtype=float32)]]\n",
      "\u001B[1m4/4\u001B[0m \u001B[32m━━━━━━━━━━━━━━━━━━━━\u001B[0m\u001B[37m\u001B[0m \u001B[1m0s\u001B[0m 682us/step\n",
      "19 [D loss: [0.23636776 0.9998022 ]] [G loss: [array(0.2353436, dtype=float32), array(0.2353436, dtype=float32), array(0.9998047, dtype=float32)]]\n",
      "\u001B[1m4/4\u001B[0m \u001B[32m━━━━━━━━━━━━━━━━━━━━\u001B[0m\u001B[37m\u001B[0m \u001B[1m0s\u001B[0m 970us/step\n",
      "20 [D loss: [0.23103386 0.9998117 ]] [G loss: [array(0.23004958, dtype=float32), array(0.23004958, dtype=float32), array(0.999814, dtype=float32)]]\n",
      "\u001B[1m4/4\u001B[0m \u001B[32m━━━━━━━━━━━━━━━━━━━━\u001B[0m\u001B[37m\u001B[0m \u001B[1m0s\u001B[0m 659us/step\n",
      "21 [D loss: [0.22596899 0.99982035]] [G loss: [array(0.2250378, dtype=float32), array(0.2250378, dtype=float32), array(0.99982244, dtype=float32)]]\n",
      "\u001B[1m4/4\u001B[0m \u001B[32m━━━━━━━━━━━━━━━━━━━━\u001B[0m\u001B[37m\u001B[0m \u001B[1m0s\u001B[0m 992us/step\n",
      "22 [D loss: [0.22119904 0.9998283 ]] [G loss: [array(0.22032367, dtype=float32), array(0.22032367, dtype=float32), array(0.9998302, dtype=float32)]]\n",
      "\u001B[1m4/4\u001B[0m \u001B[32m━━━━━━━━━━━━━━━━━━━━\u001B[0m\u001B[37m\u001B[0m \u001B[1m0s\u001B[0m 667us/step\n",
      "23 [D loss: [0.21652405 0.9998355 ]] [G loss: [array(0.21563436, dtype=float32), array(0.21563436, dtype=float32), array(0.9998372, dtype=float32)]]\n",
      "\u001B[1m4/4\u001B[0m \u001B[32m━━━━━━━━━━━━━━━━━━━━\u001B[0m\u001B[37m\u001B[0m \u001B[1m0s\u001B[0m 951us/step\n",
      "24 [D loss: [0.21199523 0.99984217]] [G loss: [array(0.21120243, dtype=float32), array(0.21120243, dtype=float32), array(0.9998438, dtype=float32)]]\n",
      "\u001B[1m4/4\u001B[0m \u001B[32m━━━━━━━━━━━━━━━━━━━━\u001B[0m\u001B[37m\u001B[0m \u001B[1m0s\u001B[0m 667us/step\n",
      "25 [D loss: [0.20792504 0.99984825]] [G loss: [array(0.20715751, dtype=float32), array(0.20715751, dtype=float32), array(0.99984974, dtype=float32)]]\n",
      "\u001B[1m4/4\u001B[0m \u001B[32m━━━━━━━━━━━━━━━━━━━━\u001B[0m\u001B[37m\u001B[0m \u001B[1m0s\u001B[0m 795us/step\n",
      "26 [D loss: [0.20396805 0.99985397]] [G loss: [array(0.20324431, dtype=float32), array(0.20324431, dtype=float32), array(0.99985534, dtype=float32)]]\n",
      "\u001B[1m4/4\u001B[0m \u001B[32m━━━━━━━━━━━━━━━━━━━━\u001B[0m\u001B[37m\u001B[0m \u001B[1m0s\u001B[0m 1ms/step \n",
      "27 [D loss: [0.20013842 0.9998592 ]] [G loss: [array(0.19946004, dtype=float32), array(0.19946004, dtype=float32), array(0.99986047, dtype=float32)]]\n",
      "\u001B[1m4/4\u001B[0m \u001B[32m━━━━━━━━━━━━━━━━━━━━\u001B[0m\u001B[37m\u001B[0m \u001B[1m0s\u001B[0m 998us/step\n",
      "28 [D loss: [0.19648528 0.9998641 ]] [G loss: [array(0.19581601, dtype=float32), array(0.19581601, dtype=float32), array(0.9998653, dtype=float32)]]\n",
      "\u001B[1m4/4\u001B[0m \u001B[32m━━━━━━━━━━━━━━━━━━━━\u001B[0m\u001B[37m\u001B[0m \u001B[1m0s\u001B[0m 1000us/step\n",
      "29 [D loss: [0.19313213 0.99986863]] [G loss: [array(0.19248645, dtype=float32), array(0.19248645, dtype=float32), array(0.99986976, dtype=float32)]]\n",
      "\u001B[1m4/4\u001B[0m \u001B[32m━━━━━━━━━━━━━━━━━━━━\u001B[0m\u001B[37m\u001B[0m \u001B[1m0s\u001B[0m 667us/step\n",
      "30 [D loss: [0.18990788 0.99974597]] [G loss: [array(0.18931417, dtype=float32), array(0.18931417, dtype=float32), array(0.999748, dtype=float32)]]\n",
      "\u001B[1m4/4\u001B[0m \u001B[32m━━━━━━━━━━━━━━━━━━━━\u001B[0m\u001B[37m\u001B[0m \u001B[1m0s\u001B[0m 1ms/step \n",
      "31 [D loss: [0.18670268 0.99975395]] [G loss: [array(0.18612535, dtype=float32), array(0.18612535, dtype=float32), array(0.99975586, dtype=float32)]]\n",
      "\u001B[1m4/4\u001B[0m \u001B[32m━━━━━━━━━━━━━━━━━━━━\u001B[0m\u001B[37m\u001B[0m \u001B[1m0s\u001B[0m 669us/step\n",
      "32 [D loss: [0.1835719  0.99976146]] [G loss: [array(0.182989, dtype=float32), array(0.182989, dtype=float32), array(0.99976325, dtype=float32)]]\n",
      "\u001B[1m4/4\u001B[0m \u001B[32m━━━━━━━━━━━━━━━━━━━━\u001B[0m\u001B[37m\u001B[0m \u001B[1m0s\u001B[0m 1ms/step \n",
      "33 [D loss: [0.18054333 0.9997685 ]] [G loss: [array(0.17999582, dtype=float32), array(0.17999582, dtype=float32), array(0.9997702, dtype=float32)]]\n",
      "\u001B[1m4/4\u001B[0m \u001B[32m━━━━━━━━━━━━━━━━━━━━\u001B[0m\u001B[37m\u001B[0m \u001B[1m0s\u001B[0m 1ms/step \n",
      "34 [D loss: [0.1778467 0.9997752]] [G loss: [array(0.17733486, dtype=float32), array(0.17733486, dtype=float32), array(0.9997768, dtype=float32)]]\n",
      "\u001B[1m4/4\u001B[0m \u001B[32m━━━━━━━━━━━━━━━━━━━━\u001B[0m\u001B[37m\u001B[0m \u001B[1m0s\u001B[0m 1ms/step \n",
      "35 [D loss: [0.17512569 0.9997815 ]] [G loss: [array(0.17462705, dtype=float32), array(0.17462705, dtype=float32), array(0.999783, dtype=float32)]]\n",
      "\u001B[1m4/4\u001B[0m \u001B[32m━━━━━━━━━━━━━━━━━━━━\u001B[0m\u001B[37m\u001B[0m \u001B[1m0s\u001B[0m 964us/step\n",
      "36 [D loss: [0.17244136 0.99978745]] [G loss: [array(0.17193882, dtype=float32), array(0.17193882, dtype=float32), array(0.9997889, dtype=float32)]]\n",
      "\u001B[1m4/4\u001B[0m \u001B[32m━━━━━━━━━━━━━━━━━━━━\u001B[0m\u001B[37m\u001B[0m \u001B[1m0s\u001B[0m 999us/step\n",
      "37 [D loss: [0.16985735 0.99979305]] [G loss: [array(0.16939826, dtype=float32), array(0.16939826, dtype=float32), array(0.9997944, dtype=float32)]]\n",
      "\u001B[1m4/4\u001B[0m \u001B[32m━━━━━━━━━━━━━━━━━━━━\u001B[0m\u001B[37m\u001B[0m \u001B[1m0s\u001B[0m 675us/step\n",
      "38 [D loss: [0.16745478 0.9997984 ]] [G loss: [array(0.16699934, dtype=float32), array(0.16699934, dtype=float32), array(0.99979967, dtype=float32)]]\n",
      "\u001B[1m4/4\u001B[0m \u001B[32m━━━━━━━━━━━━━━━━━━━━\u001B[0m\u001B[37m\u001B[0m \u001B[1m0s\u001B[0m 1ms/step \n",
      "39 [D loss: [0.16506585 0.9998034 ]] [G loss: [array(0.16463481, dtype=float32), array(0.16463481, dtype=float32), array(0.9998047, dtype=float32)]]\n",
      "\u001B[1m4/4\u001B[0m \u001B[32m━━━━━━━━━━━━━━━━━━━━\u001B[0m\u001B[37m\u001B[0m \u001B[1m0s\u001B[0m 667us/step\n",
      "40 [D loss: [0.16279872 0.9998083 ]] [G loss: [array(0.16235684, dtype=float32), array(0.16235684, dtype=float32), array(0.99980944, dtype=float32)]]\n",
      "\u001B[1m4/4\u001B[0m \u001B[32m━━━━━━━━━━━━━━━━━━━━\u001B[0m\u001B[37m\u001B[0m \u001B[1m0s\u001B[0m 969us/step\n",
      "41 [D loss: [0.16052487 0.99981284]] [G loss: [array(0.16012576, dtype=float32), array(0.16012576, dtype=float32), array(0.999814, dtype=float32)]]\n",
      "\u001B[1m4/4\u001B[0m \u001B[32m━━━━━━━━━━━━━━━━━━━━\u001B[0m\u001B[37m\u001B[0m \u001B[1m0s\u001B[0m 1ms/step \n",
      "42 [D loss: [0.15835428 0.99981725]] [G loss: [array(0.1579698, dtype=float32), array(0.1579698, dtype=float32), array(0.9998183, dtype=float32)]]\n",
      "\u001B[1m4/4\u001B[0m \u001B[32m━━━━━━━━━━━━━━━━━━━━\u001B[0m\u001B[37m\u001B[0m \u001B[1m0s\u001B[0m 674us/step\n",
      "43 [D loss: [0.15626994 0.9998214 ]] [G loss: [array(0.15590596, dtype=float32), array(0.15590596, dtype=float32), array(0.99982244, dtype=float32)]]\n",
      "\u001B[1m4/4\u001B[0m \u001B[32m━━━━━━━━━━━━━━━━━━━━\u001B[0m\u001B[37m\u001B[0m \u001B[1m0s\u001B[0m 1ms/step \n",
      "44 [D loss: [0.15424593 0.9998254 ]] [G loss: [array(0.153881, dtype=float32), array(0.153881, dtype=float32), array(0.9998264, dtype=float32)]]\n",
      "\u001B[1m4/4\u001B[0m \u001B[32m━━━━━━━━━━━━━━━━━━━━\u001B[0m\u001B[37m\u001B[0m \u001B[1m0s\u001B[0m 714us/step\n",
      "45 [D loss: [0.15226449 0.99982923]] [G loss: [array(0.15190461, dtype=float32), array(0.15190461, dtype=float32), array(0.9998302, dtype=float32)]]\n",
      "\u001B[1m4/4\u001B[0m \u001B[32m━━━━━━━━━━━━━━━━━━━━\u001B[0m\u001B[37m\u001B[0m \u001B[1m0s\u001B[0m 659us/step\n",
      "46 [D loss: [0.15036714 0.99983287]] [G loss: [array(0.1500205, dtype=float32), array(0.1500205, dtype=float32), array(0.99983376, dtype=float32)]]\n",
      "\u001B[1m4/4\u001B[0m \u001B[32m━━━━━━━━━━━━━━━━━━━━\u001B[0m\u001B[37m\u001B[0m \u001B[1m0s\u001B[0m 665us/step\n",
      "47 [D loss: [0.14854932 0.9998364 ]] [G loss: [array(0.14819826, dtype=float32), array(0.14819826, dtype=float32), array(0.9998372, dtype=float32)]]\n",
      "\u001B[1m4/4\u001B[0m \u001B[32m━━━━━━━━━━━━━━━━━━━━\u001B[0m\u001B[37m\u001B[0m \u001B[1m0s\u001B[0m 1ms/step \n",
      "48 [D loss: [0.14676923 0.9998397 ]] [G loss: [array(0.14643982, dtype=float32), array(0.14643982, dtype=float32), array(0.99984056, dtype=float32)]]\n",
      "\u001B[1m4/4\u001B[0m \u001B[32m━━━━━━━━━━━━━━━━━━━━\u001B[0m\u001B[37m\u001B[0m \u001B[1m0s\u001B[0m 999us/step\n",
      "49 [D loss: [0.14499561 0.999843  ]] [G loss: [array(0.1446722, dtype=float32), array(0.1446722, dtype=float32), array(0.9998438, dtype=float32)]]\n",
      "\u001B[1m4/4\u001B[0m \u001B[32m━━━━━━━━━━━━━━━━━━━━\u001B[0m\u001B[37m\u001B[0m \u001B[1m0s\u001B[0m 1ms/step \n",
      "50 [D loss: [0.14331087 0.9998461 ]] [G loss: [array(0.14299484, dtype=float32), array(0.14299484, dtype=float32), array(0.9998468, dtype=float32)]]\n",
      "\u001B[1m4/4\u001B[0m \u001B[32m━━━━━━━━━━━━━━━━━━━━\u001B[0m\u001B[37m\u001B[0m \u001B[1m0s\u001B[0m 999us/step\n",
      "51 [D loss: [0.14167462 0.999849  ]] [G loss: [array(0.14138709, dtype=float32), array(0.14138709, dtype=float32), array(0.99984974, dtype=float32)]]\n",
      "\u001B[1m4/4\u001B[0m \u001B[32m━━━━━━━━━━━━━━━━━━━━\u001B[0m\u001B[37m\u001B[0m \u001B[1m0s\u001B[0m 1ms/step \n",
      "52 [D loss: [0.14007702 0.9998519 ]] [G loss: [array(0.1397791, dtype=float32), array(0.1397791, dtype=float32), array(0.9998526, dtype=float32)]]\n",
      "\u001B[1m4/4\u001B[0m \u001B[32m━━━━━━━━━━━━━━━━━━━━\u001B[0m\u001B[37m\u001B[0m \u001B[1m0s\u001B[0m 1ms/step \n",
      "53 [D loss: [0.13849247 0.9998547 ]] [G loss: [array(0.13820688, dtype=float32), array(0.13820688, dtype=float32), array(0.99985534, dtype=float32)]]\n",
      "\u001B[1m4/4\u001B[0m \u001B[32m━━━━━━━━━━━━━━━━━━━━\u001B[0m\u001B[37m\u001B[0m \u001B[1m0s\u001B[0m 1ms/step \n",
      "54 [D loss: [0.13697392 0.9998573 ]] [G loss: [array(0.13669948, dtype=float32), array(0.13669948, dtype=float32), array(0.99985796, dtype=float32)]]\n",
      "\u001B[1m4/4\u001B[0m \u001B[32m━━━━━━━━━━━━━━━━━━━━\u001B[0m\u001B[37m\u001B[0m \u001B[1m0s\u001B[0m 1ms/step \n",
      "55 [D loss: [0.13547531 0.9998598 ]] [G loss: [array(0.13520344, dtype=float32), array(0.13520344, dtype=float32), array(0.99986047, dtype=float32)]]\n",
      "\u001B[1m4/4\u001B[0m \u001B[32m━━━━━━━━━━━━━━━━━━━━\u001B[0m\u001B[37m\u001B[0m \u001B[1m0s\u001B[0m 1ms/step \n",
      "56 [D loss: [0.13406405 0.9998623 ]] [G loss: [array(0.13380055, dtype=float32), array(0.13380055, dtype=float32), array(0.9998629, dtype=float32)]]\n",
      "\u001B[1m4/4\u001B[0m \u001B[32m━━━━━━━━━━━━━━━━━━━━\u001B[0m\u001B[37m\u001B[0m \u001B[1m0s\u001B[0m 667us/step\n",
      "57 [D loss: [0.13267334 0.9998647 ]] [G loss: [array(0.13243267, dtype=float32), array(0.13243267, dtype=float32), array(0.9998653, dtype=float32)]]\n",
      "\u001B[1m4/4\u001B[0m \u001B[32m━━━━━━━━━━━━━━━━━━━━\u001B[0m\u001B[37m\u001B[0m \u001B[1m0s\u001B[0m 1ms/step \n",
      "58 [D loss: [0.13132904 0.99986696]] [G loss: [array(0.13108689, dtype=float32), array(0.13108689, dtype=float32), array(0.99986756, dtype=float32)]]\n",
      "\u001B[1m4/4\u001B[0m \u001B[32m━━━━━━━━━━━━━━━━━━━━\u001B[0m\u001B[37m\u001B[0m \u001B[1m0s\u001B[0m 1ms/step \n",
      "59 [D loss: [0.13002421 0.9998692 ]] [G loss: [array(0.12979902, dtype=float32), array(0.12979902, dtype=float32), array(0.99986976, dtype=float32)]]\n",
      "\u001B[1m4/4\u001B[0m \u001B[32m━━━━━━━━━━━━━━━━━━━━\u001B[0m\u001B[37m\u001B[0m \u001B[1m0s\u001B[0m 1ms/step \n",
      "60 [D loss: [0.12872627 0.9998714 ]] [G loss: [array(0.12849122, dtype=float32), array(0.12849122, dtype=float32), array(0.9998719, dtype=float32)]]\n",
      "\u001B[1m4/4\u001B[0m \u001B[32m━━━━━━━━━━━━━━━━━━━━\u001B[0m\u001B[37m\u001B[0m \u001B[1m0s\u001B[0m 667us/step\n",
      "61 [D loss: [0.12745105 0.9998735 ]] [G loss: [array(0.12722869, dtype=float32), array(0.12722869, dtype=float32), array(0.999874, dtype=float32)]]\n",
      "\u001B[1m4/4\u001B[0m \u001B[32m━━━━━━━━━━━━━━━━━━━━\u001B[0m\u001B[37m\u001B[0m \u001B[1m0s\u001B[0m 679us/step\n",
      "62 [D loss: [0.12622933 0.9998755 ]] [G loss: [array(0.12599593, dtype=float32), array(0.12599593, dtype=float32), array(0.99987596, dtype=float32)]]\n",
      "\u001B[1m4/4\u001B[0m \u001B[32m━━━━━━━━━━━━━━━━━━━━\u001B[0m\u001B[37m\u001B[0m \u001B[1m0s\u001B[0m 809us/step\n",
      "63 [D loss: [0.12500341 0.99987745]] [G loss: [array(0.1247988, dtype=float32), array(0.1247988, dtype=float32), array(0.9998779, dtype=float32)]]\n",
      "\u001B[1m4/4\u001B[0m \u001B[32m━━━━━━━━━━━━━━━━━━━━\u001B[0m\u001B[37m\u001B[0m \u001B[1m0s\u001B[0m 668us/step\n",
      "64 [D loss: [0.12384549 0.99987936]] [G loss: [array(0.12363762, dtype=float32), array(0.12363762, dtype=float32), array(0.99987984, dtype=float32)]]\n",
      "\u001B[1m4/4\u001B[0m \u001B[32m━━━━━━━━━━━━━━━━━━━━\u001B[0m\u001B[37m\u001B[0m \u001B[1m0s\u001B[0m 1ms/step \n",
      "65 [D loss: [0.12272608 0.99988115]] [G loss: [array(0.12252371, dtype=float32), array(0.12252371, dtype=float32), array(0.9998816, dtype=float32)]]\n",
      "\u001B[1m4/4\u001B[0m \u001B[32m━━━━━━━━━━━━━━━━━━━━\u001B[0m\u001B[37m\u001B[0m \u001B[1m0s\u001B[0m 1ms/step \n",
      "66 [D loss: [0.12159127 0.99988294]] [G loss: [array(0.12139101, dtype=float32), array(0.12139101, dtype=float32), array(0.9998834, dtype=float32)]]\n",
      "\u001B[1m4/4\u001B[0m \u001B[32m━━━━━━━━━━━━━━━━━━━━\u001B[0m\u001B[37m\u001B[0m \u001B[1m0s\u001B[0m 667us/step\n",
      "67 [D loss: [0.12052995 0.99988467]] [G loss: [array(0.12033185, dtype=float32), array(0.12033185, dtype=float32), array(0.9998851, dtype=float32)]]\n",
      "\u001B[1m4/4\u001B[0m \u001B[32m━━━━━━━━━━━━━━━━━━━━\u001B[0m\u001B[37m\u001B[0m \u001B[1m0s\u001B[0m 735us/step\n",
      "68 [D loss: [0.11944731 0.9998864 ]] [G loss: [array(0.11925609, dtype=float32), array(0.11925609, dtype=float32), array(0.99988675, dtype=float32)]]\n",
      "\u001B[1m4/4\u001B[0m \u001B[32m━━━━━━━━━━━━━━━━━━━━\u001B[0m\u001B[37m\u001B[0m \u001B[1m0s\u001B[0m 1ms/step \n",
      "69 [D loss: [0.11839446 0.999888  ]] [G loss: [array(0.11819823, dtype=float32), array(0.11819823, dtype=float32), array(0.9998884, dtype=float32)]]\n",
      "\u001B[1m4/4\u001B[0m \u001B[32m━━━━━━━━━━━━━━━━━━━━\u001B[0m\u001B[37m\u001B[0m \u001B[1m0s\u001B[0m 1ms/step \n",
      "70 [D loss: [0.11732218 0.9998896 ]] [G loss: [array(0.11713213, dtype=float32), array(0.11713213, dtype=float32), array(0.99988997, dtype=float32)]]\n",
      "\u001B[1m4/4\u001B[0m \u001B[32m━━━━━━━━━━━━━━━━━━━━\u001B[0m\u001B[37m\u001B[0m \u001B[1m0s\u001B[0m 1ms/step \n",
      "71 [D loss: [0.11629964 0.99989116]] [G loss: [array(0.11612318, dtype=float32), array(0.11612318, dtype=float32), array(0.9998915, dtype=float32)]]\n",
      "\u001B[1m4/4\u001B[0m \u001B[32m━━━━━━━━━━━━━━━━━━━━\u001B[0m\u001B[37m\u001B[0m \u001B[1m0s\u001B[0m 1ms/step \n",
      "72 [D loss: [0.11533469 0.9998926 ]] [G loss: [array(0.11516446, dtype=float32), array(0.11516446, dtype=float32), array(0.99989295, dtype=float32)]]\n",
      "\u001B[1m4/4\u001B[0m \u001B[32m━━━━━━━━━━━━━━━━━━━━\u001B[0m\u001B[37m\u001B[0m \u001B[1m0s\u001B[0m 1ms/step \n",
      "73 [D loss: [0.11438967 0.9998941 ]] [G loss: [array(0.11422267, dtype=float32), array(0.11422267, dtype=float32), array(0.99989444, dtype=float32)]]\n",
      "\u001B[1m4/4\u001B[0m \u001B[32m━━━━━━━━━━━━━━━━━━━━\u001B[0m\u001B[37m\u001B[0m \u001B[1m0s\u001B[0m 993us/step\n",
      "74 [D loss: [0.11351846 0.99989545]] [G loss: [array(0.11336118, dtype=float32), array(0.11336118, dtype=float32), array(0.9998958, dtype=float32)]]\n",
      "\u001B[1m4/4\u001B[0m \u001B[32m━━━━━━━━━━━━━━━━━━━━\u001B[0m\u001B[37m\u001B[0m \u001B[1m0s\u001B[0m 1ms/step \n",
      "75 [D loss: [0.11260438 0.9998969 ]] [G loss: [array(0.11244136, dtype=float32), array(0.11244136, dtype=float32), array(0.9998972, dtype=float32)]]\n",
      "\u001B[1m4/4\u001B[0m \u001B[32m━━━━━━━━━━━━━━━━━━━━\u001B[0m\u001B[37m\u001B[0m \u001B[1m0s\u001B[0m 1000us/step\n",
      "76 [D loss: [0.1117053 0.9998982]] [G loss: [array(0.11154535, dtype=float32), array(0.11154535, dtype=float32), array(0.99989855, dtype=float32)]]\n",
      "\u001B[1m4/4\u001B[0m \u001B[32m━━━━━━━━━━━━━━━━━━━━\u001B[0m\u001B[37m\u001B[0m \u001B[1m0s\u001B[0m 1000us/step\n",
      "77 [D loss: [0.11081138 0.9998995 ]] [G loss: [array(0.11064998, dtype=float32), array(0.11064998, dtype=float32), array(0.99989986, dtype=float32)]]\n",
      "\u001B[1m4/4\u001B[0m \u001B[32m━━━━━━━━━━━━━━━━━━━━\u001B[0m\u001B[37m\u001B[0m \u001B[1m0s\u001B[0m 2ms/step \n",
      "78 [D loss: [0.10992689 0.9999008 ]] [G loss: [array(0.10977352, dtype=float32), array(0.10977352, dtype=float32), array(0.9999011, dtype=float32)]]\n",
      "\u001B[1m4/4\u001B[0m \u001B[32m━━━━━━━━━━━━━━━━━━━━\u001B[0m\u001B[37m\u001B[0m \u001B[1m0s\u001B[0m 411us/step\n",
      "79 [D loss: [0.10907476 0.999902  ]] [G loss: [array(0.10893136, dtype=float32), array(0.10893136, dtype=float32), array(0.99990237, dtype=float32)]]\n",
      "\u001B[1m4/4\u001B[0m \u001B[32m━━━━━━━━━━━━━━━━━━━━\u001B[0m\u001B[37m\u001B[0m \u001B[1m0s\u001B[0m 1ms/step \n",
      "80 [D loss: [0.10823962 0.99990326]] [G loss: [array(0.10809791, dtype=float32), array(0.10809791, dtype=float32), array(0.99990356, dtype=float32)]]\n",
      "\u001B[1m4/4\u001B[0m \u001B[32m━━━━━━━━━━━━━━━━━━━━\u001B[0m\u001B[37m\u001B[0m \u001B[1m0s\u001B[0m 1ms/step \n",
      "81 [D loss: [0.10741408 0.99990445]] [G loss: [array(0.10726755, dtype=float32), array(0.10726755, dtype=float32), array(0.99990475, dtype=float32)]]\n",
      "\u001B[1m4/4\u001B[0m \u001B[32m━━━━━━━━━━━━━━━━━━━━\u001B[0m\u001B[37m\u001B[0m \u001B[1m0s\u001B[0m 976us/step\n",
      "82 [D loss: [0.10660372 0.9999056 ]] [G loss: [array(0.10646889, dtype=float32), array(0.10646889, dtype=float32), array(0.9999059, dtype=float32)]]\n",
      "\u001B[1m4/4\u001B[0m \u001B[32m━━━━━━━━━━━━━━━━━━━━\u001B[0m\u001B[37m\u001B[0m \u001B[1m0s\u001B[0m 1ms/step \n",
      "83 [D loss: [0.10583393 0.9999067 ]] [G loss: [array(0.10569622, dtype=float32), array(0.10569622, dtype=float32), array(0.999907, dtype=float32)]]\n",
      "\u001B[1m4/4\u001B[0m \u001B[32m━━━━━━━━━━━━━━━━━━━━\u001B[0m\u001B[37m\u001B[0m \u001B[1m0s\u001B[0m 1ms/step \n",
      "84 [D loss: [0.10506323 0.99990785]] [G loss: [array(0.10493205, dtype=float32), array(0.10493205, dtype=float32), array(0.9999081, dtype=float32)]]\n",
      "\u001B[1m4/4\u001B[0m \u001B[32m━━━━━━━━━━━━━━━━━━━━\u001B[0m\u001B[37m\u001B[0m \u001B[1m0s\u001B[0m 1ms/step \n",
      "85 [D loss: [0.10432552 0.9999089 ]] [G loss: [array(0.10419709, dtype=float32), array(0.10419709, dtype=float32), array(0.99990916, dtype=float32)]]\n",
      "\u001B[1m4/4\u001B[0m \u001B[32m━━━━━━━━━━━━━━━━━━━━\u001B[0m\u001B[37m\u001B[0m \u001B[1m0s\u001B[0m 1ms/step \n",
      "86 [D loss: [0.10359499 0.99990994]] [G loss: [array(0.10346739, dtype=float32), array(0.10346739, dtype=float32), array(0.9999102, dtype=float32)]]\n",
      "\u001B[1m4/4\u001B[0m \u001B[32m━━━━━━━━━━━━━━━━━━━━\u001B[0m\u001B[37m\u001B[0m \u001B[1m0s\u001B[0m 1000us/step\n",
      "87 [D loss: [0.1028439  0.99991095]] [G loss: [array(0.10271635, dtype=float32), array(0.10271635, dtype=float32), array(0.99991125, dtype=float32)]]\n",
      "\u001B[1m4/4\u001B[0m \u001B[32m━━━━━━━━━━━━━━━━━━━━\u001B[0m\u001B[37m\u001B[0m \u001B[1m0s\u001B[0m 666us/step\n",
      "88 [D loss: [0.10213681 0.99991196]] [G loss: [array(0.10201146, dtype=float32), array(0.10201146, dtype=float32), array(0.9999122, dtype=float32)]]\n",
      "\u001B[1m4/4\u001B[0m \u001B[32m━━━━━━━━━━━━━━━━━━━━\u001B[0m\u001B[37m\u001B[0m \u001B[1m0s\u001B[0m 686us/step\n",
      "89 [D loss: [0.10143399 0.999913  ]] [G loss: [array(0.1013094, dtype=float32), array(0.1013094, dtype=float32), array(0.9999132, dtype=float32)]]\n",
      "\u001B[1m4/4\u001B[0m \u001B[32m━━━━━━━━━━━━━━━━━━━━\u001B[0m\u001B[37m\u001B[0m \u001B[1m0s\u001B[0m 1ms/step \n",
      "90 [D loss: [0.10073759 0.99991393]] [G loss: [array(0.1006147, dtype=float32), array(0.1006147, dtype=float32), array(0.99991417, dtype=float32)]]\n",
      "\u001B[1m4/4\u001B[0m \u001B[32m━━━━━━━━━━━━━━━━━━━━\u001B[0m\u001B[37m\u001B[0m \u001B[1m0s\u001B[0m 1000us/step\n",
      "91 [D loss: [0.10005046 0.9999149 ]] [G loss: [array(0.09992874, dtype=float32), array(0.09992874, dtype=float32), array(0.99991506, dtype=float32)]]\n",
      "\u001B[1m4/4\u001B[0m \u001B[32m━━━━━━━━━━━━━━━━━━━━\u001B[0m\u001B[37m\u001B[0m \u001B[1m0s\u001B[0m 667us/step\n",
      "92 [D loss: [0.09935579 0.9999158 ]] [G loss: [array(0.09923314, dtype=float32), array(0.09923314, dtype=float32), array(0.999916, dtype=float32)]]\n",
      "\u001B[1m4/4\u001B[0m \u001B[32m━━━━━━━━━━━━━━━━━━━━\u001B[0m\u001B[37m\u001B[0m \u001B[1m0s\u001B[0m 1000us/step\n",
      "93 [D loss: [0.09868034 0.9999167 ]] [G loss: [array(0.09856071, dtype=float32), array(0.09856071, dtype=float32), array(0.9999169, dtype=float32)]]\n",
      "\u001B[1m4/4\u001B[0m \u001B[32m━━━━━━━━━━━━━━━━━━━━\u001B[0m\u001B[37m\u001B[0m \u001B[1m0s\u001B[0m 667us/step\n",
      "94 [D loss: [0.09800768 0.9999175 ]] [G loss: [array(0.09788989, dtype=float32), array(0.09788989, dtype=float32), array(0.99991775, dtype=float32)]]\n",
      "\u001B[1m4/4\u001B[0m \u001B[32m━━━━━━━━━━━━━━━━━━━━\u001B[0m\u001B[37m\u001B[0m \u001B[1m0s\u001B[0m 1ms/step \n",
      "95 [D loss: [0.09734844 0.99991846]] [G loss: [array(0.09723147, dtype=float32), array(0.09723147, dtype=float32), array(0.99991864, dtype=float32)]]\n",
      "\u001B[1m4/4\u001B[0m \u001B[32m━━━━━━━━━━━━━━━━━━━━\u001B[0m\u001B[37m\u001B[0m \u001B[1m0s\u001B[0m 1ms/step \n",
      "96 [D loss: [0.09671314 0.9999193 ]] [G loss: [array(0.09660567, dtype=float32), array(0.09660567, dtype=float32), array(0.9999195, dtype=float32)]]\n",
      "\u001B[1m4/4\u001B[0m \u001B[32m━━━━━━━━━━━━━━━━━━━━\u001B[0m\u001B[37m\u001B[0m \u001B[1m0s\u001B[0m 2ms/step \n",
      "97 [D loss: [0.09608763 0.9999201 ]] [G loss: [array(0.09598014, dtype=float32), array(0.09598014, dtype=float32), array(0.9999203, dtype=float32)]]\n",
      "\u001B[1m4/4\u001B[0m \u001B[32m━━━━━━━━━━━━━━━━━━━━\u001B[0m\u001B[37m\u001B[0m \u001B[1m0s\u001B[0m 1ms/step \n",
      "98 [D loss: [0.09546627 0.99992085]] [G loss: [array(0.09536135, dtype=float32), array(0.09536135, dtype=float32), array(0.9999211, dtype=float32)]]\n",
      "\u001B[1m4/4\u001B[0m \u001B[32m━━━━━━━━━━━━━━━━━━━━\u001B[0m\u001B[37m\u001B[0m \u001B[1m0s\u001B[0m 958us/step\n",
      "99 [D loss: [0.09484659 0.9999217 ]] [G loss: [array(0.09473646, dtype=float32), array(0.09473646, dtype=float32), array(0.99992186, dtype=float32)]]\n",
      "\u001B[1m4/4\u001B[0m \u001B[32m━━━━━━━━━━━━━━━━━━━━\u001B[0m\u001B[37m\u001B[0m \u001B[1m0s\u001B[0m 814us/step\n",
      "100 [D loss: [0.09423991 0.99992245]] [G loss: [array(0.09413259, dtype=float32), array(0.09413259, dtype=float32), array(0.99992263, dtype=float32)]]\n",
      "\u001B[1m4/4\u001B[0m \u001B[32m━━━━━━━━━━━━━━━━━━━━\u001B[0m\u001B[37m\u001B[0m \u001B[1m0s\u001B[0m 993us/step\n",
      "101 [D loss: [0.09365157 0.9999232 ]] [G loss: [array(0.09354702, dtype=float32), array(0.09354702, dtype=float32), array(0.9999234, dtype=float32)]]\n",
      "\u001B[1m4/4\u001B[0m \u001B[32m━━━━━━━━━━━━━━━━━━━━\u001B[0m\u001B[37m\u001B[0m \u001B[1m0s\u001B[0m 1ms/step \n",
      "102 [D loss: [0.09306355 0.99992394]] [G loss: [array(0.09296359, dtype=float32), array(0.09296359, dtype=float32), array(0.9999241, dtype=float32)]]\n",
      "\u001B[1m4/4\u001B[0m \u001B[32m━━━━━━━━━━━━━━━━━━━━\u001B[0m\u001B[37m\u001B[0m \u001B[1m0s\u001B[0m 1ms/step \n",
      "103 [D loss: [0.09248904 0.9999247 ]] [G loss: [array(0.09239095, dtype=float32), array(0.09239095, dtype=float32), array(0.9999249, dtype=float32)]]\n",
      "\u001B[1m4/4\u001B[0m \u001B[32m━━━━━━━━━━━━━━━━━━━━\u001B[0m\u001B[37m\u001B[0m \u001B[1m0s\u001B[0m 1ms/step \n",
      "104 [D loss: [0.09191917 0.99992543]] [G loss: [array(0.09181964, dtype=float32), array(0.09181964, dtype=float32), array(0.9999256, dtype=float32)]]\n",
      "\u001B[1m4/4\u001B[0m \u001B[32m━━━━━━━━━━━━━━━━━━━━\u001B[0m\u001B[37m\u001B[0m \u001B[1m0s\u001B[0m 999us/step\n",
      "105 [D loss: [0.091356  0.9999261]] [G loss: [array(0.09126022, dtype=float32), array(0.09126022, dtype=float32), array(0.99992627, dtype=float32)]]\n",
      "\u001B[1m4/4\u001B[0m \u001B[32m━━━━━━━━━━━━━━━━━━━━\u001B[0m\u001B[37m\u001B[0m \u001B[1m0s\u001B[0m 667us/step\n",
      "106 [D loss: [0.09082001 0.9999268 ]] [G loss: [array(0.09073179, dtype=float32), array(0.09073179, dtype=float32), array(0.999927, dtype=float32)]]\n",
      "\u001B[1m4/4\u001B[0m \u001B[32m━━━━━━━━━━━━━━━━━━━━\u001B[0m\u001B[37m\u001B[0m \u001B[1m0s\u001B[0m 2ms/step \n",
      "107 [D loss: [0.09029046 0.9999275 ]] [G loss: [array(0.09019866, dtype=float32), array(0.09019866, dtype=float32), array(0.99992764, dtype=float32)]]\n",
      "\u001B[1m4/4\u001B[0m \u001B[32m━━━━━━━━━━━━━━━━━━━━\u001B[0m\u001B[37m\u001B[0m \u001B[1m0s\u001B[0m 990us/step\n",
      "108 [D loss: [0.08977087 0.9999282 ]] [G loss: [array(0.08968338, dtype=float32), array(0.08968338, dtype=float32), array(0.99992836, dtype=float32)]]\n",
      "\u001B[1m4/4\u001B[0m \u001B[32m━━━━━━━━━━━━━━━━━━━━\u001B[0m\u001B[37m\u001B[0m \u001B[1m0s\u001B[0m 1ms/step \n",
      "109 [D loss: [0.08925594 0.99992883]] [G loss: [array(0.0891654, dtype=float32), array(0.0891654, dtype=float32), array(0.99992895, dtype=float32)]]\n",
      "\u001B[1m4/4\u001B[0m \u001B[32m━━━━━━━━━━━━━━━━━━━━\u001B[0m\u001B[37m\u001B[0m \u001B[1m0s\u001B[0m 753us/step\n",
      "110 [D loss: [0.0887384 0.9999294]] [G loss: [array(0.08865271, dtype=float32), array(0.08865271, dtype=float32), array(0.9999296, dtype=float32)]]\n",
      "\u001B[1m4/4\u001B[0m \u001B[32m━━━━━━━━━━━━━━━━━━━━\u001B[0m\u001B[37m\u001B[0m \u001B[1m0s\u001B[0m 1ms/step \n",
      "111 [D loss: [0.08822636 0.9999301 ]] [G loss: [array(0.08813675, dtype=float32), array(0.08813675, dtype=float32), array(0.99993026, dtype=float32)]]\n",
      "\u001B[1m4/4\u001B[0m \u001B[32m━━━━━━━━━━━━━━━━━━━━\u001B[0m\u001B[37m\u001B[0m \u001B[1m0s\u001B[0m 972us/step\n",
      "112 [D loss: [0.08772358 0.99993074]] [G loss: [array(0.0876369, dtype=float32), array(0.0876369, dtype=float32), array(0.99993086, dtype=float32)]]\n",
      "\u001B[1m4/4\u001B[0m \u001B[32m━━━━━━━━━━━━━━━━━━━━\u001B[0m\u001B[37m\u001B[0m \u001B[1m0s\u001B[0m 688us/step\n",
      "113 [D loss: [0.08722556 0.99993134]] [G loss: [array(0.08713946, dtype=float32), array(0.08713946, dtype=float32), array(0.99993145, dtype=float32)]]\n",
      "\u001B[1m4/4\u001B[0m \u001B[32m━━━━━━━━━━━━━━━━━━━━\u001B[0m\u001B[37m\u001B[0m \u001B[1m0s\u001B[0m 1ms/step \n",
      "114 [D loss: [0.08675343 0.99993193]] [G loss: [array(0.08667286, dtype=float32), array(0.08667286, dtype=float32), array(0.99993205, dtype=float32)]]\n",
      "\u001B[1m4/4\u001B[0m \u001B[32m━━━━━━━━━━━━━━━━━━━━\u001B[0m\u001B[37m\u001B[0m \u001B[1m0s\u001B[0m 1ms/step \n",
      "115 [D loss: [0.08627801 0.9999325 ]] [G loss: [array(0.08619722, dtype=float32), array(0.08619722, dtype=float32), array(0.99993265, dtype=float32)]]\n",
      "\u001B[1m4/4\u001B[0m \u001B[32m━━━━━━━━━━━━━━━━━━━━\u001B[0m\u001B[37m\u001B[0m \u001B[1m0s\u001B[0m 1ms/step \n",
      "116 [D loss: [0.08580469 0.9999331 ]] [G loss: [array(0.08572332, dtype=float32), array(0.08572332, dtype=float32), array(0.99993324, dtype=float32)]]\n",
      "\u001B[1m4/4\u001B[0m \u001B[32m━━━━━━━━━━━━━━━━━━━━\u001B[0m\u001B[37m\u001B[0m \u001B[1m0s\u001B[0m 662us/step\n",
      "117 [D loss: [0.08533762 0.9999336 ]] [G loss: [array(0.08525802, dtype=float32), array(0.08525802, dtype=float32), array(0.9999338, dtype=float32)]]\n",
      "\u001B[1m4/4\u001B[0m \u001B[32m━━━━━━━━━━━━━━━━━━━━\u001B[0m\u001B[37m\u001B[0m \u001B[1m0s\u001B[0m 1ms/step \n",
      "118 [D loss: [0.08487765 0.9999342 ]] [G loss: [array(0.08479881, dtype=float32), array(0.08479881, dtype=float32), array(0.9999344, dtype=float32)]]\n",
      "\u001B[1m4/4\u001B[0m \u001B[32m━━━━━━━━━━━━━━━━━━━━\u001B[0m\u001B[37m\u001B[0m \u001B[1m0s\u001B[0m 1ms/step \n",
      "119 [D loss: [0.0844308 0.9999348]] [G loss: [array(0.08435157, dtype=float32), array(0.08435157, dtype=float32), array(0.9999349, dtype=float32)]]\n",
      "\u001B[1m4/4\u001B[0m \u001B[32m━━━━━━━━━━━━━━━━━━━━\u001B[0m\u001B[37m\u001B[0m \u001B[1m0s\u001B[0m 1ms/step \n",
      "120 [D loss: [0.08398492 0.99993527]] [G loss: [array(0.08390944, dtype=float32), array(0.08390944, dtype=float32), array(0.99993545, dtype=float32)]]\n",
      "\u001B[1m4/4\u001B[0m \u001B[32m━━━━━━━━━━━━━━━━━━━━\u001B[0m\u001B[37m\u001B[0m \u001B[1m0s\u001B[0m 1ms/step \n",
      "121 [D loss: [0.08355564 0.99993587]] [G loss: [array(0.08347663, dtype=float32), array(0.08347663, dtype=float32), array(0.999936, dtype=float32)]]\n",
      "\u001B[1m4/4\u001B[0m \u001B[32m━━━━━━━━━━━━━━━━━━━━\u001B[0m\u001B[37m\u001B[0m \u001B[1m0s\u001B[0m 1ms/step \n",
      "122 [D loss: [0.08311951 0.99993634]] [G loss: [array(0.08304622, dtype=float32), array(0.08304622, dtype=float32), array(0.99993646, dtype=float32)]]\n",
      "\u001B[1m4/4\u001B[0m \u001B[32m━━━━━━━━━━━━━━━━━━━━\u001B[0m\u001B[37m\u001B[0m \u001B[1m0s\u001B[0m 665us/step\n",
      "123 [D loss: [0.08269294 0.9999369 ]] [G loss: [array(0.08262045, dtype=float32), array(0.08262045, dtype=float32), array(0.999937, dtype=float32)]]\n",
      "\u001B[1m4/4\u001B[0m \u001B[32m━━━━━━━━━━━━━━━━━━━━\u001B[0m\u001B[37m\u001B[0m \u001B[1m0s\u001B[0m 994us/step\n",
      "124 [D loss: [0.08227597 0.99993736]] [G loss: [array(0.0822041, dtype=float32), array(0.0822041, dtype=float32), array(0.9999375, dtype=float32)]]\n",
      "\u001B[1m4/4\u001B[0m \u001B[32m━━━━━━━━━━━━━━━━━━━━\u001B[0m\u001B[37m\u001B[0m \u001B[1m0s\u001B[0m 1ms/step \n",
      "125 [D loss: [0.08186813 0.9999379 ]] [G loss: [array(0.0817983, dtype=float32), array(0.0817983, dtype=float32), array(0.999938, dtype=float32)]]\n",
      "\u001B[1m4/4\u001B[0m \u001B[32m━━━━━━━━━━━━━━━━━━━━\u001B[0m\u001B[37m\u001B[0m \u001B[1m0s\u001B[0m 1ms/step \n",
      "126 [D loss: [0.08146492 0.99993837]] [G loss: [array(0.0813919, dtype=float32), array(0.0813919, dtype=float32), array(0.9999385, dtype=float32)]]\n",
      "\u001B[1m4/4\u001B[0m \u001B[32m━━━━━━━━━━━━━━━━━━━━\u001B[0m\u001B[37m\u001B[0m \u001B[1m0s\u001B[0m 1ms/step \n",
      "127 [D loss: [0.08105333 0.99993885]] [G loss: [array(0.08098341, dtype=float32), array(0.08098341, dtype=float32), array(0.99993896, dtype=float32)]]\n",
      "\u001B[1m4/4\u001B[0m \u001B[32m━━━━━━━━━━━━━━━━━━━━\u001B[0m\u001B[37m\u001B[0m \u001B[1m0s\u001B[0m 998us/step\n",
      "128 [D loss: [0.08065094 0.9999393 ]] [G loss: [array(0.08058325, dtype=float32), array(0.08058325, dtype=float32), array(0.99993944, dtype=float32)]]\n",
      "\u001B[1m4/4\u001B[0m \u001B[32m━━━━━━━━━━━━━━━━━━━━\u001B[0m\u001B[37m\u001B[0m \u001B[1m0s\u001B[0m 998us/step\n",
      "129 [D loss: [0.08025669 0.9999398 ]] [G loss: [array(0.08018634, dtype=float32), array(0.08018634, dtype=float32), array(0.9999399, dtype=float32)]]\n",
      "\u001B[1m4/4\u001B[0m \u001B[32m━━━━━━━━━━━━━━━━━━━━\u001B[0m\u001B[37m\u001B[0m \u001B[1m0s\u001B[0m 1ms/step \n",
      "130 [D loss: [0.07986039 0.9999403 ]] [G loss: [array(0.0797922, dtype=float32), array(0.0797922, dtype=float32), array(0.99994034, dtype=float32)]]\n",
      "\u001B[1m4/4\u001B[0m \u001B[32m━━━━━━━━━━━━━━━━━━━━\u001B[0m\u001B[37m\u001B[0m \u001B[1m0s\u001B[0m 976us/step\n",
      "131 [D loss: [0.07946801 0.9999407 ]] [G loss: [array(0.07939673, dtype=float32), array(0.07939673, dtype=float32), array(0.9999408, dtype=float32)]]\n",
      "\u001B[1m4/4\u001B[0m \u001B[32m━━━━━━━━━━━━━━━━━━━━\u001B[0m\u001B[37m\u001B[0m \u001B[1m0s\u001B[0m 696us/step\n",
      "132 [D loss: [0.07907204 0.9999411 ]] [G loss: [array(0.07900176, dtype=float32), array(0.07900176, dtype=float32), array(0.99994123, dtype=float32)]]\n",
      "\u001B[1m4/4\u001B[0m \u001B[32m━━━━━━━━━━━━━━━━━━━━\u001B[0m\u001B[37m\u001B[0m \u001B[1m0s\u001B[0m 1ms/step \n",
      "133 [D loss: [0.07870111 0.9999416 ]] [G loss: [array(0.0786368, dtype=float32), array(0.0786368, dtype=float32), array(0.9999417, dtype=float32)]]\n",
      "\u001B[1m4/4\u001B[0m \u001B[32m━━━━━━━━━━━━━━━━━━━━\u001B[0m\u001B[37m\u001B[0m \u001B[1m0s\u001B[0m 1ms/step \n",
      "134 [D loss: [0.07833071 0.999942  ]] [G loss: [array(0.07826921, dtype=float32), array(0.07826921, dtype=float32), array(0.9999421, dtype=float32)]]\n",
      "\u001B[1m4/4\u001B[0m \u001B[32m━━━━━━━━━━━━━━━━━━━━\u001B[0m\u001B[37m\u001B[0m \u001B[1m0s\u001B[0m 1ms/step \n",
      "135 [D loss: [0.07796095 0.9999424 ]] [G loss: [array(0.07789518, dtype=float32), array(0.07789518, dtype=float32), array(0.99994254, dtype=float32)]]\n",
      "\u001B[1m4/4\u001B[0m \u001B[32m━━━━━━━━━━━━━━━━━━━━\u001B[0m\u001B[37m\u001B[0m \u001B[1m0s\u001B[0m 1ms/step \n",
      "136 [D loss: [0.07759078 0.9999429 ]] [G loss: [array(0.0775286, dtype=float32), array(0.0775286, dtype=float32), array(0.99994296, dtype=float32)]]\n",
      "\u001B[1m4/4\u001B[0m \u001B[32m━━━━━━━━━━━━━━━━━━━━\u001B[0m\u001B[37m\u001B[0m \u001B[1m0s\u001B[0m 1ms/step \n",
      "137 [D loss: [0.07722741 0.99994326]] [G loss: [array(0.07716378, dtype=float32), array(0.07716378, dtype=float32), array(0.9999434, dtype=float32)]]\n",
      "\u001B[1m4/4\u001B[0m \u001B[32m━━━━━━━━━━━━━━━━━━━━\u001B[0m\u001B[37m\u001B[0m \u001B[1m0s\u001B[0m 987us/step\n",
      "138 [D loss: [0.07686827 0.99994373]] [G loss: [array(0.0768064, dtype=float32), array(0.0768064, dtype=float32), array(0.9999438, dtype=float32)]]\n",
      "\u001B[1m4/4\u001B[0m \u001B[32m━━━━━━━━━━━━━━━━━━━━\u001B[0m\u001B[37m\u001B[0m \u001B[1m0s\u001B[0m 998us/step\n",
      "139 [D loss: [0.07651038 0.9999441 ]] [G loss: [array(0.07644746, dtype=float32), array(0.07644746, dtype=float32), array(0.9999442, dtype=float32)]]\n",
      "\u001B[1m4/4\u001B[0m \u001B[32m━━━━━━━━━━━━━━━━━━━━\u001B[0m\u001B[37m\u001B[0m \u001B[1m0s\u001B[0m 757us/step\n",
      "140 [D loss: [0.07614942 0.99994445]] [G loss: [array(0.07608616, dtype=float32), array(0.07608616, dtype=float32), array(0.99994457, dtype=float32)]]\n",
      "\u001B[1m4/4\u001B[0m \u001B[32m━━━━━━━━━━━━━━━━━━━━\u001B[0m\u001B[37m\u001B[0m \u001B[1m0s\u001B[0m 665us/step\n",
      "141 [D loss: [0.07579462 0.9999449 ]] [G loss: [array(0.07573695, dtype=float32), array(0.07573695, dtype=float32), array(0.999945, dtype=float32)]]\n",
      "\u001B[1m4/4\u001B[0m \u001B[32m━━━━━━━━━━━━━━━━━━━━\u001B[0m\u001B[37m\u001B[0m \u001B[1m0s\u001B[0m 1ms/step \n",
      "142 [D loss: [0.07545659 0.9999453 ]] [G loss: [array(0.07540254, dtype=float32), array(0.07540254, dtype=float32), array(0.99994534, dtype=float32)]]\n",
      "\u001B[1m4/4\u001B[0m \u001B[32m━━━━━━━━━━━━━━━━━━━━\u001B[0m\u001B[37m\u001B[0m \u001B[1m0s\u001B[0m 1ms/step \n",
      "143 [D loss: [0.07512444 0.99994564]] [G loss: [array(0.07506417, dtype=float32), array(0.07506417, dtype=float32), array(0.99994576, dtype=float32)]]\n",
      "\u001B[1m4/4\u001B[0m \u001B[32m━━━━━━━━━━━━━━━━━━━━\u001B[0m\u001B[37m\u001B[0m \u001B[1m0s\u001B[0m 1ms/step \n",
      "144 [D loss: [0.07478866 0.999946  ]] [G loss: [array(0.07473219, dtype=float32), array(0.07473219, dtype=float32), array(0.9999461, dtype=float32)]]\n",
      "\u001B[1m4/4\u001B[0m \u001B[32m━━━━━━━━━━━━━━━━━━━━\u001B[0m\u001B[37m\u001B[0m \u001B[1m0s\u001B[0m 1ms/step \n",
      "145 [D loss: [0.07445654 0.99994636]] [G loss: [array(0.07439844, dtype=float32), array(0.07439844, dtype=float32), array(0.9999465, dtype=float32)]]\n",
      "\u001B[1m4/4\u001B[0m \u001B[32m━━━━━━━━━━━━━━━━━━━━\u001B[0m\u001B[37m\u001B[0m \u001B[1m0s\u001B[0m 993us/step\n",
      "146 [D loss: [0.07412413 0.9999467 ]] [G loss: [array(0.07406848, dtype=float32), array(0.07406848, dtype=float32), array(0.99994683, dtype=float32)]]\n",
      "\u001B[1m4/4\u001B[0m \u001B[32m━━━━━━━━━━━━━━━━━━━━\u001B[0m\u001B[37m\u001B[0m \u001B[1m0s\u001B[0m 683us/step\n",
      "147 [D loss: [0.07379498 0.9999471 ]] [G loss: [array(0.07373902, dtype=float32), array(0.07373902, dtype=float32), array(0.9999472, dtype=float32)]]\n",
      "\u001B[1m4/4\u001B[0m \u001B[32m━━━━━━━━━━━━━━━━━━━━\u001B[0m\u001B[37m\u001B[0m \u001B[1m0s\u001B[0m 1ms/step \n",
      "148 [D loss: [0.07347245 0.9999474 ]] [G loss: [array(0.07341755, dtype=float32), array(0.07341755, dtype=float32), array(0.99994755, dtype=float32)]]\n",
      "\u001B[1m4/4\u001B[0m \u001B[32m━━━━━━━━━━━━━━━━━━━━\u001B[0m\u001B[37m\u001B[0m \u001B[1m0s\u001B[0m 1ms/step \n",
      "149 [D loss: [0.07314672 0.9999478 ]] [G loss: [array(0.07309049, dtype=float32), array(0.07309049, dtype=float32), array(0.9999479, dtype=float32)]]\n",
      "\u001B[1m4/4\u001B[0m \u001B[32m━━━━━━━━━━━━━━━━━━━━\u001B[0m\u001B[37m\u001B[0m \u001B[1m0s\u001B[0m 960us/step\n",
      "150 [D loss: [0.07283457 0.99994814]] [G loss: [array(0.07278389, dtype=float32), array(0.07278389, dtype=float32), array(0.99994826, dtype=float32)]]\n",
      "\u001B[1m4/4\u001B[0m \u001B[32m━━━━━━━━━━━━━━━━━━━━\u001B[0m\u001B[37m\u001B[0m \u001B[1m0s\u001B[0m 667us/step\n",
      "151 [D loss: [0.07253417 0.9999485 ]] [G loss: [array(0.07248019, dtype=float32), array(0.07248019, dtype=float32), array(0.9999486, dtype=float32)]]\n",
      "\u001B[1m4/4\u001B[0m \u001B[32m━━━━━━━━━━━━━━━━━━━━\u001B[0m\u001B[37m\u001B[0m \u001B[1m0s\u001B[0m 1ms/step \n",
      "152 [D loss: [0.0722252  0.99994886]] [G loss: [array(0.07217465, dtype=float32), array(0.07217465, dtype=float32), array(0.9999489, dtype=float32)]]\n",
      "\u001B[1m4/4\u001B[0m \u001B[32m━━━━━━━━━━━━━━━━━━━━\u001B[0m\u001B[37m\u001B[0m \u001B[1m0s\u001B[0m 657us/step\n",
      "153 [D loss: [0.0719229 0.9999492]] [G loss: [array(0.0718713, dtype=float32), array(0.0718713, dtype=float32), array(0.9999493, dtype=float32)]]\n",
      "\u001B[1m4/4\u001B[0m \u001B[32m━━━━━━━━━━━━━━━━━━━━\u001B[0m\u001B[37m\u001B[0m \u001B[1m0s\u001B[0m 1ms/step \n",
      "154 [D loss: [0.07162641 0.9999495 ]] [G loss: [array(0.07157675, dtype=float32), array(0.07157675, dtype=float32), array(0.9999496, dtype=float32)]]\n",
      "\u001B[1m4/4\u001B[0m \u001B[32m━━━━━━━━━━━━━━━━━━━━\u001B[0m\u001B[37m\u001B[0m \u001B[1m0s\u001B[0m 661us/step\n",
      "155 [D loss: [0.07132658 0.9999498 ]] [G loss: [array(0.07127605, dtype=float32), array(0.07127605, dtype=float32), array(0.99994993, dtype=float32)]]\n",
      "\u001B[1m4/4\u001B[0m \u001B[32m━━━━━━━━━━━━━━━━━━━━\u001B[0m\u001B[37m\u001B[0m \u001B[1m0s\u001B[0m 641us/step\n",
      "156 [D loss: [0.07103135 0.9999502 ]] [G loss: [array(0.07098137, dtype=float32), array(0.07098137, dtype=float32), array(0.99995023, dtype=float32)]]\n",
      "\u001B[1m4/4\u001B[0m \u001B[32m━━━━━━━━━━━━━━━━━━━━\u001B[0m\u001B[37m\u001B[0m \u001B[1m0s\u001B[0m 1ms/step \n",
      "157 [D loss: [0.07073087 0.99995047]] [G loss: [array(0.0706773, dtype=float32), array(0.0706773, dtype=float32), array(0.9999505, dtype=float32)]]\n",
      "\u001B[1m4/4\u001B[0m \u001B[32m━━━━━━━━━━━━━━━━━━━━\u001B[0m\u001B[37m\u001B[0m \u001B[1m0s\u001B[0m 665us/step\n",
      "158 [D loss: [0.07043484 0.99995077]] [G loss: [array(0.07038265, dtype=float32), array(0.07038265, dtype=float32), array(0.9999509, dtype=float32)]]\n",
      "\u001B[1m4/4\u001B[0m \u001B[32m━━━━━━━━━━━━━━━━━━━━\u001B[0m\u001B[37m\u001B[0m \u001B[1m0s\u001B[0m 712us/step\n",
      "159 [D loss: [0.0701423 0.9999511]] [G loss: [array(0.07009447, dtype=float32), array(0.07009447, dtype=float32), array(0.9999512, dtype=float32)]]\n",
      "\u001B[1m4/4\u001B[0m \u001B[32m━━━━━━━━━━━━━━━━━━━━\u001B[0m\u001B[37m\u001B[0m \u001B[1m0s\u001B[0m 667us/step\n",
      "160 [D loss: [0.06985866 0.99995136]] [G loss: [array(0.06981278, dtype=float32), array(0.06981278, dtype=float32), array(0.9999515, dtype=float32)]]\n",
      "\u001B[1m4/4\u001B[0m \u001B[32m━━━━━━━━━━━━━━━━━━━━\u001B[0m\u001B[37m\u001B[0m \u001B[1m0s\u001B[0m 753us/step\n",
      "161 [D loss: [0.06958254 0.9999517 ]] [G loss: [array(0.06953848, dtype=float32), array(0.06953848, dtype=float32), array(0.9999518, dtype=float32)]]\n",
      "\u001B[1m4/4\u001B[0m \u001B[32m━━━━━━━━━━━━━━━━━━━━\u001B[0m\u001B[37m\u001B[0m \u001B[1m0s\u001B[0m 1000us/step\n",
      "162 [D loss: [0.06930874 0.99995196]] [G loss: [array(0.06926622, dtype=float32), array(0.06926622, dtype=float32), array(0.9999521, dtype=float32)]]\n",
      "\u001B[1m4/4\u001B[0m \u001B[32m━━━━━━━━━━━━━━━━━━━━\u001B[0m\u001B[37m\u001B[0m \u001B[1m0s\u001B[0m 691us/step\n",
      "163 [D loss: [0.06903791 0.9999523 ]] [G loss: [array(0.06899195, dtype=float32), array(0.06899195, dtype=float32), array(0.9999524, dtype=float32)]]\n",
      "\u001B[1m4/4\u001B[0m \u001B[32m━━━━━━━━━━━━━━━━━━━━\u001B[0m\u001B[37m\u001B[0m \u001B[1m0s\u001B[0m 665us/step\n",
      "164 [D loss: [0.06876612 0.99995255]] [G loss: [array(0.06872194, dtype=float32), array(0.06872194, dtype=float32), array(0.9999527, dtype=float32)]]\n",
      "\u001B[1m4/4\u001B[0m \u001B[32m━━━━━━━━━━━━━━━━━━━━\u001B[0m\u001B[37m\u001B[0m \u001B[1m0s\u001B[0m 960us/step\n",
      "165 [D loss: [0.06849808 0.99995285]] [G loss: [array(0.06845287, dtype=float32), array(0.06845287, dtype=float32), array(0.9999529, dtype=float32)]]\n",
      "\u001B[1m4/4\u001B[0m \u001B[32m━━━━━━━━━━━━━━━━━━━━\u001B[0m\u001B[37m\u001B[0m \u001B[1m0s\u001B[0m 725us/step\n",
      "166 [D loss: [0.06823006 0.99995315]] [G loss: [array(0.06818546, dtype=float32), array(0.06818546, dtype=float32), array(0.9999532, dtype=float32)]]\n",
      "\u001B[1m4/4\u001B[0m \u001B[32m━━━━━━━━━━━━━━━━━━━━\u001B[0m\u001B[37m\u001B[0m \u001B[1m0s\u001B[0m 1ms/step \n",
      "167 [D loss: [0.06796482 0.9999534 ]] [G loss: [array(0.0679182, dtype=float32), array(0.0679182, dtype=float32), array(0.9999535, dtype=float32)]]\n",
      "\u001B[1m4/4\u001B[0m \u001B[32m━━━━━━━━━━━━━━━━━━━━\u001B[0m\u001B[37m\u001B[0m \u001B[1m0s\u001B[0m 3ms/step \n",
      "168 [D loss: [0.06770203 0.9999537 ]] [G loss: [array(0.06766171, dtype=float32), array(0.06766171, dtype=float32), array(0.99995375, dtype=float32)]]\n",
      "\u001B[1m4/4\u001B[0m \u001B[32m━━━━━━━━━━━━━━━━━━━━\u001B[0m\u001B[37m\u001B[0m \u001B[1m0s\u001B[0m 1ms/step \n",
      "169 [D loss: [0.06744537 0.999954  ]] [G loss: [array(0.06740401, dtype=float32), array(0.06740401, dtype=float32), array(0.99995404, dtype=float32)]]\n",
      "\u001B[1m4/4\u001B[0m \u001B[32m━━━━━━━━━━━━━━━━━━━━\u001B[0m\u001B[37m\u001B[0m \u001B[1m0s\u001B[0m 999us/step\n",
      "170 [D loss: [0.06719238 0.9999542 ]] [G loss: [array(0.06714767, dtype=float32), array(0.06714767, dtype=float32), array(0.9999543, dtype=float32)]]\n",
      "\u001B[1m4/4\u001B[0m \u001B[32m━━━━━━━━━━━━━━━━━━━━\u001B[0m\u001B[37m\u001B[0m \u001B[1m0s\u001B[0m 995us/step\n",
      "171 [D loss: [0.06693938 0.9999545 ]] [G loss: [array(0.06689753, dtype=float32), array(0.06689753, dtype=float32), array(0.9999546, dtype=float32)]]\n",
      "\u001B[1m4/4\u001B[0m \u001B[32m━━━━━━━━━━━━━━━━━━━━\u001B[0m\u001B[37m\u001B[0m \u001B[1m0s\u001B[0m 992us/step\n",
      "172 [D loss: [0.06669    0.99995476]] [G loss: [array(0.06664758, dtype=float32), array(0.06664758, dtype=float32), array(0.9999548, dtype=float32)]]\n",
      "\u001B[1m4/4\u001B[0m \u001B[32m━━━━━━━━━━━━━━━━━━━━\u001B[0m\u001B[37m\u001B[0m \u001B[1m0s\u001B[0m 1ms/step \n",
      "173 [D loss: [0.06643732 0.99995506]] [G loss: [array(0.0663913, dtype=float32), array(0.0663913, dtype=float32), array(0.9999551, dtype=float32)]]\n",
      "\u001B[1m4/4\u001B[0m \u001B[32m━━━━━━━━━━━━━━━━━━━━\u001B[0m\u001B[37m\u001B[0m \u001B[1m0s\u001B[0m 664us/step\n",
      "174 [D loss: [0.06618658 0.9999553 ]] [G loss: [array(0.06614771, dtype=float32), array(0.06614771, dtype=float32), array(0.99995536, dtype=float32)]]\n",
      "\u001B[1m4/4\u001B[0m \u001B[32m━━━━━━━━━━━━━━━━━━━━\u001B[0m\u001B[37m\u001B[0m \u001B[1m0s\u001B[0m 1ms/step \n",
      "175 [D loss: [0.06594629 0.99995553]] [G loss: [array(0.06590202, dtype=float32), array(0.06590202, dtype=float32), array(0.9999556, dtype=float32)]]\n",
      "\u001B[1m4/4\u001B[0m \u001B[32m━━━━━━━━━━━━━━━━━━━━\u001B[0m\u001B[37m\u001B[0m \u001B[1m0s\u001B[0m 2ms/step \n",
      "176 [D loss: [0.06570226 0.9999558 ]] [G loss: [array(0.06566253, dtype=float32), array(0.06566253, dtype=float32), array(0.99995583, dtype=float32)]]\n",
      "\u001B[1m4/4\u001B[0m \u001B[32m━━━━━━━━━━━━━━━━━━━━\u001B[0m\u001B[37m\u001B[0m \u001B[1m0s\u001B[0m 666us/step\n",
      "177 [D loss: [0.06546168 0.9999561 ]] [G loss: [array(0.06541822, dtype=float32), array(0.06541822, dtype=float32), array(0.99995613, dtype=float32)]]\n",
      "\u001B[1m4/4\u001B[0m \u001B[32m━━━━━━━━━━━━━━━━━━━━\u001B[0m\u001B[37m\u001B[0m \u001B[1m0s\u001B[0m 666us/step\n",
      "178 [D loss: [0.06521739 0.9999563 ]] [G loss: [array(0.06517744, dtype=float32), array(0.06517744, dtype=float32), array(0.99995637, dtype=float32)]]\n",
      "\u001B[1m4/4\u001B[0m \u001B[32m━━━━━━━━━━━━━━━━━━━━\u001B[0m\u001B[37m\u001B[0m \u001B[1m0s\u001B[0m 1ms/step \n",
      "179 [D loss: [0.06498946 0.99995655]] [G loss: [array(0.06494837, dtype=float32), array(0.06494837, dtype=float32), array(0.9999566, dtype=float32)]]\n",
      "\u001B[1m4/4\u001B[0m \u001B[32m━━━━━━━━━━━━━━━━━━━━\u001B[0m\u001B[37m\u001B[0m \u001B[1m0s\u001B[0m 1ms/step \n",
      "180 [D loss: [0.06475338 0.9999568 ]] [G loss: [array(0.06471344, dtype=float32), array(0.06471344, dtype=float32), array(0.99995685, dtype=float32)]]\n",
      "\u001B[1m4/4\u001B[0m \u001B[32m━━━━━━━━━━━━━━━━━━━━\u001B[0m\u001B[37m\u001B[0m \u001B[1m0s\u001B[0m 1ms/step \n",
      "181 [D loss: [0.06452382 0.999957  ]] [G loss: [array(0.06448606, dtype=float32), array(0.06448606, dtype=float32), array(0.9999571, dtype=float32)]]\n",
      "\u001B[1m4/4\u001B[0m \u001B[32m━━━━━━━━━━━━━━━━━━━━\u001B[0m\u001B[37m\u001B[0m \u001B[1m0s\u001B[0m 1ms/step \n",
      "182 [D loss: [0.06429505 0.99995726]] [G loss: [array(0.06425864, dtype=float32), array(0.06425864, dtype=float32), array(0.9999573, dtype=float32)]]\n",
      "\u001B[1m4/4\u001B[0m \u001B[32m━━━━━━━━━━━━━━━━━━━━\u001B[0m\u001B[37m\u001B[0m \u001B[1m0s\u001B[0m 731us/step\n",
      "183 [D loss: [0.06407139 0.9999575 ]] [G loss: [array(0.0640321, dtype=float32), array(0.0640321, dtype=float32), array(0.99995756, dtype=float32)]]\n",
      "\u001B[1m4/4\u001B[0m \u001B[32m━━━━━━━━━━━━━━━━━━━━\u001B[0m\u001B[37m\u001B[0m \u001B[1m0s\u001B[0m 2ms/step \n",
      "184 [D loss: [0.06384303 0.99995774]] [G loss: [array(0.06380455, dtype=float32), array(0.06380455, dtype=float32), array(0.9999578, dtype=float32)]]\n",
      "\u001B[1m4/4\u001B[0m \u001B[32m━━━━━━━━━━━━━━━━━━━━\u001B[0m\u001B[37m\u001B[0m \u001B[1m0s\u001B[0m 668us/step\n",
      "185 [D loss: [0.06361382 0.9999579 ]] [G loss: [array(0.06357449, dtype=float32), array(0.06357449, dtype=float32), array(0.999958, dtype=float32)]]\n",
      "\u001B[1m4/4\u001B[0m \u001B[32m━━━━━━━━━━━━━━━━━━━━\u001B[0m\u001B[37m\u001B[0m \u001B[1m0s\u001B[0m 977us/step\n",
      "186 [D loss: [0.0633971  0.99995816]] [G loss: [array(0.06336313, dtype=float32), array(0.06336313, dtype=float32), array(0.9999582, dtype=float32)]]\n",
      "\u001B[1m4/4\u001B[0m \u001B[32m━━━━━━━━━━━━━━━━━━━━\u001B[0m\u001B[37m\u001B[0m \u001B[1m0s\u001B[0m 1ms/step \n",
      "187 [D loss: [0.06318431 0.9999584 ]] [G loss: [array(0.06315029, dtype=float32), array(0.06315029, dtype=float32), array(0.99995846, dtype=float32)]]\n",
      "\u001B[1m4/4\u001B[0m \u001B[32m━━━━━━━━━━━━━━━━━━━━\u001B[0m\u001B[37m\u001B[0m \u001B[1m0s\u001B[0m 985us/step\n",
      "188 [D loss: [0.06297659 0.99995863]] [G loss: [array(0.062941, dtype=float32), array(0.062941, dtype=float32), array(0.99995863, dtype=float32)]]\n",
      "\u001B[1m4/4\u001B[0m \u001B[32m━━━━━━━━━━━━━━━━━━━━\u001B[0m\u001B[37m\u001B[0m \u001B[1m0s\u001B[0m 999us/step\n",
      "189 [D loss: [0.06276418 0.9999588 ]] [G loss: [array(0.06273452, dtype=float32), array(0.06273452, dtype=float32), array(0.9999589, dtype=float32)]]\n",
      "\u001B[1m4/4\u001B[0m \u001B[32m━━━━━━━━━━━━━━━━━━━━\u001B[0m\u001B[37m\u001B[0m \u001B[1m0s\u001B[0m 1ms/step \n",
      "190 [D loss: [0.06255524 0.99995905]] [G loss: [array(0.06251986, dtype=float32), array(0.06251986, dtype=float32), array(0.9999591, dtype=float32)]]\n",
      "\u001B[1m4/4\u001B[0m \u001B[32m━━━━━━━━━━━━━━━━━━━━\u001B[0m\u001B[37m\u001B[0m \u001B[1m0s\u001B[0m 1ms/step \n",
      "191 [D loss: [0.06234225 0.99995923]] [G loss: [array(0.06230601, dtype=float32), array(0.06230601, dtype=float32), array(0.9999593, dtype=float32)]]\n",
      "\u001B[1m4/4\u001B[0m \u001B[32m━━━━━━━━━━━━━━━━━━━━\u001B[0m\u001B[37m\u001B[0m \u001B[1m0s\u001B[0m 1ms/step \n",
      "192 [D loss: [0.0621318  0.99995947]] [G loss: [array(0.0620968, dtype=float32), array(0.0620968, dtype=float32), array(0.9999595, dtype=float32)]]\n",
      "\u001B[1m4/4\u001B[0m \u001B[32m━━━━━━━━━━━━━━━━━━━━\u001B[0m\u001B[37m\u001B[0m \u001B[1m0s\u001B[0m 1ms/step \n",
      "193 [D loss: [0.06192545 0.9999597 ]] [G loss: [array(0.06189216, dtype=float32), array(0.06189216, dtype=float32), array(0.9999597, dtype=float32)]]\n",
      "\u001B[1m4/4\u001B[0m \u001B[32m━━━━━━━━━━━━━━━━━━━━\u001B[0m\u001B[37m\u001B[0m \u001B[1m0s\u001B[0m 665us/step\n",
      "194 [D loss: [0.06171513 0.9999599 ]] [G loss: [array(0.06167798, dtype=float32), array(0.06167798, dtype=float32), array(0.99995995, dtype=float32)]]\n",
      "\u001B[1m4/4\u001B[0m \u001B[32m━━━━━━━━━━━━━━━━━━━━\u001B[0m\u001B[37m\u001B[0m \u001B[1m0s\u001B[0m 1ms/step \n",
      "195 [D loss: [0.06151027 0.99996006]] [G loss: [array(0.06147896, dtype=float32), array(0.06147896, dtype=float32), array(0.9999601, dtype=float32)]]\n",
      "\u001B[1m4/4\u001B[0m \u001B[32m━━━━━━━━━━━━━━━━━━━━\u001B[0m\u001B[37m\u001B[0m \u001B[1m0s\u001B[0m 1000us/step\n",
      "196 [D loss: [0.06130869 0.9999603 ]] [G loss: [array(0.06127215, dtype=float32), array(0.06127215, dtype=float32), array(0.99996036, dtype=float32)]]\n",
      "\u001B[1m4/4\u001B[0m \u001B[32m━━━━━━━━━━━━━━━━━━━━\u001B[0m\u001B[37m\u001B[0m \u001B[1m0s\u001B[0m 660us/step\n",
      "197 [D loss: [0.06110577 0.9999605 ]] [G loss: [array(0.06107334, dtype=float32), array(0.06107334, dtype=float32), array(0.99996054, dtype=float32)]]\n",
      "\u001B[1m4/4\u001B[0m \u001B[32m━━━━━━━━━━━━━━━━━━━━\u001B[0m\u001B[37m\u001B[0m \u001B[1m0s\u001B[0m 1ms/step \n",
      "198 [D loss: [0.06091333 0.99996066]] [G loss: [array(0.06087741, dtype=float32), array(0.06087741, dtype=float32), array(0.9999607, dtype=float32)]]\n",
      "\u001B[1m4/4\u001B[0m \u001B[32m━━━━━━━━━━━━━━━━━━━━\u001B[0m\u001B[37m\u001B[0m \u001B[1m0s\u001B[0m 965us/step\n",
      "199 [D loss: [0.06070948 0.9999609 ]] [G loss: [array(0.06067518, dtype=float32), array(0.06067518, dtype=float32), array(0.99996096, dtype=float32)]]\n",
      "\u001B[1m313/313\u001B[0m \u001B[32m━━━━━━━━━━━━━━━━━━━━\u001B[0m\u001B[37m\u001B[0m \u001B[1m0s\u001B[0m 705us/step\n",
      "Shape of generated data: (10000, 104)\n"
     ]
    },
    {
     "name": "stderr",
     "output_type": "stream",
     "text": [
      "C:\\Users\\lucas\\AppData\\Local\\Temp\\ipykernel_12200\\1585377447.py:30: RuntimeWarning: invalid value encountered in cast\n",
      "  synthetic_data = np.round(synthetic_data).astype(int)\n"
     ]
    },
    {
     "data": {
      "text/plain": "    log_id  label_x  user_id  age  gender  residence  city  city_rank  \\\n0   796099        1   273183    7       3         32   380          4   \n1  1066403        1   250033    6       4         31   409          4   \n2   660569        1   266881    8       3         43   422          5   \n3   673197        1   259784    7       3         44   301          4   \n4   760501        1   251063    7       4         37   389          4   \n\n   series_dev  series_group  ...  u_newsCatInterestsST_y_1  \\\n0          26             7  ...                       150   \n1          35             7  ...                       188   \n2          31             7  ...                       189   \n3          26             7  ...                       159   \n4          28             5  ...                       162   \n\n   u_newsCatInterestsST_y_2  u_newsCatInterestsST_y_3  \\\n0                       208                       218   \n1                       158                       164   \n2                       122                       116   \n3                       134                       118   \n4                       193                       117   \n\n   u_newsCatInterestsST_y_4  u_newsCatInterestsST_y_5  u_click_ca2_news_1  \\\n0                       134                       144                 214   \n1                       193                       138                 147   \n2                       178                       190                 165   \n3                       193                       142                 171   \n4                       187                       188                 175   \n\n   u_click_ca2_news_2  u_click_ca2_news_3  u_click_ca2_news_4  \\\n0                 142                 208                 118   \n1                 218                 145                 126   \n2                 201                 133                 149   \n3                 123                 172                 163   \n4                 208                 149                 215   \n\n   u_click_ca2_news_5  \n0                 200  \n1                 143  \n2                 141  \n3                 153  \n4                 153  \n\n[5 rows x 104 columns]",
      "text/html": "<div>\n<style scoped>\n    .dataframe tbody tr th:only-of-type {\n        vertical-align: middle;\n    }\n\n    .dataframe tbody tr th {\n        vertical-align: top;\n    }\n\n    .dataframe thead th {\n        text-align: right;\n    }\n</style>\n<table border=\"1\" class=\"dataframe\">\n  <thead>\n    <tr style=\"text-align: right;\">\n      <th></th>\n      <th>log_id</th>\n      <th>label_x</th>\n      <th>user_id</th>\n      <th>age</th>\n      <th>gender</th>\n      <th>residence</th>\n      <th>city</th>\n      <th>city_rank</th>\n      <th>series_dev</th>\n      <th>series_group</th>\n      <th>...</th>\n      <th>u_newsCatInterestsST_y_1</th>\n      <th>u_newsCatInterestsST_y_2</th>\n      <th>u_newsCatInterestsST_y_3</th>\n      <th>u_newsCatInterestsST_y_4</th>\n      <th>u_newsCatInterestsST_y_5</th>\n      <th>u_click_ca2_news_1</th>\n      <th>u_click_ca2_news_2</th>\n      <th>u_click_ca2_news_3</th>\n      <th>u_click_ca2_news_4</th>\n      <th>u_click_ca2_news_5</th>\n    </tr>\n  </thead>\n  <tbody>\n    <tr>\n      <th>0</th>\n      <td>796099</td>\n      <td>1</td>\n      <td>273183</td>\n      <td>7</td>\n      <td>3</td>\n      <td>32</td>\n      <td>380</td>\n      <td>4</td>\n      <td>26</td>\n      <td>7</td>\n      <td>...</td>\n      <td>150</td>\n      <td>208</td>\n      <td>218</td>\n      <td>134</td>\n      <td>144</td>\n      <td>214</td>\n      <td>142</td>\n      <td>208</td>\n      <td>118</td>\n      <td>200</td>\n    </tr>\n    <tr>\n      <th>1</th>\n      <td>1066403</td>\n      <td>1</td>\n      <td>250033</td>\n      <td>6</td>\n      <td>4</td>\n      <td>31</td>\n      <td>409</td>\n      <td>4</td>\n      <td>35</td>\n      <td>7</td>\n      <td>...</td>\n      <td>188</td>\n      <td>158</td>\n      <td>164</td>\n      <td>193</td>\n      <td>138</td>\n      <td>147</td>\n      <td>218</td>\n      <td>145</td>\n      <td>126</td>\n      <td>143</td>\n    </tr>\n    <tr>\n      <th>2</th>\n      <td>660569</td>\n      <td>1</td>\n      <td>266881</td>\n      <td>8</td>\n      <td>3</td>\n      <td>43</td>\n      <td>422</td>\n      <td>5</td>\n      <td>31</td>\n      <td>7</td>\n      <td>...</td>\n      <td>189</td>\n      <td>122</td>\n      <td>116</td>\n      <td>178</td>\n      <td>190</td>\n      <td>165</td>\n      <td>201</td>\n      <td>133</td>\n      <td>149</td>\n      <td>141</td>\n    </tr>\n    <tr>\n      <th>3</th>\n      <td>673197</td>\n      <td>1</td>\n      <td>259784</td>\n      <td>7</td>\n      <td>3</td>\n      <td>44</td>\n      <td>301</td>\n      <td>4</td>\n      <td>26</td>\n      <td>7</td>\n      <td>...</td>\n      <td>159</td>\n      <td>134</td>\n      <td>118</td>\n      <td>193</td>\n      <td>142</td>\n      <td>171</td>\n      <td>123</td>\n      <td>172</td>\n      <td>163</td>\n      <td>153</td>\n    </tr>\n    <tr>\n      <th>4</th>\n      <td>760501</td>\n      <td>1</td>\n      <td>251063</td>\n      <td>7</td>\n      <td>4</td>\n      <td>37</td>\n      <td>389</td>\n      <td>4</td>\n      <td>28</td>\n      <td>5</td>\n      <td>...</td>\n      <td>162</td>\n      <td>193</td>\n      <td>117</td>\n      <td>187</td>\n      <td>188</td>\n      <td>175</td>\n      <td>208</td>\n      <td>149</td>\n      <td>215</td>\n      <td>153</td>\n    </tr>\n  </tbody>\n</table>\n<p>5 rows × 104 columns</p>\n</div>"
     },
     "execution_count": 9,
     "metadata": {},
     "output_type": "execute_result"
    }
   ],
   "source": [
    "scaler = MinMaxScaler(feature_range=(-1, 1))  # Use MinMaxScaler for normalization\n",
    "\n",
    "# Normalize the data\n",
    "click_array = scaler.fit_transform(click.values)\n",
    "\n",
    "# Define GAN parameters\n",
    "latent_dim = 100\n",
    "data_dim = click_array.shape[1]\n",
    "\n",
    "# Instantiate and train the GAN\n",
    "gan = GAN(latent_dim, data_dim)\n",
    "gan.train(click_array, epochs=200, batch_size=128)  # Choose the amount of runs \n",
    "\n",
    "# Generate synthetic data\n",
    "num_samples = 10000  # Adjust the number of samples as needed\n",
    "noise = np.random.normal(0, 1, (num_samples, latent_dim))\n",
    "synthetic_data = gan.generator.predict(noise)\n",
    "\n",
    "# Inverse transform the synthetic data\n",
    "synthetic_data = scaler.inverse_transform(synthetic_data)\n",
    "\n",
    "# Handle NaN and infinite values before rounding\n",
    "synthetic_data = np.nan_to_num(synthetic_data, nan=0.0, posinf=0.0, neginf=0.0)\n",
    "\n",
    "# Clip the data to a reasonable range, e.g., [0, max_value]\n",
    "max_value = click.max().max()  # Get max of numeric columns\n",
    "synthetic_data = np.clip(synthetic_data, 0, max_value)\n",
    "\n",
    "# Round the data and convert to integers\n",
    "synthetic_data = np.round(synthetic_data).astype(int)\n",
    "\n",
    "# Convert synthetic data back to a DataFrame\n",
    "synthetic_click = pd.DataFrame(synthetic_data, columns=click.columns)\n",
    "\n",
    "# Debug: Check the shape and head of the generated data\n",
    "print(f\"Shape of generated data: {synthetic_click.shape}\")\n",
    "synthetic_click.head()"
   ],
   "metadata": {
    "collapsed": false,
    "ExecuteTime": {
     "end_time": "2024-06-28T04:56:00.460265Z",
     "start_time": "2024-06-28T04:54:16.429264Z"
    }
   },
   "id": "8481a19065dc3d32",
   "execution_count": 9
  },
  {
   "cell_type": "code",
   "outputs": [
    {
     "data": {
      "text/plain": "             log_id       label_x        user_id           age        gender  \\\ncount  7.310400e+04  73104.000000   73104.000000  73104.000000  73104.000000   \nmean   5.456953e+05      0.008632  193422.610185      5.472710      2.375602   \nstd    3.181061e+05      0.092505   54052.268470      2.173391      0.735787   \nmin    4.000000e+00      0.000000  100022.000000      2.000000      2.000000   \n25%    2.688722e+05      0.000000  145387.000000      3.000000      2.000000   \n50%    5.425155e+05      0.000000  192789.000000      6.000000      2.000000   \n75%    8.176330e+05      0.000000  240004.000000      7.000000      2.000000   \nmax    1.176443e+06      1.000000  287127.000000      9.000000      4.000000   \n\n          residence          city     city_rank    series_dev  series_group  \\\ncount  73104.000000  73104.000000  73104.000000  73104.000000  73104.000000   \nmean      26.585248    268.858352      3.404643     24.455666      4.586042   \nstd        9.272219     98.773152      1.284477      7.760142      1.942284   \nmin       11.000000    101.000000      2.000000     11.000000      2.000000   \n25%       20.000000    175.000000      2.000000     16.000000      3.000000   \n50%       26.000000    297.000000      3.000000     27.000000      5.000000   \n75%       33.000000    342.000000      5.000000     31.000000      6.000000   \nmax       46.000000    441.000000      5.000000     37.000000      8.000000   \n\n       ...  u_newsCatInterestsST_y_1  u_newsCatInterestsST_y_2  \\\ncount  ...              73104.000000              73104.000000   \nmean   ...                122.068765                110.355753   \nstd    ...                 65.173354                 63.849116   \nmin    ...                  0.000000                  0.000000   \n25%    ...                 78.000000                 65.000000   \n50%    ...                112.000000                 98.000000   \n75%    ...                171.000000                168.000000   \nmax    ...                220.000000                220.000000   \n\n       u_newsCatInterestsST_y_3  u_newsCatInterestsST_y_4  \\\ncount              73104.000000              73104.000000   \nmean                 105.502339                103.364385   \nstd                   62.077208                 62.371114   \nmin                    0.000000                  0.000000   \n25%                   62.000000                 57.000000   \n50%                   98.000000                 98.000000   \n75%                  157.000000                155.000000   \nmax                  220.000000                220.000000   \n\n       u_newsCatInterestsST_y_5  u_click_ca2_news_1  u_click_ca2_news_2  \\\ncount              73104.000000        73104.000000        73104.000000   \nmean                 102.512735          114.086001          111.556358   \nstd                   61.594837           65.250141           64.075987   \nmin                    0.000000            0.000000            0.000000   \n25%                   57.000000           65.000000           63.000000   \n50%                   98.000000          108.000000          104.000000   \n75%                  152.000000          171.000000          168.000000   \nmax                  220.000000          220.000000          220.000000   \n\n       u_click_ca2_news_3  u_click_ca2_news_4  u_click_ca2_news_5  \ncount        73104.000000        73104.000000        73104.000000  \nmean           109.599653          108.906298          107.884822  \nstd             63.348185           64.481685           64.559538  \nmin              0.000000            0.000000            0.000000  \n25%             62.000000           57.000000           56.000000  \n50%            100.000000          104.000000          104.000000  \n75%            168.000000          168.000000          168.000000  \nmax            220.000000          220.000000          220.000000  \n\n[8 rows x 104 columns]",
      "text/html": "<div>\n<style scoped>\n    .dataframe tbody tr th:only-of-type {\n        vertical-align: middle;\n    }\n\n    .dataframe tbody tr th {\n        vertical-align: top;\n    }\n\n    .dataframe thead th {\n        text-align: right;\n    }\n</style>\n<table border=\"1\" class=\"dataframe\">\n  <thead>\n    <tr style=\"text-align: right;\">\n      <th></th>\n      <th>log_id</th>\n      <th>label_x</th>\n      <th>user_id</th>\n      <th>age</th>\n      <th>gender</th>\n      <th>residence</th>\n      <th>city</th>\n      <th>city_rank</th>\n      <th>series_dev</th>\n      <th>series_group</th>\n      <th>...</th>\n      <th>u_newsCatInterestsST_y_1</th>\n      <th>u_newsCatInterestsST_y_2</th>\n      <th>u_newsCatInterestsST_y_3</th>\n      <th>u_newsCatInterestsST_y_4</th>\n      <th>u_newsCatInterestsST_y_5</th>\n      <th>u_click_ca2_news_1</th>\n      <th>u_click_ca2_news_2</th>\n      <th>u_click_ca2_news_3</th>\n      <th>u_click_ca2_news_4</th>\n      <th>u_click_ca2_news_5</th>\n    </tr>\n  </thead>\n  <tbody>\n    <tr>\n      <th>count</th>\n      <td>7.310400e+04</td>\n      <td>73104.000000</td>\n      <td>73104.000000</td>\n      <td>73104.000000</td>\n      <td>73104.000000</td>\n      <td>73104.000000</td>\n      <td>73104.000000</td>\n      <td>73104.000000</td>\n      <td>73104.000000</td>\n      <td>73104.000000</td>\n      <td>...</td>\n      <td>73104.000000</td>\n      <td>73104.000000</td>\n      <td>73104.000000</td>\n      <td>73104.000000</td>\n      <td>73104.000000</td>\n      <td>73104.000000</td>\n      <td>73104.000000</td>\n      <td>73104.000000</td>\n      <td>73104.000000</td>\n      <td>73104.000000</td>\n    </tr>\n    <tr>\n      <th>mean</th>\n      <td>5.456953e+05</td>\n      <td>0.008632</td>\n      <td>193422.610185</td>\n      <td>5.472710</td>\n      <td>2.375602</td>\n      <td>26.585248</td>\n      <td>268.858352</td>\n      <td>3.404643</td>\n      <td>24.455666</td>\n      <td>4.586042</td>\n      <td>...</td>\n      <td>122.068765</td>\n      <td>110.355753</td>\n      <td>105.502339</td>\n      <td>103.364385</td>\n      <td>102.512735</td>\n      <td>114.086001</td>\n      <td>111.556358</td>\n      <td>109.599653</td>\n      <td>108.906298</td>\n      <td>107.884822</td>\n    </tr>\n    <tr>\n      <th>std</th>\n      <td>3.181061e+05</td>\n      <td>0.092505</td>\n      <td>54052.268470</td>\n      <td>2.173391</td>\n      <td>0.735787</td>\n      <td>9.272219</td>\n      <td>98.773152</td>\n      <td>1.284477</td>\n      <td>7.760142</td>\n      <td>1.942284</td>\n      <td>...</td>\n      <td>65.173354</td>\n      <td>63.849116</td>\n      <td>62.077208</td>\n      <td>62.371114</td>\n      <td>61.594837</td>\n      <td>65.250141</td>\n      <td>64.075987</td>\n      <td>63.348185</td>\n      <td>64.481685</td>\n      <td>64.559538</td>\n    </tr>\n    <tr>\n      <th>min</th>\n      <td>4.000000e+00</td>\n      <td>0.000000</td>\n      <td>100022.000000</td>\n      <td>2.000000</td>\n      <td>2.000000</td>\n      <td>11.000000</td>\n      <td>101.000000</td>\n      <td>2.000000</td>\n      <td>11.000000</td>\n      <td>2.000000</td>\n      <td>...</td>\n      <td>0.000000</td>\n      <td>0.000000</td>\n      <td>0.000000</td>\n      <td>0.000000</td>\n      <td>0.000000</td>\n      <td>0.000000</td>\n      <td>0.000000</td>\n      <td>0.000000</td>\n      <td>0.000000</td>\n      <td>0.000000</td>\n    </tr>\n    <tr>\n      <th>25%</th>\n      <td>2.688722e+05</td>\n      <td>0.000000</td>\n      <td>145387.000000</td>\n      <td>3.000000</td>\n      <td>2.000000</td>\n      <td>20.000000</td>\n      <td>175.000000</td>\n      <td>2.000000</td>\n      <td>16.000000</td>\n      <td>3.000000</td>\n      <td>...</td>\n      <td>78.000000</td>\n      <td>65.000000</td>\n      <td>62.000000</td>\n      <td>57.000000</td>\n      <td>57.000000</td>\n      <td>65.000000</td>\n      <td>63.000000</td>\n      <td>62.000000</td>\n      <td>57.000000</td>\n      <td>56.000000</td>\n    </tr>\n    <tr>\n      <th>50%</th>\n      <td>5.425155e+05</td>\n      <td>0.000000</td>\n      <td>192789.000000</td>\n      <td>6.000000</td>\n      <td>2.000000</td>\n      <td>26.000000</td>\n      <td>297.000000</td>\n      <td>3.000000</td>\n      <td>27.000000</td>\n      <td>5.000000</td>\n      <td>...</td>\n      <td>112.000000</td>\n      <td>98.000000</td>\n      <td>98.000000</td>\n      <td>98.000000</td>\n      <td>98.000000</td>\n      <td>108.000000</td>\n      <td>104.000000</td>\n      <td>100.000000</td>\n      <td>104.000000</td>\n      <td>104.000000</td>\n    </tr>\n    <tr>\n      <th>75%</th>\n      <td>8.176330e+05</td>\n      <td>0.000000</td>\n      <td>240004.000000</td>\n      <td>7.000000</td>\n      <td>2.000000</td>\n      <td>33.000000</td>\n      <td>342.000000</td>\n      <td>5.000000</td>\n      <td>31.000000</td>\n      <td>6.000000</td>\n      <td>...</td>\n      <td>171.000000</td>\n      <td>168.000000</td>\n      <td>157.000000</td>\n      <td>155.000000</td>\n      <td>152.000000</td>\n      <td>171.000000</td>\n      <td>168.000000</td>\n      <td>168.000000</td>\n      <td>168.000000</td>\n      <td>168.000000</td>\n    </tr>\n    <tr>\n      <th>max</th>\n      <td>1.176443e+06</td>\n      <td>1.000000</td>\n      <td>287127.000000</td>\n      <td>9.000000</td>\n      <td>4.000000</td>\n      <td>46.000000</td>\n      <td>441.000000</td>\n      <td>5.000000</td>\n      <td>37.000000</td>\n      <td>8.000000</td>\n      <td>...</td>\n      <td>220.000000</td>\n      <td>220.000000</td>\n      <td>220.000000</td>\n      <td>220.000000</td>\n      <td>220.000000</td>\n      <td>220.000000</td>\n      <td>220.000000</td>\n      <td>220.000000</td>\n      <td>220.000000</td>\n      <td>220.000000</td>\n    </tr>\n  </tbody>\n</table>\n<p>8 rows × 104 columns</p>\n</div>"
     },
     "execution_count": 10,
     "metadata": {},
     "output_type": "execute_result"
    }
   ],
   "source": [
    "click.describe()"
   ],
   "metadata": {
    "collapsed": false,
    "ExecuteTime": {
     "end_time": "2024-06-28T04:56:00.775984Z",
     "start_time": "2024-06-28T04:56:00.461292Z"
    }
   },
   "id": "ab8deccf4d05ccd",
   "execution_count": 10
  },
  {
   "cell_type": "code",
   "outputs": [
    {
     "data": {
      "text/plain": "             log_id  label_x        user_id           age        gender  \\\ncount  1.000000e+04  10000.0   10000.000000  10000.000000  10000.000000   \nmean   8.715241e+05      1.0  239184.753700      7.256700      3.453000   \nstd    1.592501e+05      0.0   23386.801478      0.977395      0.497811   \nmin    5.892950e+05      1.0  194224.000000      6.000000      3.000000   \n25%    7.350525e+05      1.0  219697.750000      6.000000      3.000000   \n50%    8.665285e+05      1.0  238713.000000      7.000000      3.000000   \n75%    1.006610e+06      1.0  258434.500000      8.000000      4.000000   \nmax    1.176057e+06      1.0  286644.000000      9.000000      4.000000   \n\n          residence          city     city_rank   series_dev  series_group  \\\ncount  10000.000000  10000.000000  10000.000000  10000.00000  10000.000000   \nmean      37.269300    352.789500      4.293300     30.23790      6.477100   \nstd        4.878766     44.742566      0.455298      3.42457      0.847672   \nmin       29.000000    272.000000      4.000000     24.00000      5.000000   \n25%       33.000000    314.000000      4.000000     27.00000      6.000000   \n50%       37.000000    351.000000      4.000000     30.00000      6.000000   \n75%       41.000000    391.000000      5.000000     33.00000      7.000000   \nmax       46.000000    440.000000      5.000000     37.00000      8.000000   \n\n       ...  u_newsCatInterestsST_y_1  u_newsCatInterestsST_y_2  \\\ncount  ...              10000.000000              10000.000000   \nmean   ...                163.521700                166.880700   \nstd    ...                 27.988567                 27.560857   \nmin    ...                111.000000                111.000000   \n25%    ...                140.000000                143.000000   \n50%    ...                163.000000                168.000000   \n75%    ...                187.000000                190.000000   \nmax    ...                219.000000                220.000000   \n\n       u_newsCatInterestsST_y_3  u_newsCatInterestsST_y_4  \\\ncount              10000.000000              10000.000000   \nmean                 160.502100                161.753600   \nstd                   28.640772                 28.211237   \nmin                  110.000000                110.000000   \n25%                  136.000000                138.000000   \n50%                  159.000000                161.000000   \n75%                  184.000000                185.000000   \nmax                  219.000000                219.000000   \n\n       u_newsCatInterestsST_y_5  u_click_ca2_news_1  u_click_ca2_news_2  \\\ncount              10000.000000        10000.000000        10000.000000   \nmean                 162.527900          163.484700          163.110600   \nstd                   26.170524           31.603434           31.849842   \nmin                  111.000000          110.000000          110.000000   \n25%                  141.000000          135.000000          134.000000   \n50%                  161.000000          163.000000          162.000000   \n75%                  184.000000          191.250000          191.000000   \nmax                  219.000000          220.000000          220.000000   \n\n       u_click_ca2_news_3  u_click_ca2_news_4  u_click_ca2_news_5  \ncount        10000.000000          10000.0000        10000.000000  \nmean           168.338500            163.5000          163.659800  \nstd             25.931555             29.1469           25.964104  \nmin            111.000000            110.0000          112.000000  \n25%            148.000000            138.0000          142.000000  \n50%            169.000000            163.0000          163.000000  \n75%            190.000000            188.0000          185.000000  \nmax            219.000000            220.0000          218.000000  \n\n[8 rows x 104 columns]",
      "text/html": "<div>\n<style scoped>\n    .dataframe tbody tr th:only-of-type {\n        vertical-align: middle;\n    }\n\n    .dataframe tbody tr th {\n        vertical-align: top;\n    }\n\n    .dataframe thead th {\n        text-align: right;\n    }\n</style>\n<table border=\"1\" class=\"dataframe\">\n  <thead>\n    <tr style=\"text-align: right;\">\n      <th></th>\n      <th>log_id</th>\n      <th>label_x</th>\n      <th>user_id</th>\n      <th>age</th>\n      <th>gender</th>\n      <th>residence</th>\n      <th>city</th>\n      <th>city_rank</th>\n      <th>series_dev</th>\n      <th>series_group</th>\n      <th>...</th>\n      <th>u_newsCatInterestsST_y_1</th>\n      <th>u_newsCatInterestsST_y_2</th>\n      <th>u_newsCatInterestsST_y_3</th>\n      <th>u_newsCatInterestsST_y_4</th>\n      <th>u_newsCatInterestsST_y_5</th>\n      <th>u_click_ca2_news_1</th>\n      <th>u_click_ca2_news_2</th>\n      <th>u_click_ca2_news_3</th>\n      <th>u_click_ca2_news_4</th>\n      <th>u_click_ca2_news_5</th>\n    </tr>\n  </thead>\n  <tbody>\n    <tr>\n      <th>count</th>\n      <td>1.000000e+04</td>\n      <td>10000.0</td>\n      <td>10000.000000</td>\n      <td>10000.000000</td>\n      <td>10000.000000</td>\n      <td>10000.000000</td>\n      <td>10000.000000</td>\n      <td>10000.000000</td>\n      <td>10000.00000</td>\n      <td>10000.000000</td>\n      <td>...</td>\n      <td>10000.000000</td>\n      <td>10000.000000</td>\n      <td>10000.000000</td>\n      <td>10000.000000</td>\n      <td>10000.000000</td>\n      <td>10000.000000</td>\n      <td>10000.000000</td>\n      <td>10000.000000</td>\n      <td>10000.0000</td>\n      <td>10000.000000</td>\n    </tr>\n    <tr>\n      <th>mean</th>\n      <td>8.715241e+05</td>\n      <td>1.0</td>\n      <td>239184.753700</td>\n      <td>7.256700</td>\n      <td>3.453000</td>\n      <td>37.269300</td>\n      <td>352.789500</td>\n      <td>4.293300</td>\n      <td>30.23790</td>\n      <td>6.477100</td>\n      <td>...</td>\n      <td>163.521700</td>\n      <td>166.880700</td>\n      <td>160.502100</td>\n      <td>161.753600</td>\n      <td>162.527900</td>\n      <td>163.484700</td>\n      <td>163.110600</td>\n      <td>168.338500</td>\n      <td>163.5000</td>\n      <td>163.659800</td>\n    </tr>\n    <tr>\n      <th>std</th>\n      <td>1.592501e+05</td>\n      <td>0.0</td>\n      <td>23386.801478</td>\n      <td>0.977395</td>\n      <td>0.497811</td>\n      <td>4.878766</td>\n      <td>44.742566</td>\n      <td>0.455298</td>\n      <td>3.42457</td>\n      <td>0.847672</td>\n      <td>...</td>\n      <td>27.988567</td>\n      <td>27.560857</td>\n      <td>28.640772</td>\n      <td>28.211237</td>\n      <td>26.170524</td>\n      <td>31.603434</td>\n      <td>31.849842</td>\n      <td>25.931555</td>\n      <td>29.1469</td>\n      <td>25.964104</td>\n    </tr>\n    <tr>\n      <th>min</th>\n      <td>5.892950e+05</td>\n      <td>1.0</td>\n      <td>194224.000000</td>\n      <td>6.000000</td>\n      <td>3.000000</td>\n      <td>29.000000</td>\n      <td>272.000000</td>\n      <td>4.000000</td>\n      <td>24.00000</td>\n      <td>5.000000</td>\n      <td>...</td>\n      <td>111.000000</td>\n      <td>111.000000</td>\n      <td>110.000000</td>\n      <td>110.000000</td>\n      <td>111.000000</td>\n      <td>110.000000</td>\n      <td>110.000000</td>\n      <td>111.000000</td>\n      <td>110.0000</td>\n      <td>112.000000</td>\n    </tr>\n    <tr>\n      <th>25%</th>\n      <td>7.350525e+05</td>\n      <td>1.0</td>\n      <td>219697.750000</td>\n      <td>6.000000</td>\n      <td>3.000000</td>\n      <td>33.000000</td>\n      <td>314.000000</td>\n      <td>4.000000</td>\n      <td>27.00000</td>\n      <td>6.000000</td>\n      <td>...</td>\n      <td>140.000000</td>\n      <td>143.000000</td>\n      <td>136.000000</td>\n      <td>138.000000</td>\n      <td>141.000000</td>\n      <td>135.000000</td>\n      <td>134.000000</td>\n      <td>148.000000</td>\n      <td>138.0000</td>\n      <td>142.000000</td>\n    </tr>\n    <tr>\n      <th>50%</th>\n      <td>8.665285e+05</td>\n      <td>1.0</td>\n      <td>238713.000000</td>\n      <td>7.000000</td>\n      <td>3.000000</td>\n      <td>37.000000</td>\n      <td>351.000000</td>\n      <td>4.000000</td>\n      <td>30.00000</td>\n      <td>6.000000</td>\n      <td>...</td>\n      <td>163.000000</td>\n      <td>168.000000</td>\n      <td>159.000000</td>\n      <td>161.000000</td>\n      <td>161.000000</td>\n      <td>163.000000</td>\n      <td>162.000000</td>\n      <td>169.000000</td>\n      <td>163.0000</td>\n      <td>163.000000</td>\n    </tr>\n    <tr>\n      <th>75%</th>\n      <td>1.006610e+06</td>\n      <td>1.0</td>\n      <td>258434.500000</td>\n      <td>8.000000</td>\n      <td>4.000000</td>\n      <td>41.000000</td>\n      <td>391.000000</td>\n      <td>5.000000</td>\n      <td>33.00000</td>\n      <td>7.000000</td>\n      <td>...</td>\n      <td>187.000000</td>\n      <td>190.000000</td>\n      <td>184.000000</td>\n      <td>185.000000</td>\n      <td>184.000000</td>\n      <td>191.250000</td>\n      <td>191.000000</td>\n      <td>190.000000</td>\n      <td>188.0000</td>\n      <td>185.000000</td>\n    </tr>\n    <tr>\n      <th>max</th>\n      <td>1.176057e+06</td>\n      <td>1.0</td>\n      <td>286644.000000</td>\n      <td>9.000000</td>\n      <td>4.000000</td>\n      <td>46.000000</td>\n      <td>440.000000</td>\n      <td>5.000000</td>\n      <td>37.00000</td>\n      <td>8.000000</td>\n      <td>...</td>\n      <td>219.000000</td>\n      <td>220.000000</td>\n      <td>219.000000</td>\n      <td>219.000000</td>\n      <td>219.000000</td>\n      <td>220.000000</td>\n      <td>220.000000</td>\n      <td>219.000000</td>\n      <td>220.0000</td>\n      <td>218.000000</td>\n    </tr>\n  </tbody>\n</table>\n<p>8 rows × 104 columns</p>\n</div>"
     },
     "execution_count": 11,
     "metadata": {},
     "output_type": "execute_result"
    }
   ],
   "source": [
    "synthetic_click.describe()"
   ],
   "metadata": {
    "collapsed": false,
    "ExecuteTime": {
     "end_time": "2024-06-28T04:56:00.912216Z",
     "start_time": "2024-06-28T04:56:00.776989Z"
    }
   },
   "id": "b5366b4106bd07e1",
   "execution_count": 11
  },
  {
   "cell_type": "code",
   "outputs": [],
   "source": [
    "click.to_csv(r'C:\\Users\\lucas\\Downloads\\GES Hackathon\\decrypted_file\\train\\real_click.csv', index=False)\n",
    "synthetic_click.to_csv(r'C:\\Users\\lucas\\Downloads\\GES Hackathon\\decrypted_file\\train\\synthetic_click.csv', index=False)"
   ],
   "metadata": {
    "collapsed": false,
    "ExecuteTime": {
     "end_time": "2024-06-28T04:56:02.978306Z",
     "start_time": "2024-06-28T04:56:00.913222Z"
    }
   },
   "id": "d8101228015684fb",
   "execution_count": 12
  },
  {
   "cell_type": "code",
   "outputs": [],
   "source": [],
   "metadata": {
    "collapsed": false,
    "ExecuteTime": {
     "end_time": "2024-06-28T04:56:02.981228Z",
     "start_time": "2024-06-28T04:56:02.979320Z"
    }
   },
   "id": "f67b9111b0d65040",
   "execution_count": 12
  }
 ],
 "metadata": {
  "kernelspec": {
   "display_name": "Python 3",
   "language": "python",
   "name": "python3"
  },
  "language_info": {
   "codemirror_mode": {
    "name": "ipython",
    "version": 2
   },
   "file_extension": ".py",
   "mimetype": "text/x-python",
   "name": "python",
   "nbconvert_exporter": "python",
   "pygments_lexer": "ipython2",
   "version": "2.7.6"
  }
 },
 "nbformat": 4,
 "nbformat_minor": 5
}
