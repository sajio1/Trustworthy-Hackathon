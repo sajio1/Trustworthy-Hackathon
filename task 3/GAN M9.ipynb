{
 "cells": [
  {
   "cell_type": "code",
   "outputs": [],
   "source": [
    "import pandas as pd\n",
    "import numpy as np\n",
    "from tensorflow.keras.models import Model, Sequential\n",
    "from tensorflow.keras.layers import Input, Dense, LeakyReLU, BatchNormalization\n",
    "from tensorflow.keras.optimizers import Adam\n",
    "from sklearn.preprocessing import MinMaxScaler\n",
    "import tensorflow as tf\n",
    "np.random.seed(42)\n",
    "tf.random.set_seed(42)\n"
   ],
   "metadata": {
    "collapsed": false,
    "ExecuteTime": {
     "end_time": "2024-06-28T03:46:36.785917Z",
     "start_time": "2024-06-28T03:46:31.698400Z"
    }
   },
   "id": "b8c88fca6834d655",
   "execution_count": 95
  },
  {
   "cell_type": "code",
   "outputs": [],
   "source": [
    "class GAN:\n",
    "    def __init__(self, latent_dim, data_dim):\n",
    "        self.latent_dim = latent_dim\n",
    "        self.data_dim = data_dim\n",
    "\n",
    "        # Build and compile the discriminator\n",
    "        self.discriminator = self.build_discriminator()\n",
    "        self.discriminator.compile(loss='binary_crossentropy',\n",
    "                                   optimizer=Adam(learning_rate=0.0002, beta_1=0.5),\n",
    "                                   metrics=['accuracy'])\n",
    "\n",
    "        # Build the generator\n",
    "        self.generator = self.build_generator()\n",
    "\n",
    "        # The generator takes noise as input and generates data\n",
    "        z = Input(shape=(self.latent_dim,))\n",
    "        generated_data = self.generator(z)\n",
    "\n",
    "        # For the combined model, we will only train the generator\n",
    "        self.discriminator.trainable = False\n",
    "\n",
    "        # The discriminator takes generated data as input and determines validity\n",
    "        validity = self.discriminator(generated_data)\n",
    "\n",
    "        # The combined model (stacked generator and discriminator)\n",
    "        self.combined = Model(z, validity)\n",
    "        self.combined.compile(loss='binary_crossentropy', optimizer=Adam(learning_rate=0.0001, beta_1=0.5))\n",
    "\n",
    "        # Reset the discriminator's trainable attribute to True after compiling the combined model\n",
    "        self.discriminator.trainable = True\n",
    "\n",
    "        # Debugging: Check trainable weights\n",
    "        print(\"Discriminator trainable weights:\", self.discriminator.trainable_weights)\n",
    "        print(\"Generator trainable weights:\", self.generator.trainable_weights)\n",
    "        print(\"Combined model trainable weights:\", self.combined.trainable_weights)\n",
    "    def build_generator(self):\n",
    "        model = Sequential()\n",
    "        model.add(Input(shape=(self.latent_dim,)))\n",
    "        model.add(Dense(256))\n",
    "        model.add(LeakyReLU(negative_slope=0.2))\n",
    "        model.add(BatchNormalization(momentum=0.8))\n",
    "        model.add(Dense(self.data_dim, activation='sigmoid'))\n",
    "        model.summary()\n",
    "\n",
    "        noise = Input(shape=(self.latent_dim,))\n",
    "        data = model(noise)\n",
    "\n",
    "        return Model(noise, data)\n",
    "\n",
    "    def build_discriminator(self):\n",
    "        model = Sequential()\n",
    "        model.add(Input(shape=(self.data_dim,)))\n",
    "        model.add(Dense(256))\n",
    "        model.add(LeakyReLU(negative_slope=0.2))\n",
    "        model.add(Dense(1, activation='sigmoid'))\n",
    "        model.summary()\n",
    "\n",
    "        data = Input(shape=(self.data_dim,))\n",
    "        validity = model(data)\n",
    "\n",
    "        return Model(data, validity)\n",
    "\n",
    "    def train(self, data, epochs, batch_size):\n",
    "        valid = np.ones((batch_size, 1))\n",
    "        fake = np.zeros((batch_size, 1))\n",
    "\n",
    "        for epoch in range(epochs):\n",
    "            # Train Discriminator\n",
    "            idx = np.random.randint(0, data.shape[0], batch_size)\n",
    "            real_data = data[idx]  # Remove .todense() as data is already a dense array\n",
    "\n",
    "            noise = np.random.normal(0, 1, (batch_size, self.latent_dim))\n",
    "            generated_data = self.generator.predict(noise)\n",
    "\n",
    "            d_loss_real = self.discriminator.train_on_batch(real_data, valid)\n",
    "            d_loss_fake = self.discriminator.train_on_batch(generated_data, fake)\n",
    "            d_loss = 0.5 * np.add(d_loss_real, d_loss_fake)\n",
    "\n",
    "            # Train Generator\n",
    "            noise = np.random.normal(0, 1, (batch_size, self.latent_dim))\n",
    "            g_loss = self.combined.train_on_batch(noise, valid)\n",
    "\n",
    "            # Print the losses\n",
    "            print(f\"{epoch} [D loss: {d_loss}] [G loss: {g_loss}]\")"
   ],
   "metadata": {
    "collapsed": false,
    "ExecuteTime": {
     "end_time": "2024-06-28T03:46:36.809896Z",
     "start_time": "2024-06-28T03:46:36.787925Z"
    }
   },
   "id": "66266621e9cec7ad",
   "execution_count": 96
  },
  {
   "cell_type": "code",
   "outputs": [],
   "source": [
    "# Load CSV files and merge them\n",
    "ads_data_path = r'C:\\Users\\lucas\\Downloads\\GES Hackathon\\decrypted_file\\train\\train_data_ads.csv'  # Replace with actual file path\n",
    "feeds_data_path = r'C:\\Users\\lucas\\Downloads\\GES Hackathon\\decrypted_file\\train\\train_data_feeds.csv'  # Replace with actual file path\n",
    "\n",
    "ads_data = pd.read_csv(ads_data_path)\n",
    "feeds_data = pd.read_csv(feeds_data_path)"
   ],
   "metadata": {
    "collapsed": false,
    "ExecuteTime": {
     "end_time": "2024-06-28T03:48:12.367703Z",
     "start_time": "2024-06-28T03:46:36.810900Z"
    }
   },
   "id": "ae0da68152764bee",
   "execution_count": 97
  },
  {
   "cell_type": "code",
   "outputs": [],
   "source": [
    "# Fractions of data used as loading both of them in full raises a memory allocation error due to large size\n",
    "sample_ads_data = ads_data.sample(frac=.01, random_state=42)\n",
    "sample_feeds_data = feeds_data.sample(frac=.01, random_state=42)"
   ],
   "metadata": {
    "collapsed": false,
    "ExecuteTime": {
     "end_time": "2024-06-28T03:48:13.920731Z",
     "start_time": "2024-06-28T03:48:12.383716Z"
    }
   },
   "id": "9ca327d533b68d53",
   "execution_count": 98
  },
  {
   "cell_type": "code",
   "outputs": [],
   "source": [
    "click = pd.merge(sample_ads_data, sample_feeds_data, left_on='user_id', right_on='u_userId')"
   ],
   "metadata": {
    "collapsed": false,
    "ExecuteTime": {
     "end_time": "2024-06-28T03:48:14.072018Z",
     "start_time": "2024-06-28T03:48:13.921752Z"
    }
   },
   "id": "7e5973c86f4ee333",
   "execution_count": 99
  },
  {
   "cell_type": "code",
   "outputs": [
    {
     "data": {
      "text/plain": "   log_id  label_x  user_id  age  gender  residence  city  city_rank  \\\n0  389752        0   192266    2       2         46   354          2   \n1  389752        0   192266    2       2         46   354          2   \n2  237151        0   231175    6       4         33   319          3   \n3  963804        0   203833    8       2         30   113          5   \n4  376817        0   115573    2       2         27   162          5   \n\n   series_dev  series_group  ...  e_ch   e_m  e_po  e_pl  e_rn  e_section  \\\n0          11             8  ...    19   320     2   214     2          0   \n1          11             8  ...    19   320     9   214     6          0   \n2          27             2  ...    19  1185    16  1830     1          0   \n3          31             3  ...    19   565    10  1396    57          0   \n4          30             3  ...    19   327     7  2073     2          0   \n\n           e_et  label_y  cillabel  pro  \n0  202206080822       -1        -1    0  \n1  202206032022       -1        -1    0  \n2  202206051726       -1        -1    0  \n3  202206031220       -1        -1    0  \n4  202206070922        1        -1  100  \n\n[5 rows x 63 columns]",
      "text/html": "<div>\n<style scoped>\n    .dataframe tbody tr th:only-of-type {\n        vertical-align: middle;\n    }\n\n    .dataframe tbody tr th {\n        vertical-align: top;\n    }\n\n    .dataframe thead th {\n        text-align: right;\n    }\n</style>\n<table border=\"1\" class=\"dataframe\">\n  <thead>\n    <tr style=\"text-align: right;\">\n      <th></th>\n      <th>log_id</th>\n      <th>label_x</th>\n      <th>user_id</th>\n      <th>age</th>\n      <th>gender</th>\n      <th>residence</th>\n      <th>city</th>\n      <th>city_rank</th>\n      <th>series_dev</th>\n      <th>series_group</th>\n      <th>...</th>\n      <th>e_ch</th>\n      <th>e_m</th>\n      <th>e_po</th>\n      <th>e_pl</th>\n      <th>e_rn</th>\n      <th>e_section</th>\n      <th>e_et</th>\n      <th>label_y</th>\n      <th>cillabel</th>\n      <th>pro</th>\n    </tr>\n  </thead>\n  <tbody>\n    <tr>\n      <th>0</th>\n      <td>389752</td>\n      <td>0</td>\n      <td>192266</td>\n      <td>2</td>\n      <td>2</td>\n      <td>46</td>\n      <td>354</td>\n      <td>2</td>\n      <td>11</td>\n      <td>8</td>\n      <td>...</td>\n      <td>19</td>\n      <td>320</td>\n      <td>2</td>\n      <td>214</td>\n      <td>2</td>\n      <td>0</td>\n      <td>202206080822</td>\n      <td>-1</td>\n      <td>-1</td>\n      <td>0</td>\n    </tr>\n    <tr>\n      <th>1</th>\n      <td>389752</td>\n      <td>0</td>\n      <td>192266</td>\n      <td>2</td>\n      <td>2</td>\n      <td>46</td>\n      <td>354</td>\n      <td>2</td>\n      <td>11</td>\n      <td>8</td>\n      <td>...</td>\n      <td>19</td>\n      <td>320</td>\n      <td>9</td>\n      <td>214</td>\n      <td>6</td>\n      <td>0</td>\n      <td>202206032022</td>\n      <td>-1</td>\n      <td>-1</td>\n      <td>0</td>\n    </tr>\n    <tr>\n      <th>2</th>\n      <td>237151</td>\n      <td>0</td>\n      <td>231175</td>\n      <td>6</td>\n      <td>4</td>\n      <td>33</td>\n      <td>319</td>\n      <td>3</td>\n      <td>27</td>\n      <td>2</td>\n      <td>...</td>\n      <td>19</td>\n      <td>1185</td>\n      <td>16</td>\n      <td>1830</td>\n      <td>1</td>\n      <td>0</td>\n      <td>202206051726</td>\n      <td>-1</td>\n      <td>-1</td>\n      <td>0</td>\n    </tr>\n    <tr>\n      <th>3</th>\n      <td>963804</td>\n      <td>0</td>\n      <td>203833</td>\n      <td>8</td>\n      <td>2</td>\n      <td>30</td>\n      <td>113</td>\n      <td>5</td>\n      <td>31</td>\n      <td>3</td>\n      <td>...</td>\n      <td>19</td>\n      <td>565</td>\n      <td>10</td>\n      <td>1396</td>\n      <td>57</td>\n      <td>0</td>\n      <td>202206031220</td>\n      <td>-1</td>\n      <td>-1</td>\n      <td>0</td>\n    </tr>\n    <tr>\n      <th>4</th>\n      <td>376817</td>\n      <td>0</td>\n      <td>115573</td>\n      <td>2</td>\n      <td>2</td>\n      <td>27</td>\n      <td>162</td>\n      <td>5</td>\n      <td>30</td>\n      <td>3</td>\n      <td>...</td>\n      <td>19</td>\n      <td>327</td>\n      <td>7</td>\n      <td>2073</td>\n      <td>2</td>\n      <td>0</td>\n      <td>202206070922</td>\n      <td>1</td>\n      <td>-1</td>\n      <td>100</td>\n    </tr>\n  </tbody>\n</table>\n<p>5 rows × 63 columns</p>\n</div>"
     },
     "execution_count": 100,
     "metadata": {},
     "output_type": "execute_result"
    }
   ],
   "source": [
    "click.head()"
   ],
   "metadata": {
    "collapsed": false,
    "ExecuteTime": {
     "end_time": "2024-06-28T03:48:14.107363Z",
     "start_time": "2024-06-28T03:48:14.073033Z"
    }
   },
   "id": "3e56aff5008da276",
   "execution_count": 100
  },
  {
   "cell_type": "code",
   "outputs": [
    {
     "data": {
      "text/plain": "   log_id  label_x  user_id  age  gender  residence  city  city_rank  \\\n0  389752        0   192266    2       2         46   354          2   \n1  389752        0   192266    2       2         46   354          2   \n2  237151        0   231175    6       4         33   319          3   \n3  963804        0   203833    8       2         30   113          5   \n4  376817        0   115573    2       2         27   162          5   \n\n   series_dev  series_group  ...  u_newsCatInterestsST_y_1  \\\n0          11             8  ...                        85   \n1          11             8  ...                       173   \n2          27             2  ...                       112   \n3          31             3  ...                       168   \n4          30             3  ...                       199   \n\n   u_newsCatInterestsST_y_2  u_newsCatInterestsST_y_3  \\\n0                        65                       152   \n1                        50                       123   \n2                       109                        44   \n3                       167                        65   \n4                        25                       171   \n\n   u_newsCatInterestsST_y_4  u_newsCatInterestsST_y_5  u_click_ca2_news_1  \\\n0                       116                       177                  85   \n1                         0                         0                 173   \n2                       153                       157                 112   \n3                         0                         0                 168   \n4                        65                       104                  65   \n\n   u_click_ca2_news_2  u_click_ca2_news_3  u_click_ca2_news_4  \\\n0                 152                  65                 116   \n1                  50                 123                  80   \n2                  17                 109                  78   \n3                 167                 219                  65   \n4                 104                 131                 199   \n\n   u_click_ca2_news_5  \n0                  25  \n1                 114  \n2                 153  \n3                 109  \n4                  66  \n\n[5 rows x 104 columns]",
      "text/html": "<div>\n<style scoped>\n    .dataframe tbody tr th:only-of-type {\n        vertical-align: middle;\n    }\n\n    .dataframe tbody tr th {\n        vertical-align: top;\n    }\n\n    .dataframe thead th {\n        text-align: right;\n    }\n</style>\n<table border=\"1\" class=\"dataframe\">\n  <thead>\n    <tr style=\"text-align: right;\">\n      <th></th>\n      <th>log_id</th>\n      <th>label_x</th>\n      <th>user_id</th>\n      <th>age</th>\n      <th>gender</th>\n      <th>residence</th>\n      <th>city</th>\n      <th>city_rank</th>\n      <th>series_dev</th>\n      <th>series_group</th>\n      <th>...</th>\n      <th>u_newsCatInterestsST_y_1</th>\n      <th>u_newsCatInterestsST_y_2</th>\n      <th>u_newsCatInterestsST_y_3</th>\n      <th>u_newsCatInterestsST_y_4</th>\n      <th>u_newsCatInterestsST_y_5</th>\n      <th>u_click_ca2_news_1</th>\n      <th>u_click_ca2_news_2</th>\n      <th>u_click_ca2_news_3</th>\n      <th>u_click_ca2_news_4</th>\n      <th>u_click_ca2_news_5</th>\n    </tr>\n  </thead>\n  <tbody>\n    <tr>\n      <th>0</th>\n      <td>389752</td>\n      <td>0</td>\n      <td>192266</td>\n      <td>2</td>\n      <td>2</td>\n      <td>46</td>\n      <td>354</td>\n      <td>2</td>\n      <td>11</td>\n      <td>8</td>\n      <td>...</td>\n      <td>85</td>\n      <td>65</td>\n      <td>152</td>\n      <td>116</td>\n      <td>177</td>\n      <td>85</td>\n      <td>152</td>\n      <td>65</td>\n      <td>116</td>\n      <td>25</td>\n    </tr>\n    <tr>\n      <th>1</th>\n      <td>389752</td>\n      <td>0</td>\n      <td>192266</td>\n      <td>2</td>\n      <td>2</td>\n      <td>46</td>\n      <td>354</td>\n      <td>2</td>\n      <td>11</td>\n      <td>8</td>\n      <td>...</td>\n      <td>173</td>\n      <td>50</td>\n      <td>123</td>\n      <td>0</td>\n      <td>0</td>\n      <td>173</td>\n      <td>50</td>\n      <td>123</td>\n      <td>80</td>\n      <td>114</td>\n    </tr>\n    <tr>\n      <th>2</th>\n      <td>237151</td>\n      <td>0</td>\n      <td>231175</td>\n      <td>6</td>\n      <td>4</td>\n      <td>33</td>\n      <td>319</td>\n      <td>3</td>\n      <td>27</td>\n      <td>2</td>\n      <td>...</td>\n      <td>112</td>\n      <td>109</td>\n      <td>44</td>\n      <td>153</td>\n      <td>157</td>\n      <td>112</td>\n      <td>17</td>\n      <td>109</td>\n      <td>78</td>\n      <td>153</td>\n    </tr>\n    <tr>\n      <th>3</th>\n      <td>963804</td>\n      <td>0</td>\n      <td>203833</td>\n      <td>8</td>\n      <td>2</td>\n      <td>30</td>\n      <td>113</td>\n      <td>5</td>\n      <td>31</td>\n      <td>3</td>\n      <td>...</td>\n      <td>168</td>\n      <td>167</td>\n      <td>65</td>\n      <td>0</td>\n      <td>0</td>\n      <td>168</td>\n      <td>167</td>\n      <td>219</td>\n      <td>65</td>\n      <td>109</td>\n    </tr>\n    <tr>\n      <th>4</th>\n      <td>376817</td>\n      <td>0</td>\n      <td>115573</td>\n      <td>2</td>\n      <td>2</td>\n      <td>27</td>\n      <td>162</td>\n      <td>5</td>\n      <td>30</td>\n      <td>3</td>\n      <td>...</td>\n      <td>199</td>\n      <td>25</td>\n      <td>171</td>\n      <td>65</td>\n      <td>104</td>\n      <td>65</td>\n      <td>104</td>\n      <td>131</td>\n      <td>199</td>\n      <td>66</td>\n    </tr>\n  </tbody>\n</table>\n<p>5 rows × 104 columns</p>\n</div>"
     },
     "execution_count": 101,
     "metadata": {},
     "output_type": "execute_result"
    }
   ],
   "source": [
    "size = 5  # Every list seperated by ^ is at max 5 long \n",
    "\n",
    "def normalize_list_length(lst, max_length):\n",
    "    if len(lst) > max_length:  # If the list is longer than the fixed length\n",
    "        return lst[:max_length]  # Truncate the list\n",
    "    else:  # If the list is shorter than the fixed length\n",
    "        return lst + ['0'] * (max_length - len(lst))\n",
    "\n",
    "def split_list_column(df, column_name, max_length):\n",
    "    # Ensure the column contains lists before processing\n",
    "    if df[column_name].apply(lambda x: isinstance(x, list)).all():\n",
    "        # Create a DataFrame from the lists with appropriate column names\n",
    "        split_columns = pd.DataFrame(df[column_name].tolist(),\n",
    "                                     columns=[f'{column_name}_{i+1}' for i in range(max_length)])\n",
    "        # Drop the original column and join the new columns\n",
    "        df = df.drop(columns=[column_name]).join(split_columns)\n",
    "    return df\n",
    "\n",
    "\n",
    "for col in click.columns: # This creates necessary columns \n",
    "    if click[col].dtype == object:  \n",
    "        max_length = click[col].apply(lambda x: x.count('^') + 1 if isinstance(x, str) else 1).max() \n",
    "        click[col] = click[col].apply(lambda x: x.split('^') if isinstance(x, str) else x)\n",
    "        click[col] = click[col].apply(lambda x: normalize_list_length(x, max_length) if isinstance(x, list) else x)\n",
    "        click = split_list_column(click, col, max_length)\n",
    "\n",
    "click = click.drop(columns=['i_entities', 'i_docId_1', 'i_s_sourceId_1']) # Drop strings for now\n",
    "click.head()\n"
   ],
   "metadata": {
    "collapsed": false,
    "ExecuteTime": {
     "end_time": "2024-06-28T03:48:30.133822Z",
     "start_time": "2024-06-28T03:48:14.108377Z"
    }
   },
   "id": "52326aa138f1b7aa",
   "execution_count": 101
  },
  {
   "cell_type": "code",
   "outputs": [],
   "source": [
    "for column in click.columns: # Convert to integer\n",
    "    if click[column].dtype == object:\n",
    "        click[column] = click[column].astype(int)"
   ],
   "metadata": {
    "collapsed": false,
    "ExecuteTime": {
     "end_time": "2024-06-28T03:48:30.652078Z",
     "start_time": "2024-06-28T03:48:30.134345Z"
    }
   },
   "id": "26f5fc3a2dbd5b9e",
   "execution_count": 102
  },
  {
   "cell_type": "code",
   "outputs": [
    {
     "data": {
      "text/plain": "\u001B[1mModel: \"sequential_18\"\u001B[0m\n",
      "text/html": "<pre style=\"white-space:pre;overflow-x:auto;line-height:normal;font-family:Menlo,'DejaVu Sans Mono',consolas,'Courier New',monospace\"><span style=\"font-weight: bold\">Model: \"sequential_18\"</span>\n</pre>\n"
     },
     "metadata": {},
     "output_type": "display_data"
    },
    {
     "data": {
      "text/plain": "┏━━━━━━━━━━━━━━━━━━━━━━━━━━━━━━━━━┳━━━━━━━━━━━━━━━━━━━━━━━━┳━━━━━━━━━━━━━━━┓\n┃\u001B[1m \u001B[0m\u001B[1mLayer (type)                   \u001B[0m\u001B[1m \u001B[0m┃\u001B[1m \u001B[0m\u001B[1mOutput Shape          \u001B[0m\u001B[1m \u001B[0m┃\u001B[1m \u001B[0m\u001B[1m      Param #\u001B[0m\u001B[1m \u001B[0m┃\n┡━━━━━━━━━━━━━━━━━━━━━━━━━━━━━━━━━╇━━━━━━━━━━━━━━━━━━━━━━━━╇━━━━━━━━━━━━━━━┩\n│ dense_36 (\u001B[38;5;33mDense\u001B[0m)                │ (\u001B[38;5;45mNone\u001B[0m, \u001B[38;5;34m256\u001B[0m)            │        \u001B[38;5;34m26,880\u001B[0m │\n├─────────────────────────────────┼────────────────────────┼───────────────┤\n│ leaky_re_lu_18 (\u001B[38;5;33mLeakyReLU\u001B[0m)      │ (\u001B[38;5;45mNone\u001B[0m, \u001B[38;5;34m256\u001B[0m)            │             \u001B[38;5;34m0\u001B[0m │\n├─────────────────────────────────┼────────────────────────┼───────────────┤\n│ dense_37 (\u001B[38;5;33mDense\u001B[0m)                │ (\u001B[38;5;45mNone\u001B[0m, \u001B[38;5;34m1\u001B[0m)              │           \u001B[38;5;34m257\u001B[0m │\n└─────────────────────────────────┴────────────────────────┴───────────────┘\n",
      "text/html": "<pre style=\"white-space:pre;overflow-x:auto;line-height:normal;font-family:Menlo,'DejaVu Sans Mono',consolas,'Courier New',monospace\">┏━━━━━━━━━━━━━━━━━━━━━━━━━━━━━━━━━┳━━━━━━━━━━━━━━━━━━━━━━━━┳━━━━━━━━━━━━━━━┓\n┃<span style=\"font-weight: bold\"> Layer (type)                    </span>┃<span style=\"font-weight: bold\"> Output Shape           </span>┃<span style=\"font-weight: bold\">       Param # </span>┃\n┡━━━━━━━━━━━━━━━━━━━━━━━━━━━━━━━━━╇━━━━━━━━━━━━━━━━━━━━━━━━╇━━━━━━━━━━━━━━━┩\n│ dense_36 (<span style=\"color: #0087ff; text-decoration-color: #0087ff\">Dense</span>)                │ (<span style=\"color: #00d7ff; text-decoration-color: #00d7ff\">None</span>, <span style=\"color: #00af00; text-decoration-color: #00af00\">256</span>)            │        <span style=\"color: #00af00; text-decoration-color: #00af00\">26,880</span> │\n├─────────────────────────────────┼────────────────────────┼───────────────┤\n│ leaky_re_lu_18 (<span style=\"color: #0087ff; text-decoration-color: #0087ff\">LeakyReLU</span>)      │ (<span style=\"color: #00d7ff; text-decoration-color: #00d7ff\">None</span>, <span style=\"color: #00af00; text-decoration-color: #00af00\">256</span>)            │             <span style=\"color: #00af00; text-decoration-color: #00af00\">0</span> │\n├─────────────────────────────────┼────────────────────────┼───────────────┤\n│ dense_37 (<span style=\"color: #0087ff; text-decoration-color: #0087ff\">Dense</span>)                │ (<span style=\"color: #00d7ff; text-decoration-color: #00d7ff\">None</span>, <span style=\"color: #00af00; text-decoration-color: #00af00\">1</span>)              │           <span style=\"color: #00af00; text-decoration-color: #00af00\">257</span> │\n└─────────────────────────────────┴────────────────────────┴───────────────┘\n</pre>\n"
     },
     "metadata": {},
     "output_type": "display_data"
    },
    {
     "data": {
      "text/plain": "\u001B[1m Total params: \u001B[0m\u001B[38;5;34m27,137\u001B[0m (106.00 KB)\n",
      "text/html": "<pre style=\"white-space:pre;overflow-x:auto;line-height:normal;font-family:Menlo,'DejaVu Sans Mono',consolas,'Courier New',monospace\"><span style=\"font-weight: bold\"> Total params: </span><span style=\"color: #00af00; text-decoration-color: #00af00\">27,137</span> (106.00 KB)\n</pre>\n"
     },
     "metadata": {},
     "output_type": "display_data"
    },
    {
     "data": {
      "text/plain": "\u001B[1m Trainable params: \u001B[0m\u001B[38;5;34m27,137\u001B[0m (106.00 KB)\n",
      "text/html": "<pre style=\"white-space:pre;overflow-x:auto;line-height:normal;font-family:Menlo,'DejaVu Sans Mono',consolas,'Courier New',monospace\"><span style=\"font-weight: bold\"> Trainable params: </span><span style=\"color: #00af00; text-decoration-color: #00af00\">27,137</span> (106.00 KB)\n</pre>\n"
     },
     "metadata": {},
     "output_type": "display_data"
    },
    {
     "data": {
      "text/plain": "\u001B[1m Non-trainable params: \u001B[0m\u001B[38;5;34m0\u001B[0m (0.00 B)\n",
      "text/html": "<pre style=\"white-space:pre;overflow-x:auto;line-height:normal;font-family:Menlo,'DejaVu Sans Mono',consolas,'Courier New',monospace\"><span style=\"font-weight: bold\"> Non-trainable params: </span><span style=\"color: #00af00; text-decoration-color: #00af00\">0</span> (0.00 B)\n</pre>\n"
     },
     "metadata": {},
     "output_type": "display_data"
    },
    {
     "data": {
      "text/plain": "\u001B[1mModel: \"sequential_19\"\u001B[0m\n",
      "text/html": "<pre style=\"white-space:pre;overflow-x:auto;line-height:normal;font-family:Menlo,'DejaVu Sans Mono',consolas,'Courier New',monospace\"><span style=\"font-weight: bold\">Model: \"sequential_19\"</span>\n</pre>\n"
     },
     "metadata": {},
     "output_type": "display_data"
    },
    {
     "data": {
      "text/plain": "┏━━━━━━━━━━━━━━━━━━━━━━━━━━━━━━━━━┳━━━━━━━━━━━━━━━━━━━━━━━━┳━━━━━━━━━━━━━━━┓\n┃\u001B[1m \u001B[0m\u001B[1mLayer (type)                   \u001B[0m\u001B[1m \u001B[0m┃\u001B[1m \u001B[0m\u001B[1mOutput Shape          \u001B[0m\u001B[1m \u001B[0m┃\u001B[1m \u001B[0m\u001B[1m      Param #\u001B[0m\u001B[1m \u001B[0m┃\n┡━━━━━━━━━━━━━━━━━━━━━━━━━━━━━━━━━╇━━━━━━━━━━━━━━━━━━━━━━━━╇━━━━━━━━━━━━━━━┩\n│ dense_38 (\u001B[38;5;33mDense\u001B[0m)                │ (\u001B[38;5;45mNone\u001B[0m, \u001B[38;5;34m256\u001B[0m)            │        \u001B[38;5;34m25,856\u001B[0m │\n├─────────────────────────────────┼────────────────────────┼───────────────┤\n│ leaky_re_lu_19 (\u001B[38;5;33mLeakyReLU\u001B[0m)      │ (\u001B[38;5;45mNone\u001B[0m, \u001B[38;5;34m256\u001B[0m)            │             \u001B[38;5;34m0\u001B[0m │\n├─────────────────────────────────┼────────────────────────┼───────────────┤\n│ batch_normalization_9           │ (\u001B[38;5;45mNone\u001B[0m, \u001B[38;5;34m256\u001B[0m)            │         \u001B[38;5;34m1,024\u001B[0m │\n│ (\u001B[38;5;33mBatchNormalization\u001B[0m)            │                        │               │\n├─────────────────────────────────┼────────────────────────┼───────────────┤\n│ dense_39 (\u001B[38;5;33mDense\u001B[0m)                │ (\u001B[38;5;45mNone\u001B[0m, \u001B[38;5;34m104\u001B[0m)            │        \u001B[38;5;34m26,728\u001B[0m │\n└─────────────────────────────────┴────────────────────────┴───────────────┘\n",
      "text/html": "<pre style=\"white-space:pre;overflow-x:auto;line-height:normal;font-family:Menlo,'DejaVu Sans Mono',consolas,'Courier New',monospace\">┏━━━━━━━━━━━━━━━━━━━━━━━━━━━━━━━━━┳━━━━━━━━━━━━━━━━━━━━━━━━┳━━━━━━━━━━━━━━━┓\n┃<span style=\"font-weight: bold\"> Layer (type)                    </span>┃<span style=\"font-weight: bold\"> Output Shape           </span>┃<span style=\"font-weight: bold\">       Param # </span>┃\n┡━━━━━━━━━━━━━━━━━━━━━━━━━━━━━━━━━╇━━━━━━━━━━━━━━━━━━━━━━━━╇━━━━━━━━━━━━━━━┩\n│ dense_38 (<span style=\"color: #0087ff; text-decoration-color: #0087ff\">Dense</span>)                │ (<span style=\"color: #00d7ff; text-decoration-color: #00d7ff\">None</span>, <span style=\"color: #00af00; text-decoration-color: #00af00\">256</span>)            │        <span style=\"color: #00af00; text-decoration-color: #00af00\">25,856</span> │\n├─────────────────────────────────┼────────────────────────┼───────────────┤\n│ leaky_re_lu_19 (<span style=\"color: #0087ff; text-decoration-color: #0087ff\">LeakyReLU</span>)      │ (<span style=\"color: #00d7ff; text-decoration-color: #00d7ff\">None</span>, <span style=\"color: #00af00; text-decoration-color: #00af00\">256</span>)            │             <span style=\"color: #00af00; text-decoration-color: #00af00\">0</span> │\n├─────────────────────────────────┼────────────────────────┼───────────────┤\n│ batch_normalization_9           │ (<span style=\"color: #00d7ff; text-decoration-color: #00d7ff\">None</span>, <span style=\"color: #00af00; text-decoration-color: #00af00\">256</span>)            │         <span style=\"color: #00af00; text-decoration-color: #00af00\">1,024</span> │\n│ (<span style=\"color: #0087ff; text-decoration-color: #0087ff\">BatchNormalization</span>)            │                        │               │\n├─────────────────────────────────┼────────────────────────┼───────────────┤\n│ dense_39 (<span style=\"color: #0087ff; text-decoration-color: #0087ff\">Dense</span>)                │ (<span style=\"color: #00d7ff; text-decoration-color: #00d7ff\">None</span>, <span style=\"color: #00af00; text-decoration-color: #00af00\">104</span>)            │        <span style=\"color: #00af00; text-decoration-color: #00af00\">26,728</span> │\n└─────────────────────────────────┴────────────────────────┴───────────────┘\n</pre>\n"
     },
     "metadata": {},
     "output_type": "display_data"
    },
    {
     "data": {
      "text/plain": "\u001B[1m Total params: \u001B[0m\u001B[38;5;34m53,608\u001B[0m (209.41 KB)\n",
      "text/html": "<pre style=\"white-space:pre;overflow-x:auto;line-height:normal;font-family:Menlo,'DejaVu Sans Mono',consolas,'Courier New',monospace\"><span style=\"font-weight: bold\"> Total params: </span><span style=\"color: #00af00; text-decoration-color: #00af00\">53,608</span> (209.41 KB)\n</pre>\n"
     },
     "metadata": {},
     "output_type": "display_data"
    },
    {
     "data": {
      "text/plain": "\u001B[1m Trainable params: \u001B[0m\u001B[38;5;34m53,096\u001B[0m (207.41 KB)\n",
      "text/html": "<pre style=\"white-space:pre;overflow-x:auto;line-height:normal;font-family:Menlo,'DejaVu Sans Mono',consolas,'Courier New',monospace\"><span style=\"font-weight: bold\"> Trainable params: </span><span style=\"color: #00af00; text-decoration-color: #00af00\">53,096</span> (207.41 KB)\n</pre>\n"
     },
     "metadata": {},
     "output_type": "display_data"
    },
    {
     "data": {
      "text/plain": "\u001B[1m Non-trainable params: \u001B[0m\u001B[38;5;34m512\u001B[0m (2.00 KB)\n",
      "text/html": "<pre style=\"white-space:pre;overflow-x:auto;line-height:normal;font-family:Menlo,'DejaVu Sans Mono',consolas,'Courier New',monospace\"><span style=\"font-weight: bold\"> Non-trainable params: </span><span style=\"color: #00af00; text-decoration-color: #00af00\">512</span> (2.00 KB)\n</pre>\n"
     },
     "metadata": {},
     "output_type": "display_data"
    },
    {
     "name": "stdout",
     "output_type": "stream",
     "text": [
      "Discriminator trainable weights: [<KerasVariable shape=(104, 256), dtype=float32, path=sequential_18/dense_36/kernel>, <KerasVariable shape=(256,), dtype=float32, path=sequential_18/dense_36/bias>, <KerasVariable shape=(256, 1), dtype=float32, path=sequential_18/dense_37/kernel>, <KerasVariable shape=(1,), dtype=float32, path=sequential_18/dense_37/bias>]\n",
      "Generator trainable weights: [<KerasVariable shape=(100, 256), dtype=float32, path=sequential_19/dense_38/kernel>, <KerasVariable shape=(256,), dtype=float32, path=sequential_19/dense_38/bias>, <KerasVariable shape=(256,), dtype=float32, path=sequential_19/batch_normalization_9/gamma>, <KerasVariable shape=(256,), dtype=float32, path=sequential_19/batch_normalization_9/beta>, <KerasVariable shape=(256, 104), dtype=float32, path=sequential_19/dense_39/kernel>, <KerasVariable shape=(104,), dtype=float32, path=sequential_19/dense_39/bias>]\n",
      "Combined model trainable weights: [<KerasVariable shape=(100, 256), dtype=float32, path=sequential_19/dense_38/kernel>, <KerasVariable shape=(256,), dtype=float32, path=sequential_19/dense_38/bias>, <KerasVariable shape=(256,), dtype=float32, path=sequential_19/batch_normalization_9/gamma>, <KerasVariable shape=(256,), dtype=float32, path=sequential_19/batch_normalization_9/beta>, <KerasVariable shape=(256, 104), dtype=float32, path=sequential_19/dense_39/kernel>, <KerasVariable shape=(104,), dtype=float32, path=sequential_19/dense_39/bias>, <KerasVariable shape=(104, 256), dtype=float32, path=sequential_18/dense_36/kernel>, <KerasVariable shape=(256,), dtype=float32, path=sequential_18/dense_36/bias>, <KerasVariable shape=(256, 1), dtype=float32, path=sequential_18/dense_37/kernel>, <KerasVariable shape=(1,), dtype=float32, path=sequential_18/dense_37/bias>]\n",
      "\u001B[1m4/4\u001B[0m \u001B[32m━━━━━━━━━━━━━━━━━━━━\u001B[0m\u001B[37m\u001B[0m \u001B[1m0s\u001B[0m 2ms/step \n",
      "0 [D loss: [0.56297034 0.6777344 ]] [G loss: [array(0.64987874, dtype=float32), array(0.64987874, dtype=float32), array(0.45703125, dtype=float32)]]\n",
      "\u001B[1m4/4\u001B[0m \u001B[32m━━━━━━━━━━━━━━━━━━━━\u001B[0m\u001B[37m\u001B[0m \u001B[1m0s\u001B[0m 996us/step\n",
      "1 [D loss: [0.59291226 0.5595703 ]] [G loss: [array(0.61630285, dtype=float32), array(0.61630285, dtype=float32), array(0.48632812, dtype=float32)]]\n",
      "\u001B[1m4/4\u001B[0m \u001B[32m━━━━━━━━━━━━━━━━━━━━\u001B[0m\u001B[37m\u001B[0m \u001B[1m0s\u001B[0m 1000us/step\n",
      "2 [D loss: [0.581206   0.56666666]] [G loss: [array(0.5923064, dtype=float32), array(0.5923064, dtype=float32), array(0.5520833, dtype=float32)]]\n",
      "\u001B[1m4/4\u001B[0m \u001B[32m━━━━━━━━━━━━━━━━━━━━\u001B[0m\u001B[37m\u001B[0m \u001B[1m0s\u001B[0m 1000us/step\n",
      "3 [D loss: [0.5624312  0.62785995]] [G loss: [array(0.56818926, dtype=float32), array(0.56818926, dtype=float32), array(0.63964844, dtype=float32)]]\n",
      "\u001B[1m4/4\u001B[0m \u001B[32m━━━━━━━━━━━━━━━━━━━━\u001B[0m\u001B[37m\u001B[0m \u001B[1m0s\u001B[0m 1000us/step\n",
      "4 [D loss: [0.54314274 0.6932726 ]] [G loss: [array(0.54621136, dtype=float32), array(0.54621136, dtype=float32), array(0.7085937, dtype=float32)]]\n",
      "\u001B[1m4/4\u001B[0m \u001B[32m━━━━━━━━━━━━━━━━━━━━\u001B[0m\u001B[37m\u001B[0m \u001B[1m0s\u001B[0m 1000us/step\n",
      "5 [D loss: [0.52411115 0.7461233 ]] [G loss: [array(0.52572125, dtype=float32), array(0.52572125, dtype=float32), array(0.75716144, dtype=float32)]]\n",
      "\u001B[1m4/4\u001B[0m \u001B[32m━━━━━━━━━━━━━━━━━━━━\u001B[0m\u001B[37m\u001B[0m \u001B[1m0s\u001B[0m 2ms/step \n",
      "6 [D loss: [0.5074692 0.7832675]] [G loss: [array(0.5077004, dtype=float32), array(0.5077004, dtype=float32), array(0.79129463, dtype=float32)]]\n",
      "\u001B[1m4/4\u001B[0m \u001B[32m━━━━━━━━━━━━━━━━━━━━\u001B[0m\u001B[37m\u001B[0m \u001B[1m0s\u001B[0m 1ms/step \n",
      "7 [D loss: [0.49117035 0.81129557]] [G loss: [array(0.4911067, dtype=float32), array(0.4911067, dtype=float32), array(0.8173828, dtype=float32)]]\n",
      "\u001B[1m4/4\u001B[0m \u001B[32m━━━━━━━━━━━━━━━━━━━━\u001B[0m\u001B[37m\u001B[0m \u001B[1m0s\u001B[0m 1000us/step\n",
      "8 [D loss: [0.47598037 0.83289933]] [G loss: [array(0.47529513, dtype=float32), array(0.47529513, dtype=float32), array(0.8376736, dtype=float32)]]\n",
      "\u001B[1m4/4\u001B[0m \u001B[32m━━━━━━━━━━━━━━━━━━━━\u001B[0m\u001B[37m\u001B[0m \u001B[1m0s\u001B[0m 1ms/step \n",
      "9 [D loss: [0.461511   0.85006166]] [G loss: [array(0.46095905, dtype=float32), array(0.46095905, dtype=float32), array(0.8539063, dtype=float32)]]\n",
      "\u001B[1m4/4\u001B[0m \u001B[32m━━━━━━━━━━━━━━━━━━━━\u001B[0m\u001B[37m\u001B[0m \u001B[1m0s\u001B[0m 1ms/step \n",
      "10 [D loss: [0.44791028 0.8640253 ]] [G loss: [array(0.4471009, dtype=float32), array(0.4471009, dtype=float32), array(0.8671875, dtype=float32)]]\n",
      "\u001B[1m4/4\u001B[0m \u001B[32m━━━━━━━━━━━━━━━━━━━━\u001B[0m\u001B[37m\u001B[0m \u001B[1m0s\u001B[0m 1ms/step \n",
      "11 [D loss: [0.435016   0.87560856]] [G loss: [array(0.43397442, dtype=float32), array(0.43397442, dtype=float32), array(0.8782552, dtype=float32)]]\n",
      "\u001B[1m4/4\u001B[0m \u001B[32m━━━━━━━━━━━━━━━━━━━━\u001B[0m\u001B[37m\u001B[0m \u001B[1m0s\u001B[0m 1000us/step\n",
      "12 [D loss: [0.42307287 0.88537264]] [G loss: [array(0.42193672, dtype=float32), array(0.42193672, dtype=float32), array(0.8876202, dtype=float32)]]\n",
      "\u001B[1m4/4\u001B[0m \u001B[32m━━━━━━━━━━━━━━━━━━━━\u001B[0m\u001B[37m\u001B[0m \u001B[1m0s\u001B[0m 1ms/step \n",
      "13 [D loss: [0.41156766 0.8937149 ]] [G loss: [array(0.4104576, dtype=float32), array(0.4104576, dtype=float32), array(0.89564735, dtype=float32)]]\n",
      "\u001B[1m4/4\u001B[0m \u001B[32m━━━━━━━━━━━━━━━━━━━━\u001B[0m\u001B[37m\u001B[0m \u001B[1m0s\u001B[0m 992us/step\n",
      "14 [D loss: [0.4004215 0.9009249]] [G loss: [array(0.3992666, dtype=float32), array(0.3992666, dtype=float32), array(0.90260416, dtype=float32)]]\n",
      "\u001B[1m4/4\u001B[0m \u001B[32m━━━━━━━━━━━━━━━━━━━━\u001B[0m\u001B[37m\u001B[0m \u001B[1m0s\u001B[0m 1ms/step \n",
      "15 [D loss: [0.39071718 0.9072187 ]] [G loss: [array(0.38966033, dtype=float32), array(0.38966033, dtype=float32), array(0.9086914, dtype=float32)]]\n",
      "\u001B[1m4/4\u001B[0m \u001B[32m━━━━━━━━━━━━━━━━━━━━\u001B[0m\u001B[37m\u001B[0m \u001B[1m0s\u001B[0m 667us/step\n",
      "16 [D loss: [0.3813644 0.9127604]] [G loss: [array(0.38032222, dtype=float32), array(0.38032222, dtype=float32), array(0.9140625, dtype=float32)]]\n",
      "\u001B[1m4/4\u001B[0m \u001B[32m━━━━━━━━━━━━━━━━━━━━\u001B[0m\u001B[37m\u001B[0m \u001B[1m0s\u001B[0m 1ms/step \n",
      "17 [D loss: [0.37252158 0.91767734]] [G loss: [array(0.37139386, dtype=float32), array(0.37139386, dtype=float32), array(0.91883683, dtype=float32)]]\n",
      "\u001B[1m4/4\u001B[0m \u001B[32m━━━━━━━━━━━━━━━━━━━━\u001B[0m\u001B[37m\u001B[0m \u001B[1m0s\u001B[0m 1000us/step\n",
      "18 [D loss: [0.3638541 0.9220695]] [G loss: [array(0.36275014, dtype=float32), array(0.36275014, dtype=float32), array(0.9231086, dtype=float32)]]\n",
      "\u001B[1m4/4\u001B[0m \u001B[32m━━━━━━━━━━━━━━━━━━━━\u001B[0m\u001B[37m\u001B[0m \u001B[1m0s\u001B[0m 959us/step\n",
      "19 [D loss: [0.3555693 0.9260166]] [G loss: [array(0.35456583, dtype=float32), array(0.35456583, dtype=float32), array(0.92695314, dtype=float32)]]\n",
      "\u001B[1m4/4\u001B[0m \u001B[32m━━━━━━━━━━━━━━━━━━━━\u001B[0m\u001B[37m\u001B[0m \u001B[1m0s\u001B[0m 669us/step\n",
      "20 [D loss: [0.34776026 0.9295832 ]] [G loss: [array(0.34673434, dtype=float32), array(0.34673434, dtype=float32), array(0.93043154, dtype=float32)]]\n",
      "\u001B[1m4/4\u001B[0m \u001B[32m━━━━━━━━━━━━━━━━━━━━\u001B[0m\u001B[37m\u001B[0m \u001B[1m0s\u001B[0m 999us/step\n",
      "21 [D loss: [0.34056795 0.9328216 ]] [G loss: [array(0.33957607, dtype=float32), array(0.33957607, dtype=float32), array(0.93359375, dtype=float32)]]\n",
      "\u001B[1m4/4\u001B[0m \u001B[32m━━━━━━━━━━━━━━━━━━━━\u001B[0m\u001B[37m\u001B[0m \u001B[1m0s\u001B[0m 1ms/step \n",
      "22 [D loss: [0.33350858 0.9357752 ]] [G loss: [array(0.33254018, dtype=float32), array(0.33254018, dtype=float32), array(0.936481, dtype=float32)]]\n",
      "\u001B[1m4/4\u001B[0m \u001B[32m━━━━━━━━━━━━━━━━━━━━\u001B[0m\u001B[37m\u001B[0m \u001B[1m0s\u001B[0m 2ms/step \n",
      "23 [D loss: [0.3267547 0.93848  ]] [G loss: [array(0.32586622, dtype=float32), array(0.32586622, dtype=float32), array(0.9391276, dtype=float32)]]\n",
      "\u001B[1m4/4\u001B[0m \u001B[32m━━━━━━━━━━━━━━━━━━━━\u001B[0m\u001B[37m\u001B[0m \u001B[1m0s\u001B[0m 2ms/step \n",
      "24 [D loss: [0.3203859 0.9409662]] [G loss: [array(0.3194701, dtype=float32), array(0.3194701, dtype=float32), array(0.9415625, dtype=float32)]]\n",
      "\u001B[1m4/4\u001B[0m \u001B[32m━━━━━━━━━━━━━━━━━━━━\u001B[0m\u001B[37m\u001B[0m \u001B[1m0s\u001B[0m 2ms/step \n",
      "25 [D loss: [0.3144107  0.94325924]] [G loss: [array(0.31354046, dtype=float32), array(0.31354046, dtype=float32), array(0.9438101, dtype=float32)]]\n",
      "\u001B[1m4/4\u001B[0m \u001B[32m━━━━━━━━━━━━━━━━━━━━\u001B[0m\u001B[37m\u001B[0m \u001B[1m0s\u001B[0m 2ms/step \n",
      "26 [D loss: [0.30863923 0.94538075]] [G loss: [array(0.30778015, dtype=float32), array(0.30778015, dtype=float32), array(0.9458912, dtype=float32)]]\n",
      "\u001B[1m4/4\u001B[0m \u001B[32m━━━━━━━━━━━━━━━━━━━━\u001B[0m\u001B[37m\u001B[0m \u001B[1m0s\u001B[0m 2ms/step \n",
      "27 [D loss: [0.30312788 0.9473493 ]] [G loss: [array(0.30233282, dtype=float32), array(0.30233282, dtype=float32), array(0.94782364, dtype=float32)]]\n",
      "\u001B[1m4/4\u001B[0m \u001B[32m━━━━━━━━━━━━━━━━━━━━\u001B[0m\u001B[37m\u001B[0m \u001B[1m0s\u001B[0m 1000us/step\n",
      "28 [D loss: [0.29783666 0.94918096]] [G loss: [array(0.29705808, dtype=float32), array(0.29705808, dtype=float32), array(0.94962287, dtype=float32)]]\n",
      "\u001B[1m4/4\u001B[0m \u001B[32m━━━━━━━━━━━━━━━━━━━━\u001B[0m\u001B[37m\u001B[0m \u001B[1m0s\u001B[0m 666us/step\n",
      "29 [D loss: [0.29277852 0.9508894 ]] [G loss: [array(0.29204285, dtype=float32), array(0.29204285, dtype=float32), array(0.9513021, dtype=float32)]]\n",
      "\u001B[1m4/4\u001B[0m \u001B[32m━━━━━━━━━━━━━━━━━━━━\u001B[0m\u001B[37m\u001B[0m \u001B[1m0s\u001B[0m 1ms/step \n",
      "30 [D loss: [0.28777438 0.9524867 ]] [G loss: [array(0.28702608, dtype=float32), array(0.28702608, dtype=float32), array(0.952873, dtype=float32)]]\n",
      "\u001B[1m4/4\u001B[0m \u001B[32m━━━━━━━━━━━━━━━━━━━━\u001B[0m\u001B[37m\u001B[0m \u001B[1m0s\u001B[0m 668us/step\n",
      "31 [D loss: [0.2830883  0.95398337]] [G loss: [array(0.282365, dtype=float32), array(0.282365, dtype=float32), array(0.9543457, dtype=float32)]]\n",
      "\u001B[1m4/4\u001B[0m \u001B[32m━━━━━━━━━━━━━━━━━━━━\u001B[0m\u001B[37m\u001B[0m \u001B[1m0s\u001B[0m 1ms/step \n",
      "32 [D loss: [0.27859482 0.95538867]] [G loss: [array(0.27791032, dtype=float32), array(0.27791032, dtype=float32), array(0.9557292, dtype=float32)]]\n",
      "\u001B[1m4/4\u001B[0m \u001B[32m━━━━━━━━━━━━━━━━━━━━\u001B[0m\u001B[37m\u001B[0m \u001B[1m0s\u001B[0m 1ms/step \n",
      "33 [D loss: [0.27413362 0.9567106 ]] [G loss: [array(0.27344763, dtype=float32), array(0.27344763, dtype=float32), array(0.95703125, dtype=float32)]]\n",
      "\u001B[1m4/4\u001B[0m \u001B[32m━━━━━━━━━━━━━━━━━━━━\u001B[0m\u001B[37m\u001B[0m \u001B[1m0s\u001B[0m 720us/step\n",
      "34 [D loss: [0.2697758  0.95795643]] [G loss: [array(0.26913595, dtype=float32), array(0.26913595, dtype=float32), array(0.9582589, dtype=float32)]]\n",
      "\u001B[1m4/4\u001B[0m \u001B[32m━━━━━━━━━━━━━━━━━━━━\u001B[0m\u001B[37m\u001B[0m \u001B[1m0s\u001B[0m 1ms/step \n",
      "35 [D loss: [0.26587778 0.95902336]] [G loss: [array(0.26526338, dtype=float32), array(0.26526338, dtype=float32), array(0.9593099, dtype=float32)]]\n",
      "\u001B[1m4/4\u001B[0m \u001B[32m━━━━━━━━━━━━━━━━━━━━\u001B[0m\u001B[37m\u001B[0m \u001B[1m0s\u001B[0m 995us/step\n",
      "36 [D loss: [0.2619183  0.96013844]] [G loss: [array(0.2613229, dtype=float32), array(0.2613229, dtype=float32), array(0.96040964, dtype=float32)]]\n",
      "\u001B[1m4/4\u001B[0m \u001B[32m━━━━━━━━━━━━━━━━━━━━\u001B[0m\u001B[37m\u001B[0m \u001B[1m0s\u001B[0m 1ms/step \n",
      "37 [D loss: [0.25810134 0.9611945 ]] [G loss: [array(0.25749445, dtype=float32), array(0.25749445, dtype=float32), array(0.9614515, dtype=float32)]]\n",
      "\u001B[1m4/4\u001B[0m \u001B[32m━━━━━━━━━━━━━━━━━━━━\u001B[0m\u001B[37m\u001B[0m \u001B[1m0s\u001B[0m 1ms/step \n",
      "38 [D loss: [0.2543348 0.962196 ]] [G loss: [array(0.25374246, dtype=float32), array(0.25374246, dtype=float32), array(0.9624399, dtype=float32)]]\n",
      "\u001B[1m4/4\u001B[0m \u001B[32m━━━━━━━━━━━━━━━━━━━━\u001B[0m\u001B[37m\u001B[0m \u001B[1m0s\u001B[0m 666us/step\n",
      "39 [D loss: [0.25075543 0.96314716]] [G loss: [array(0.250217, dtype=float32), array(0.250217, dtype=float32), array(0.9633789, dtype=float32)]]\n",
      "\u001B[1m4/4\u001B[0m \u001B[32m━━━━━━━━━━━━━━━━━━━━\u001B[0m\u001B[37m\u001B[0m \u001B[1m0s\u001B[0m 1ms/step \n",
      "40 [D loss: [0.24743466 0.96405154]] [G loss: [array(0.24690028, dtype=float32), array(0.24690028, dtype=float32), array(0.9642721, dtype=float32)]]\n",
      "\u001B[1m4/4\u001B[0m \u001B[32m━━━━━━━━━━━━━━━━━━━━\u001B[0m\u001B[37m\u001B[0m \u001B[1m0s\u001B[0m 1ms/step \n",
      "41 [D loss: [0.24412732 0.96491265]] [G loss: [array(0.24360302, dtype=float32), array(0.24360302, dtype=float32), array(0.96512276, dtype=float32)]]\n",
      "\u001B[1m4/4\u001B[0m \u001B[32m━━━━━━━━━━━━━━━━━━━━\u001B[0m\u001B[37m\u001B[0m \u001B[1m0s\u001B[0m 1000us/step\n",
      "42 [D loss: [0.24093902 0.96573347]] [G loss: [array(0.24041884, dtype=float32), array(0.24041884, dtype=float32), array(0.96593386, dtype=float32)]]\n",
      "\u001B[1m4/4\u001B[0m \u001B[32m━━━━━━━━━━━━━━━━━━━━\u001B[0m\u001B[37m\u001B[0m \u001B[1m0s\u001B[0m 1000us/step\n",
      "43 [D loss: [0.2378501  0.96651673]] [G loss: [array(0.23737699, dtype=float32), array(0.23737699, dtype=float32), array(0.9667081, dtype=float32)]]\n",
      "\u001B[1m4/4\u001B[0m \u001B[32m━━━━━━━━━━━━━━━━━━━━\u001B[0m\u001B[37m\u001B[0m \u001B[1m0s\u001B[0m 1ms/step \n",
      "44 [D loss: [0.23484936 0.967265  ]] [G loss: [array(0.23440066, dtype=float32), array(0.23440066, dtype=float32), array(0.96744794, dtype=float32)]]\n",
      "\u001B[1m4/4\u001B[0m \u001B[32m━━━━━━━━━━━━━━━━━━━━\u001B[0m\u001B[37m\u001B[0m \u001B[1m0s\u001B[0m 1000us/step\n",
      "45 [D loss: [0.23196861 0.9679806 ]] [G loss: [array(0.23148419, dtype=float32), array(0.23148419, dtype=float32), array(0.96815556, dtype=float32)]]\n",
      "\u001B[1m4/4\u001B[0m \u001B[32m━━━━━━━━━━━━━━━━━━━━\u001B[0m\u001B[37m\u001B[0m \u001B[1m0s\u001B[0m 1000us/step\n",
      "46 [D loss: [0.22914872 0.96866554]] [G loss: [array(0.22871165, dtype=float32), array(0.22871165, dtype=float32), array(0.9688331, dtype=float32)]]\n",
      "\u001B[1m4/4\u001B[0m \u001B[32m━━━━━━━━━━━━━━━━━━━━\u001B[0m\u001B[37m\u001B[0m \u001B[1m0s\u001B[0m 1ms/step \n",
      "47 [D loss: [0.22645596 0.96932185]] [G loss: [array(0.22604953, dtype=float32), array(0.22604953, dtype=float32), array(0.9694824, dtype=float32)]]\n",
      "\u001B[1m4/4\u001B[0m \u001B[32m━━━━━━━━━━━━━━━━━━━━\u001B[0m\u001B[37m\u001B[0m \u001B[1m0s\u001B[0m 989us/step\n",
      "48 [D loss: [0.22376105 0.96995115]] [G loss: [array(0.22335677, dtype=float32), array(0.22335677, dtype=float32), array(0.97010523, dtype=float32)]]\n",
      "\u001B[1m4/4\u001B[0m \u001B[32m━━━━━━━━━━━━━━━━━━━━\u001B[0m\u001B[37m\u001B[0m \u001B[1m0s\u001B[0m 1ms/step \n",
      "49 [D loss: [0.22114465 0.9705552 ]] [G loss: [array(0.22072478, dtype=float32), array(0.22072478, dtype=float32), array(0.9707031, dtype=float32)]]\n",
      "\u001B[1m4/4\u001B[0m \u001B[32m━━━━━━━━━━━━━━━━━━━━\u001B[0m\u001B[37m\u001B[0m \u001B[1m0s\u001B[0m 1000us/step\n",
      "50 [D loss: [0.2185199 0.9711354]] [G loss: [array(0.21809681, dtype=float32), array(0.21809681, dtype=float32), array(0.9712776, dtype=float32)]]\n",
      "\u001B[1m4/4\u001B[0m \u001B[32m━━━━━━━━━━━━━━━━━━━━\u001B[0m\u001B[37m\u001B[0m \u001B[1m0s\u001B[0m 667us/step\n",
      "51 [D loss: [0.21602419 0.97169316]] [G loss: [array(0.21562618, dtype=float32), array(0.21562618, dtype=float32), array(0.97182995, dtype=float32)]]\n",
      "\u001B[1m4/4\u001B[0m \u001B[32m━━━━━━━━━━━━━━━━━━━━\u001B[0m\u001B[37m\u001B[0m \u001B[1m0s\u001B[0m 999us/step\n",
      "52 [D loss: [0.21364862 0.97222984]] [G loss: [array(0.21329027, dtype=float32), array(0.21329027, dtype=float32), array(0.97236145, dtype=float32)]]\n",
      "\u001B[1m4/4\u001B[0m \u001B[32m━━━━━━━━━━━━━━━━━━━━\u001B[0m\u001B[37m\u001B[0m \u001B[1m0s\u001B[0m 1ms/step \n",
      "53 [D loss: [0.21139055 0.9727465 ]] [G loss: [array(0.21101168, dtype=float32), array(0.21101168, dtype=float32), array(0.9728733, dtype=float32)]]\n",
      "\u001B[1m4/4\u001B[0m \u001B[32m━━━━━━━━━━━━━━━━━━━━\u001B[0m\u001B[37m\u001B[0m \u001B[1m0s\u001B[0m 1ms/step \n",
      "54 [D loss: [0.20915571 0.9732443 ]] [G loss: [array(0.20878877, dtype=float32), array(0.20878877, dtype=float32), array(0.9733665, dtype=float32)]]\n",
      "\u001B[1m4/4\u001B[0m \u001B[32m━━━━━━━━━━━━━━━━━━━━\u001B[0m\u001B[37m\u001B[0m \u001B[1m0s\u001B[0m 1ms/step \n",
      "55 [D loss: [0.20691738 0.97372425]] [G loss: [array(0.20655656, dtype=float32), array(0.20655656, dtype=float32), array(0.9738421, dtype=float32)]]\n",
      "\u001B[1m4/4\u001B[0m \u001B[32m━━━━━━━━━━━━━━━━━━━━\u001B[0m\u001B[37m\u001B[0m \u001B[1m0s\u001B[0m 1000us/step\n",
      "56 [D loss: [0.20470071 0.97418725]] [G loss: [array(0.20435415, dtype=float32), array(0.20435415, dtype=float32), array(0.974301, dtype=float32)]]\n",
      "\u001B[1m4/4\u001B[0m \u001B[32m━━━━━━━━━━━━━━━━━━━━\u001B[0m\u001B[37m\u001B[0m \u001B[1m0s\u001B[0m 1ms/step \n",
      "57 [D loss: [0.20257403 0.9746343 ]] [G loss: [array(0.20223702, dtype=float32), array(0.20223702, dtype=float32), array(0.9747441, dtype=float32)]]\n",
      "\u001B[1m4/4\u001B[0m \u001B[32m━━━━━━━━━━━━━━━━━━━━\u001B[0m\u001B[37m\u001B[0m \u001B[1m0s\u001B[0m 1ms/step \n",
      "58 [D loss: [0.20049033 0.97506607]] [G loss: [array(0.2001606, dtype=float32), array(0.2001606, dtype=float32), array(0.97517216, dtype=float32)]]\n",
      "\u001B[1m4/4\u001B[0m \u001B[32m━━━━━━━━━━━━━━━━━━━━\u001B[0m\u001B[37m\u001B[0m \u001B[1m0s\u001B[0m 1000us/step\n",
      "59 [D loss: [0.19842151 0.97548336]] [G loss: [array(0.19808432, dtype=float32), array(0.19808432, dtype=float32), array(0.97558594, dtype=float32)]]\n",
      "\u001B[1m4/4\u001B[0m \u001B[32m━━━━━━━━━━━━━━━━━━━━\u001B[0m\u001B[37m\u001B[0m \u001B[1m0s\u001B[0m 660us/step\n",
      "60 [D loss: [0.19642182 0.97588694]] [G loss: [array(0.19610825, dtype=float32), array(0.19610825, dtype=float32), array(0.9759862, dtype=float32)]]\n",
      "\u001B[1m4/4\u001B[0m \u001B[32m━━━━━━━━━━━━━━━━━━━━\u001B[0m\u001B[37m\u001B[0m \u001B[1m0s\u001B[0m 1000us/step\n",
      "61 [D loss: [0.19450292 0.9762775 ]] [G loss: [array(0.19420727, dtype=float32), array(0.19420727, dtype=float32), array(0.9763735, dtype=float32)]]\n",
      "\u001B[1m4/4\u001B[0m \u001B[32m━━━━━━━━━━━━━━━━━━━━\u001B[0m\u001B[37m\u001B[0m \u001B[1m0s\u001B[0m 1ms/step \n",
      "62 [D loss: [0.19264874 0.9766555 ]] [G loss: [array(0.19234842, dtype=float32), array(0.19234842, dtype=float32), array(0.9767485, dtype=float32)]]\n",
      "\u001B[1m4/4\u001B[0m \u001B[32m━━━━━━━━━━━━━━━━━━━━\u001B[0m\u001B[37m\u001B[0m \u001B[1m0s\u001B[0m 1000us/step\n",
      "63 [D loss: [0.19080791 0.9770217 ]] [G loss: [array(0.19052146, dtype=float32), array(0.19052146, dtype=float32), array(0.9771118, dtype=float32)]]\n",
      "\u001B[1m4/4\u001B[0m \u001B[32m━━━━━━━━━━━━━━━━━━━━\u001B[0m\u001B[37m\u001B[0m \u001B[1m0s\u001B[0m 666us/step\n",
      "64 [D loss: [0.18905926 0.9773766 ]] [G loss: [array(0.1887825, dtype=float32), array(0.1887825, dtype=float32), array(0.97746396, dtype=float32)]]\n",
      "\u001B[1m4/4\u001B[0m \u001B[32m━━━━━━━━━━━━━━━━━━━━\u001B[0m\u001B[37m\u001B[0m \u001B[1m0s\u001B[0m 1000us/step\n",
      "65 [D loss: [0.18735617 0.9777207 ]] [G loss: [array(0.18707962, dtype=float32), array(0.18707962, dtype=float32), array(0.9778054, dtype=float32)]]\n",
      "\u001B[1m4/4\u001B[0m \u001B[32m━━━━━━━━━━━━━━━━━━━━\u001B[0m\u001B[37m\u001B[0m \u001B[1m0s\u001B[0m 1ms/step \n",
      "66 [D loss: [0.18564811 0.97805446]] [G loss: [array(0.18535592, dtype=float32), array(0.18535592, dtype=float32), array(0.97813666, dtype=float32)]]\n",
      "\u001B[1m4/4\u001B[0m \u001B[32m━━━━━━━━━━━━━━━━━━━━\u001B[0m\u001B[37m\u001B[0m \u001B[1m0s\u001B[0m 1000us/step\n",
      "67 [D loss: [0.18396845 0.9783784 ]] [G loss: [array(0.18371348, dtype=float32), array(0.18371348, dtype=float32), array(0.97845817, dtype=float32)]]\n",
      "\u001B[1m4/4\u001B[0m \u001B[32m━━━━━━━━━━━━━━━━━━━━\u001B[0m\u001B[37m\u001B[0m \u001B[1m0s\u001B[0m 667us/step\n",
      "68 [D loss: [0.18239614 0.9786361 ]] [G loss: [array(0.18214494, dtype=float32), array(0.18214494, dtype=float32), array(0.97871375, dtype=float32)]]\n",
      "\u001B[1m4/4\u001B[0m \u001B[32m━━━━━━━━━━━━━━━━━━━━\u001B[0m\u001B[37m\u001B[0m \u001B[1m0s\u001B[0m 1ms/step \n",
      "69 [D loss: [0.18079619 0.9789424 ]] [G loss: [array(0.18053995, dtype=float32), array(0.18053995, dtype=float32), array(0.97901785, dtype=float32)]]\n",
      "\u001B[1m4/4\u001B[0m \u001B[32m━━━━━━━━━━━━━━━━━━━━\u001B[0m\u001B[37m\u001B[0m \u001B[1m0s\u001B[0m 1ms/step \n",
      "70 [D loss: [0.1792408  0.97924006]] [G loss: [array(0.17898445, dtype=float32), array(0.17898445, dtype=float32), array(0.9793134, dtype=float32)]]\n",
      "\u001B[1m4/4\u001B[0m \u001B[32m━━━━━━━━━━━━━━━━━━━━\u001B[0m\u001B[37m\u001B[0m \u001B[1m0s\u001B[0m 1ms/step \n",
      "71 [D loss: [0.17770445 0.9795294 ]] [G loss: [array(0.1774612, dtype=float32), array(0.1774612, dtype=float32), array(0.97960067, dtype=float32)]]\n",
      "\u001B[1m4/4\u001B[0m \u001B[32m━━━━━━━━━━━━━━━━━━━━\u001B[0m\u001B[37m\u001B[0m \u001B[1m0s\u001B[0m 667us/step\n",
      "72 [D loss: [0.17622338 0.9798108 ]] [G loss: [array(0.17597818, dtype=float32), array(0.17597818, dtype=float32), array(0.97988015, dtype=float32)]]\n",
      "\u001B[1m4/4\u001B[0m \u001B[32m━━━━━━━━━━━━━━━━━━━━\u001B[0m\u001B[37m\u001B[0m \u001B[1m0s\u001B[0m 1ms/step \n",
      "73 [D loss: [0.17476505 0.98008454]] [G loss: [array(0.17453918, dtype=float32), array(0.17453918, dtype=float32), array(0.980152, dtype=float32)]]\n",
      "\u001B[1m4/4\u001B[0m \u001B[32m━━━━━━━━━━━━━━━━━━━━\u001B[0m\u001B[37m\u001B[0m \u001B[1m0s\u001B[0m 1000us/step\n",
      "74 [D loss: [0.17335176 0.980351  ]] [G loss: [array(0.17311512, dtype=float32), array(0.17311512, dtype=float32), array(0.98041666, dtype=float32)]]\n",
      "\u001B[1m4/4\u001B[0m \u001B[32m━━━━━━━━━━━━━━━━━━━━\u001B[0m\u001B[37m\u001B[0m \u001B[1m0s\u001B[0m 1000us/step\n",
      "75 [D loss: [0.17193204 0.9806104 ]] [G loss: [array(0.17169984, dtype=float32), array(0.17169984, dtype=float32), array(0.9806743, dtype=float32)]]\n",
      "\u001B[1m4/4\u001B[0m \u001B[32m━━━━━━━━━━━━━━━━━━━━\u001B[0m\u001B[37m\u001B[0m \u001B[1m0s\u001B[0m 667us/step\n",
      "76 [D loss: [0.17053178 0.980863  ]] [G loss: [array(0.17030822, dtype=float32), array(0.17030822, dtype=float32), array(0.9809253, dtype=float32)]]\n",
      "\u001B[1m4/4\u001B[0m \u001B[32m━━━━━━━━━━━━━━━━━━━━\u001B[0m\u001B[37m\u001B[0m \u001B[1m0s\u001B[0m 1000us/step\n",
      "77 [D loss: [0.16917497 0.98110914]] [G loss: [array(0.16895765, dtype=float32), array(0.16895765, dtype=float32), array(0.9811699, dtype=float32)]]\n",
      "\u001B[1m4/4\u001B[0m \u001B[32m━━━━━━━━━━━━━━━━━━━━\u001B[0m\u001B[37m\u001B[0m \u001B[1m0s\u001B[0m 667us/step\n",
      "78 [D loss: [0.16784365 0.981349  ]] [G loss: [array(0.16762374, dtype=float32), array(0.16762374, dtype=float32), array(0.98140824, dtype=float32)]]\n",
      "\u001B[1m4/4\u001B[0m \u001B[32m━━━━━━━━━━━━━━━━━━━━\u001B[0m\u001B[37m\u001B[0m \u001B[1m0s\u001B[0m 1ms/step \n",
      "79 [D loss: [0.16651215 0.9815829 ]] [G loss: [array(0.16629365, dtype=float32), array(0.16629365, dtype=float32), array(0.98164064, dtype=float32)]]\n",
      "\u001B[1m4/4\u001B[0m \u001B[32m━━━━━━━━━━━━━━━━━━━━\u001B[0m\u001B[37m\u001B[0m \u001B[1m0s\u001B[0m 1ms/step \n",
      "80 [D loss: [0.16524944 0.981811  ]] [G loss: [array(0.1650607, dtype=float32), array(0.1650607, dtype=float32), array(0.9818673, dtype=float32)]]\n",
      "\u001B[1m4/4\u001B[0m \u001B[32m━━━━━━━━━━━━━━━━━━━━\u001B[0m\u001B[37m\u001B[0m \u001B[1m0s\u001B[0m 1ms/step \n",
      "81 [D loss: [0.16401738 0.9820335 ]] [G loss: [array(0.16381057, dtype=float32), array(0.16381057, dtype=float32), array(0.9820884, dtype=float32)]]\n",
      "\u001B[1m4/4\u001B[0m \u001B[32m━━━━━━━━━━━━━━━━━━━━\u001B[0m\u001B[37m\u001B[0m \u001B[1m0s\u001B[0m 667us/step\n",
      "82 [D loss: [0.16277218 0.9822506 ]] [G loss: [array(0.16257112, dtype=float32), array(0.16257112, dtype=float32), array(0.9823042, dtype=float32)]]\n",
      "\u001B[1m4/4\u001B[0m \u001B[32m━━━━━━━━━━━━━━━━━━━━\u001B[0m\u001B[37m\u001B[0m \u001B[1m0s\u001B[0m 681us/step\n",
      "83 [D loss: [0.16155587 0.9824625 ]] [G loss: [array(0.16135848, dtype=float32), array(0.16135848, dtype=float32), array(0.98251486, dtype=float32)]]\n",
      "\u001B[1m4/4\u001B[0m \u001B[32m━━━━━━━━━━━━━━━━━━━━\u001B[0m\u001B[37m\u001B[0m \u001B[1m0s\u001B[0m 1ms/step \n",
      "84 [D loss: [0.16036126 0.9826695 ]] [G loss: [array(0.16016702, dtype=float32), array(0.16016702, dtype=float32), array(0.9827206, dtype=float32)]]\n",
      "\u001B[1m4/4\u001B[0m \u001B[32m━━━━━━━━━━━━━━━━━━━━\u001B[0m\u001B[37m\u001B[0m \u001B[1m0s\u001B[0m 999us/step\n",
      "85 [D loss: [0.15918002 0.9828716 ]] [G loss: [array(0.15899323, dtype=float32), array(0.15899323, dtype=float32), array(0.98292154, dtype=float32)]]\n",
      "\u001B[1m4/4\u001B[0m \u001B[32m━━━━━━━━━━━━━━━━━━━━\u001B[0m\u001B[37m\u001B[0m \u001B[1m0s\u001B[0m 1ms/step \n",
      "86 [D loss: [0.15802765 0.98306906]] [G loss: [array(0.15784208, dtype=float32), array(0.15784208, dtype=float32), array(0.9831178, dtype=float32)]]\n",
      "\u001B[1m4/4\u001B[0m \u001B[32m━━━━━━━━━━━━━━━━━━━━\u001B[0m\u001B[37m\u001B[0m \u001B[1m0s\u001B[0m 1000us/step\n",
      "87 [D loss: [0.15691166 0.98326194]] [G loss: [array(0.15672863, dtype=float32), array(0.15672863, dtype=float32), array(0.9833097, dtype=float32)]]\n",
      "\u001B[1m4/4\u001B[0m \u001B[32m━━━━━━━━━━━━━━━━━━━━\u001B[0m\u001B[37m\u001B[0m \u001B[1m0s\u001B[0m 1ms/step \n",
      "88 [D loss: [0.15582445 0.9834506 ]] [G loss: [array(0.15564136, dtype=float32), array(0.15564136, dtype=float32), array(0.9834972, dtype=float32)]]\n",
      "\u001B[1m4/4\u001B[0m \u001B[32m━━━━━━━━━━━━━━━━━━━━\u001B[0m\u001B[37m\u001B[0m \u001B[1m0s\u001B[0m 1ms/step \n",
      "89 [D loss: [0.15475732 0.98363495]] [G loss: [array(0.15458387, dtype=float32), array(0.15458387, dtype=float32), array(0.98368055, dtype=float32)]]\n",
      "\u001B[1m4/4\u001B[0m \u001B[32m━━━━━━━━━━━━━━━━━━━━\u001B[0m\u001B[37m\u001B[0m \u001B[1m0s\u001B[0m 1000us/step\n",
      "90 [D loss: [0.15368606 0.9838153 ]] [G loss: [array(0.15351573, dtype=float32), array(0.15351573, dtype=float32), array(0.9838599, dtype=float32)]]\n",
      "\u001B[1m4/4\u001B[0m \u001B[32m━━━━━━━━━━━━━━━━━━━━\u001B[0m\u001B[37m\u001B[0m \u001B[1m0s\u001B[0m 1000us/step\n",
      "91 [D loss: [0.15261266 0.98399174]] [G loss: [array(0.15243669, dtype=float32), array(0.15243669, dtype=float32), array(0.9840353, dtype=float32)]]\n",
      "\u001B[1m4/4\u001B[0m \u001B[32m━━━━━━━━━━━━━━━━━━━━\u001B[0m\u001B[37m\u001B[0m \u001B[1m0s\u001B[0m 1ms/step \n",
      "92 [D loss: [0.15157849 0.9841643 ]] [G loss: [array(0.15141006, dtype=float32), array(0.15141006, dtype=float32), array(0.984207, dtype=float32)]]\n",
      "\u001B[1m4/4\u001B[0m \u001B[32m━━━━━━━━━━━━━━━━━━━━\u001B[0m\u001B[37m\u001B[0m \u001B[1m0s\u001B[0m 1ms/step \n",
      "93 [D loss: [0.15056413 0.9843332 ]] [G loss: [array(0.15040253, dtype=float32), array(0.15040253, dtype=float32), array(0.984375, dtype=float32)]]\n",
      "\u001B[1m4/4\u001B[0m \u001B[32m━━━━━━━━━━━━━━━━━━━━\u001B[0m\u001B[37m\u001B[0m \u001B[1m0s\u001B[0m 999us/step\n",
      "94 [D loss: [0.14955573 0.98449856]] [G loss: [array(0.14939696, dtype=float32), array(0.14939696, dtype=float32), array(0.98453945, dtype=float32)]]\n",
      "\u001B[1m4/4\u001B[0m \u001B[32m━━━━━━━━━━━━━━━━━━━━\u001B[0m\u001B[37m\u001B[0m \u001B[1m0s\u001B[0m 1ms/step \n",
      "95 [D loss: [0.14857301 0.98466045]] [G loss: [array(0.14841251, dtype=float32), array(0.14841251, dtype=float32), array(0.9847005, dtype=float32)]]\n",
      "\u001B[1m4/4\u001B[0m \u001B[32m━━━━━━━━━━━━━━━━━━━━\u001B[0m\u001B[37m\u001B[0m \u001B[1m0s\u001B[0m 1ms/step \n",
      "96 [D loss: [0.14760563 0.98481905]] [G loss: [array(0.14745244, dtype=float32), array(0.14745244, dtype=float32), array(0.9848583, dtype=float32)]]\n",
      "\u001B[1m4/4\u001B[0m \u001B[32m━━━━━━━━━━━━━━━━━━━━\u001B[0m\u001B[37m\u001B[0m \u001B[1m0s\u001B[0m 668us/step\n",
      "97 [D loss: [0.14668769 0.9849743 ]] [G loss: [array(0.14653896, dtype=float32), array(0.14653896, dtype=float32), array(0.98501277, dtype=float32)]]\n",
      "\u001B[1m4/4\u001B[0m \u001B[32m━━━━━━━━━━━━━━━━━━━━\u001B[0m\u001B[37m\u001B[0m \u001B[1m0s\u001B[0m 1ms/step \n",
      "98 [D loss: [0.14576527 0.9851265 ]] [G loss: [array(0.14560625, dtype=float32), array(0.14560625, dtype=float32), array(0.98516417, dtype=float32)]]\n",
      "\u001B[1m4/4\u001B[0m \u001B[32m━━━━━━━━━━━━━━━━━━━━\u001B[0m\u001B[37m\u001B[0m \u001B[1m0s\u001B[0m 667us/step\n",
      "99 [D loss: [0.14483303 0.9852756 ]] [G loss: [array(0.14468431, dtype=float32), array(0.14468431, dtype=float32), array(0.9853125, dtype=float32)]]\n",
      "\u001B[1m4/4\u001B[0m \u001B[32m━━━━━━━━━━━━━━━━━━━━\u001B[0m\u001B[37m\u001B[0m \u001B[1m0s\u001B[0m 2ms/step \n",
      "100 [D loss: [0.14392571 0.9854218 ]] [G loss: [array(0.14377049, dtype=float32), array(0.14377049, dtype=float32), array(0.9854579, dtype=float32)]]\n",
      "\u001B[1m4/4\u001B[0m \u001B[32m━━━━━━━━━━━━━━━━━━━━\u001B[0m\u001B[37m\u001B[0m \u001B[1m0s\u001B[0m 2ms/step \n",
      "101 [D loss: [0.14301491 0.985565  ]] [G loss: [array(0.14286663, dtype=float32), array(0.14286663, dtype=float32), array(0.9856005, dtype=float32)]]\n",
      "\u001B[1m4/4\u001B[0m \u001B[32m━━━━━━━━━━━━━━━━━━━━\u001B[0m\u001B[37m\u001B[0m \u001B[1m0s\u001B[0m 1ms/step \n",
      "102 [D loss: [0.14212285 0.9857055 ]] [G loss: [array(0.14198537, dtype=float32), array(0.14198537, dtype=float32), array(0.9857403, dtype=float32)]]\n",
      "\u001B[1m4/4\u001B[0m \u001B[32m━━━━━━━━━━━━━━━━━━━━\u001B[0m\u001B[37m\u001B[0m \u001B[1m0s\u001B[0m 668us/step\n",
      "103 [D loss: [0.14127335 0.9858433 ]] [G loss: [array(0.14114791, dtype=float32), array(0.14114791, dtype=float32), array(0.9858774, dtype=float32)]]\n",
      "\u001B[1m4/4\u001B[0m \u001B[32m━━━━━━━━━━━━━━━━━━━━\u001B[0m\u001B[37m\u001B[0m \u001B[1m0s\u001B[0m 1000us/step\n",
      "104 [D loss: [0.14042342 0.9859785 ]] [G loss: [array(0.14028823, dtype=float32), array(0.14028823, dtype=float32), array(0.9860119, dtype=float32)]]\n",
      "\u001B[1m4/4\u001B[0m \u001B[32m━━━━━━━━━━━━━━━━━━━━\u001B[0m\u001B[37m\u001B[0m \u001B[1m0s\u001B[0m 1ms/step \n",
      "105 [D loss: [0.13959116 0.98611104]] [G loss: [array(0.139458, dtype=float32), array(0.139458, dtype=float32), array(0.9861439, dtype=float32)]]\n",
      "\u001B[1m4/4\u001B[0m \u001B[32m━━━━━━━━━━━━━━━━━━━━\u001B[0m\u001B[37m\u001B[0m \u001B[1m0s\u001B[0m 1000us/step\n",
      "106 [D loss: [0.13875157 0.9862411 ]] [G loss: [array(0.13861957, dtype=float32), array(0.13861957, dtype=float32), array(0.98627335, dtype=float32)]]\n",
      "\u001B[1m4/4\u001B[0m \u001B[32m━━━━━━━━━━━━━━━━━━━━\u001B[0m\u001B[37m\u001B[0m \u001B[1m0s\u001B[0m 667us/step\n",
      "107 [D loss: [0.13792774 0.98636883]] [G loss: [array(0.13779752, dtype=float32), array(0.13779752, dtype=float32), array(0.9864005, dtype=float32)]]\n",
      "\u001B[1m4/4\u001B[0m \u001B[32m━━━━━━━━━━━━━━━━━━━━\u001B[0m\u001B[37m\u001B[0m \u001B[1m0s\u001B[0m 999us/step\n",
      "108 [D loss: [0.13711992 0.9864942 ]] [G loss: [array(0.13699116, dtype=float32), array(0.13699116, dtype=float32), array(0.98652524, dtype=float32)]]\n",
      "\u001B[1m4/4\u001B[0m \u001B[32m━━━━━━━━━━━━━━━━━━━━\u001B[0m\u001B[37m\u001B[0m \u001B[1m0s\u001B[0m 1000us/step\n",
      "109 [D loss: [0.13633159 0.9866172 ]] [G loss: [array(0.13620877, dtype=float32), array(0.13620877, dtype=float32), array(0.9866477, dtype=float32)]]\n",
      "\u001B[1m4/4\u001B[0m \u001B[32m━━━━━━━━━━━━━━━━━━━━\u001B[0m\u001B[37m\u001B[0m \u001B[1m0s\u001B[0m 1ms/step \n",
      "110 [D loss: [0.13555768 0.9867381 ]] [G loss: [array(0.13544485, dtype=float32), array(0.13544485, dtype=float32), array(0.986768, dtype=float32)]]\n",
      "\u001B[1m4/4\u001B[0m \u001B[32m━━━━━━━━━━━━━━━━━━━━\u001B[0m\u001B[37m\u001B[0m \u001B[1m0s\u001B[0m 1ms/step \n",
      "111 [D loss: [0.13478288 0.98685676]] [G loss: [array(0.13465527, dtype=float32), array(0.13465527, dtype=float32), array(0.98688614, dtype=float32)]]\n",
      "\u001B[1m4/4\u001B[0m \u001B[32m━━━━━━━━━━━━━━━━━━━━\u001B[0m\u001B[37m\u001B[0m \u001B[1m0s\u001B[0m 1ms/step \n",
      "112 [D loss: [0.1340164 0.9869733]] [G loss: [array(0.13389042, dtype=float32), array(0.13389042, dtype=float32), array(0.9870022, dtype=float32)]]\n",
      "\u001B[1m4/4\u001B[0m \u001B[32m━━━━━━━━━━━━━━━━━━━━\u001B[0m\u001B[37m\u001B[0m \u001B[1m0s\u001B[0m 999us/step\n",
      "113 [D loss: [0.13326597 0.98708785]] [G loss: [array(0.13314074, dtype=float32), array(0.13314074, dtype=float32), array(0.9871162, dtype=float32)]]\n",
      "\u001B[1m4/4\u001B[0m \u001B[32m━━━━━━━━━━━━━━━━━━━━\u001B[0m\u001B[37m\u001B[0m \u001B[1m0s\u001B[0m 667us/step\n",
      "114 [D loss: [0.13251495 0.9872004 ]] [G loss: [array(0.13238919, dtype=float32), array(0.13238919, dtype=float32), array(0.9872283, dtype=float32)]]\n",
      "\u001B[1m4/4\u001B[0m \u001B[32m━━━━━━━━━━━━━━━━━━━━\u001B[0m\u001B[37m\u001B[0m \u001B[1m0s\u001B[0m 1ms/step \n",
      "115 [D loss: [0.1317659  0.98731095]] [G loss: [array(0.13164471, dtype=float32), array(0.13164471, dtype=float32), array(0.98733836, dtype=float32)]]\n",
      "\u001B[1m4/4\u001B[0m \u001B[32m━━━━━━━━━━━━━━━━━━━━\u001B[0m\u001B[37m\u001B[0m \u001B[1m0s\u001B[0m 2ms/step \n",
      "116 [D loss: [0.1310299  0.98741966]] [G loss: [array(0.1309111, dtype=float32), array(0.1309111, dtype=float32), array(0.9874466, dtype=float32)]]\n",
      "\u001B[1m4/4\u001B[0m \u001B[32m━━━━━━━━━━━━━━━━━━━━\u001B[0m\u001B[37m\u001B[0m \u001B[1m0s\u001B[0m 1ms/step \n",
      "117 [D loss: [0.1303023 0.9875265]] [G loss: [array(0.13018638, dtype=float32), array(0.13018638, dtype=float32), array(0.98755294, dtype=float32)]]\n",
      "\u001B[1m4/4\u001B[0m \u001B[32m━━━━━━━━━━━━━━━━━━━━\u001B[0m\u001B[37m\u001B[0m \u001B[1m0s\u001B[0m 1ms/step \n",
      "118 [D loss: [0.12961568 0.98763156]] [G loss: [array(0.12951452, dtype=float32), array(0.12951452, dtype=float32), array(0.98765755, dtype=float32)]]\n",
      "\u001B[1m4/4\u001B[0m \u001B[32m━━━━━━━━━━━━━━━━━━━━\u001B[0m\u001B[37m\u001B[0m \u001B[1m0s\u001B[0m 1000us/step\n",
      "119 [D loss: [0.12893821 0.9877348 ]] [G loss: [array(0.12882547, dtype=float32), array(0.12882547, dtype=float32), array(0.9877604, dtype=float32)]]\n",
      "\u001B[1m4/4\u001B[0m \u001B[32m━━━━━━━━━━━━━━━━━━━━\u001B[0m\u001B[37m\u001B[0m \u001B[1m0s\u001B[0m 1ms/step \n",
      "120 [D loss: [0.12825084 0.98783636]] [G loss: [array(0.12814115, dtype=float32), array(0.12814115, dtype=float32), array(0.9878616, dtype=float32)]]\n",
      "\u001B[1m4/4\u001B[0m \u001B[32m━━━━━━━━━━━━━━━━━━━━\u001B[0m\u001B[37m\u001B[0m \u001B[1m0s\u001B[0m 1ms/step \n",
      "121 [D loss: [0.12757872 0.98793626]] [G loss: [array(0.12747173, dtype=float32), array(0.12747173, dtype=float32), array(0.98796105, dtype=float32)]]\n",
      "\u001B[1m4/4\u001B[0m \u001B[32m━━━━━━━━━━━━━━━━━━━━\u001B[0m\u001B[37m\u001B[0m \u001B[1m0s\u001B[0m 1ms/step \n",
      "122 [D loss: [0.12691484 0.9880346 ]] [G loss: [array(0.12680958, dtype=float32), array(0.12680958, dtype=float32), array(0.9880589, dtype=float32)]]\n",
      "\u001B[1m4/4\u001B[0m \u001B[32m━━━━━━━━━━━━━━━━━━━━\u001B[0m\u001B[37m\u001B[0m \u001B[1m0s\u001B[0m 2ms/step \n",
      "123 [D loss: [0.12626447 0.9881313 ]] [G loss: [array(0.12615931, dtype=float32), array(0.12615931, dtype=float32), array(0.98815525, dtype=float32)]]\n",
      "\u001B[1m4/4\u001B[0m \u001B[32m━━━━━━━━━━━━━━━━━━━━\u001B[0m\u001B[37m\u001B[0m \u001B[1m0s\u001B[0m 2ms/step \n",
      "124 [D loss: [0.12561107 0.9882264 ]] [G loss: [array(0.12550773, dtype=float32), array(0.12550773, dtype=float32), array(0.98825, dtype=float32)]]\n",
      "\u001B[1m4/4\u001B[0m \u001B[32m━━━━━━━━━━━━━━━━━━━━\u001B[0m\u001B[37m\u001B[0m \u001B[1m0s\u001B[0m 1000us/step\n",
      "125 [D loss: [0.12497294 0.98832   ]] [G loss: [array(0.12487017, dtype=float32), array(0.12487017, dtype=float32), array(0.98834324, dtype=float32)]]\n",
      "\u001B[1m4/4\u001B[0m \u001B[32m━━━━━━━━━━━━━━━━━━━━\u001B[0m\u001B[37m\u001B[0m \u001B[1m0s\u001B[0m 667us/step\n",
      "126 [D loss: [0.12433358 0.98841214]] [G loss: [array(0.1242302, dtype=float32), array(0.1242302, dtype=float32), array(0.98843503, dtype=float32)]]\n",
      "\u001B[1m4/4\u001B[0m \u001B[32m━━━━━━━━━━━━━━━━━━━━\u001B[0m\u001B[37m\u001B[0m \u001B[1m0s\u001B[0m 1000us/step\n",
      "127 [D loss: [0.12370852 0.98850286]] [G loss: [array(0.12360357, dtype=float32), array(0.12360357, dtype=float32), array(0.9885254, dtype=float32)]]\n",
      "\u001B[1m4/4\u001B[0m \u001B[32m━━━━━━━━━━━━━━━━━━━━\u001B[0m\u001B[37m\u001B[0m \u001B[1m0s\u001B[0m 1000us/step\n",
      "128 [D loss: [0.12307934 0.98859215]] [G loss: [array(0.12298264, dtype=float32), array(0.12298264, dtype=float32), array(0.9886143, dtype=float32)]]\n",
      "\u001B[1m4/4\u001B[0m \u001B[32m━━━━━━━━━━━━━━━━━━━━\u001B[0m\u001B[37m\u001B[0m \u001B[1m0s\u001B[0m 995us/step\n",
      "129 [D loss: [0.1224708 0.9886801]] [G loss: [array(0.12237308, dtype=float32), array(0.12237308, dtype=float32), array(0.98870194, dtype=float32)]]\n",
      "\u001B[1m4/4\u001B[0m \u001B[32m━━━━━━━━━━━━━━━━━━━━\u001B[0m\u001B[37m\u001B[0m \u001B[1m0s\u001B[0m 1ms/step \n",
      "130 [D loss: [0.12185909 0.9887667 ]] [G loss: [array(0.12176327, dtype=float32), array(0.12176327, dtype=float32), array(0.9887882, dtype=float32)]]\n",
      "\u001B[1m4/4\u001B[0m \u001B[32m━━━━━━━━━━━━━━━━━━━━\u001B[0m\u001B[37m\u001B[0m \u001B[1m0s\u001B[0m 667us/step\n",
      "131 [D loss: [0.1212652  0.98885196]] [G loss: [array(0.12117431, dtype=float32), array(0.12117431, dtype=float32), array(0.9888731, dtype=float32)]]\n",
      "\u001B[1m4/4\u001B[0m \u001B[32m━━━━━━━━━━━━━━━━━━━━\u001B[0m\u001B[37m\u001B[0m \u001B[1m0s\u001B[0m 992us/step\n",
      "132 [D loss: [0.12068392 0.98893595]] [G loss: [array(0.120595, dtype=float32), array(0.120595, dtype=float32), array(0.98895675, dtype=float32)]]\n",
      "\u001B[1m4/4\u001B[0m \u001B[32m━━━━━━━━━━━━━━━━━━━━\u001B[0m\u001B[37m\u001B[0m \u001B[1m0s\u001B[0m 1ms/step \n",
      "133 [D loss: [0.12011692 0.9890187 ]] [G loss: [array(0.12002899, dtype=float32), array(0.12002899, dtype=float32), array(0.9890392, dtype=float32)]]\n",
      "\u001B[1m4/4\u001B[0m \u001B[32m━━━━━━━━━━━━━━━━━━━━\u001B[0m\u001B[37m\u001B[0m \u001B[1m0s\u001B[0m 666us/step\n",
      "134 [D loss: [0.11954153 0.98910016]] [G loss: [array(0.1194445, dtype=float32), array(0.1194445, dtype=float32), array(0.98912036, dtype=float32)]]\n",
      "\u001B[1m4/4\u001B[0m \u001B[32m━━━━━━━━━━━━━━━━━━━━\u001B[0m\u001B[37m\u001B[0m \u001B[1m0s\u001B[0m 986us/step\n",
      "135 [D loss: [0.11897443 0.98918045]] [G loss: [array(0.11888426, dtype=float32), array(0.11888426, dtype=float32), array(0.98920035, dtype=float32)]]\n",
      "\u001B[1m4/4\u001B[0m \u001B[32m━━━━━━━━━━━━━━━━━━━━\u001B[0m\u001B[37m\u001B[0m \u001B[1m0s\u001B[0m 1000us/step\n",
      "136 [D loss: [0.11841142 0.9892596 ]] [G loss: [array(0.1183238, dtype=float32), array(0.1183238, dtype=float32), array(0.9892792, dtype=float32)]]\n",
      "\u001B[1m4/4\u001B[0m \u001B[32m━━━━━━━━━━━━━━━━━━━━\u001B[0m\u001B[37m\u001B[0m \u001B[1m0s\u001B[0m 667us/step\n",
      "137 [D loss: [0.11786355 0.98933756]] [G loss: [array(0.11777718, dtype=float32), array(0.11777718, dtype=float32), array(0.9893569, dtype=float32)]]\n",
      "\u001B[1m4/4\u001B[0m \u001B[32m━━━━━━━━━━━━━━━━━━━━\u001B[0m\u001B[37m\u001B[0m \u001B[1m0s\u001B[0m 1ms/step \n",
      "138 [D loss: [0.11732332 0.9894144 ]] [G loss: [array(0.11724114, dtype=float32), array(0.11724114, dtype=float32), array(0.98943347, dtype=float32)]]\n",
      "\u001B[1m4/4\u001B[0m \u001B[32m━━━━━━━━━━━━━━━━━━━━\u001B[0m\u001B[37m\u001B[0m \u001B[1m0s\u001B[0m 999us/step\n",
      "139 [D loss: [0.11678469 0.98949015]] [G loss: [array(0.11670109, dtype=float32), array(0.11670109, dtype=float32), array(0.9895089, dtype=float32)]]\n",
      "\u001B[1m4/4\u001B[0m \u001B[32m━━━━━━━━━━━━━━━━━━━━\u001B[0m\u001B[37m\u001B[0m \u001B[1m0s\u001B[0m 1ms/step \n",
      "140 [D loss: [0.11626437 0.9895648 ]] [G loss: [array(0.1161808, dtype=float32), array(0.1161808, dtype=float32), array(0.9895833, dtype=float32)]]\n",
      "\u001B[1m4/4\u001B[0m \u001B[32m━━━━━━━━━━━━━━━━━━━━\u001B[0m\u001B[37m\u001B[0m \u001B[1m0s\u001B[0m 1ms/step \n",
      "141 [D loss: [0.11573539 0.98963845]] [G loss: [array(0.11564827, dtype=float32), array(0.11564827, dtype=float32), array(0.9896567, dtype=float32)]]\n",
      "\u001B[1m4/4\u001B[0m \u001B[32m━━━━━━━━━━━━━━━━━━━━\u001B[0m\u001B[37m\u001B[0m \u001B[1m0s\u001B[0m 1ms/step \n",
      "142 [D loss: [0.11519781 0.98971105]] [G loss: [array(0.11511052, dtype=float32), array(0.11511052, dtype=float32), array(0.98972905, dtype=float32)]]\n",
      "\u001B[1m4/4\u001B[0m \u001B[32m━━━━━━━━━━━━━━━━━━━━\u001B[0m\u001B[37m\u001B[0m \u001B[1m0s\u001B[0m 1ms/step \n",
      "143 [D loss: [0.11467022 0.9897826 ]] [G loss: [array(0.11459006, dtype=float32), array(0.11459006, dtype=float32), array(0.98980033, dtype=float32)]]\n",
      "\u001B[1m4/4\u001B[0m \u001B[32m━━━━━━━━━━━━━━━━━━━━\u001B[0m\u001B[37m\u001B[0m \u001B[1m0s\u001B[0m 2ms/step \n",
      "144 [D loss: [0.11417198 0.9898262 ]] [G loss: [array(0.11408836, dtype=float32), array(0.11408836, dtype=float32), array(0.9898437, dtype=float32)]]\n",
      "\u001B[1m4/4\u001B[0m \u001B[32m━━━━━━━━━━━━━━━━━━━━\u001B[0m\u001B[37m\u001B[0m \u001B[1m0s\u001B[0m 1000us/step\n",
      "145 [D loss: [0.11364301 0.98989594]] [G loss: [array(0.11355029, dtype=float32), array(0.11355029, dtype=float32), array(0.9899133, dtype=float32)]]\n",
      "\u001B[1m4/4\u001B[0m \u001B[32m━━━━━━━━━━━━━━━━━━━━\u001B[0m\u001B[37m\u001B[0m \u001B[1m0s\u001B[0m 667us/step\n",
      "146 [D loss: [0.11313139 0.98996484]] [G loss: [array(0.1130496, dtype=float32), array(0.1130496, dtype=float32), array(0.98998195, dtype=float32)]]\n",
      "\u001B[1m4/4\u001B[0m \u001B[32m━━━━━━━━━━━━━━━━━━━━\u001B[0m\u001B[37m\u001B[0m \u001B[1m0s\u001B[0m 1ms/step \n",
      "147 [D loss: [0.11262406 0.99003273]] [G loss: [array(0.11254179, dtype=float32), array(0.11254179, dtype=float32), array(0.9900496, dtype=float32)]]\n",
      "\u001B[1m4/4\u001B[0m \u001B[32m━━━━━━━━━━━━━━━━━━━━\u001B[0m\u001B[37m\u001B[0m \u001B[1m0s\u001B[0m 986us/step\n",
      "148 [D loss: [0.11212884 0.9900998 ]] [G loss: [array(0.11204746, dtype=float32), array(0.11204746, dtype=float32), array(0.9901164, dtype=float32)]]\n",
      "\u001B[1m4/4\u001B[0m \u001B[32m━━━━━━━━━━━━━━━━━━━━\u001B[0m\u001B[37m\u001B[0m \u001B[1m0s\u001B[0m 1000us/step\n",
      "149 [D loss: [0.11163853 0.9901658 ]] [G loss: [array(0.11155941, dtype=float32), array(0.11155941, dtype=float32), array(0.9901823, dtype=float32)]]\n",
      "\u001B[1m4/4\u001B[0m \u001B[32m━━━━━━━━━━━━━━━━━━━━\u001B[0m\u001B[37m\u001B[0m \u001B[1m0s\u001B[0m 1ms/step \n",
      "150 [D loss: [0.11115457 0.9902311 ]] [G loss: [array(0.11107732, dtype=float32), array(0.11107732, dtype=float32), array(0.9902473, dtype=float32)]]\n",
      "\u001B[1m4/4\u001B[0m \u001B[32m━━━━━━━━━━━━━━━━━━━━\u001B[0m\u001B[37m\u001B[0m \u001B[1m0s\u001B[0m 667us/step\n",
      "151 [D loss: [0.11068285 0.99029547]] [G loss: [array(0.11061261, dtype=float32), array(0.11061261, dtype=float32), array(0.99031144, dtype=float32)]]\n",
      "\u001B[1m4/4\u001B[0m \u001B[32m━━━━━━━━━━━━━━━━━━━━\u001B[0m\u001B[37m\u001B[0m \u001B[1m0s\u001B[0m 667us/step\n",
      "152 [D loss: [0.11021586 0.990359  ]] [G loss: [array(0.11014283, dtype=float32), array(0.11014283, dtype=float32), array(0.9903748, dtype=float32)]]\n",
      "\u001B[1m4/4\u001B[0m \u001B[32m━━━━━━━━━━━━━━━━━━━━\u001B[0m\u001B[37m\u001B[0m \u001B[1m0s\u001B[0m 1ms/step \n",
      "153 [D loss: [0.10974891 0.9904217 ]] [G loss: [array(0.10967583, dtype=float32), array(0.10967583, dtype=float32), array(0.99043727, dtype=float32)]]\n",
      "\u001B[1m4/4\u001B[0m \u001B[32m━━━━━━━━━━━━━━━━━━━━\u001B[0m\u001B[37m\u001B[0m \u001B[1m0s\u001B[0m 1000us/step\n",
      "154 [D loss: [0.10929772 0.99048364]] [G loss: [array(0.10923059, dtype=float32), array(0.10923059, dtype=float32), array(0.990499, dtype=float32)]]\n",
      "\u001B[1m4/4\u001B[0m \u001B[32m━━━━━━━━━━━━━━━━━━━━\u001B[0m\u001B[37m\u001B[0m \u001B[1m0s\u001B[0m 1000us/step\n",
      "155 [D loss: [0.10884488 0.9905447 ]] [G loss: [array(0.10877047, dtype=float32), array(0.10877047, dtype=float32), array(0.9905599, dtype=float32)]]\n",
      "\u001B[1m4/4\u001B[0m \u001B[32m━━━━━━━━━━━━━━━━━━━━\u001B[0m\u001B[37m\u001B[0m \u001B[1m0s\u001B[0m 1ms/step \n",
      "156 [D loss: [0.10839737 0.990605  ]] [G loss: [array(0.1083331, dtype=float32), array(0.1083331, dtype=float32), array(0.99062, dtype=float32)]]\n",
      "\u001B[1m4/4\u001B[0m \u001B[32m━━━━━━━━━━━━━━━━━━━━\u001B[0m\u001B[37m\u001B[0m \u001B[1m0s\u001B[0m 1000us/step\n",
      "157 [D loss: [0.10795344 0.9906646 ]] [G loss: [array(0.10788468, dtype=float32), array(0.10788468, dtype=float32), array(0.9906794, dtype=float32)]]\n",
      "\u001B[1m4/4\u001B[0m \u001B[32m━━━━━━━━━━━━━━━━━━━━\u001B[0m\u001B[37m\u001B[0m \u001B[1m0s\u001B[0m 1ms/step \n",
      "158 [D loss: [0.10751794 0.9907234 ]] [G loss: [array(0.10744935, dtype=float32), array(0.10744935, dtype=float32), array(0.99073803, dtype=float32)]]\n",
      "\u001B[1m4/4\u001B[0m \u001B[32m━━━━━━━━━━━━━━━━━━━━\u001B[0m\u001B[37m\u001B[0m \u001B[1m0s\u001B[0m 999us/step\n",
      "159 [D loss: [0.10707311 0.9907815 ]] [G loss: [array(0.10699697, dtype=float32), array(0.10699697, dtype=float32), array(0.9907959, dtype=float32)]]\n",
      "\u001B[1m4/4\u001B[0m \u001B[32m━━━━━━━━━━━━━━━━━━━━\u001B[0m\u001B[37m\u001B[0m \u001B[1m0s\u001B[0m 1ms/step \n",
      "160 [D loss: [0.10663633 0.9908388 ]] [G loss: [array(0.10657347, dtype=float32), array(0.10657347, dtype=float32), array(0.9908531, dtype=float32)]]\n",
      "\u001B[1m4/4\u001B[0m \u001B[32m━━━━━━━━━━━━━━━━━━━━\u001B[0m\u001B[37m\u001B[0m \u001B[1m0s\u001B[0m 667us/step\n",
      "161 [D loss: [0.1062168  0.99089545]] [G loss: [array(0.10615184, dtype=float32), array(0.10615184, dtype=float32), array(0.9909095, dtype=float32)]]\n",
      "\u001B[1m4/4\u001B[0m \u001B[32m━━━━━━━━━━━━━━━━━━━━\u001B[0m\u001B[37m\u001B[0m \u001B[1m0s\u001B[0m 1ms/step \n",
      "162 [D loss: [0.10579319 0.9909514 ]] [G loss: [array(0.10572594, dtype=float32), array(0.10572594, dtype=float32), array(0.9909653, dtype=float32)]]\n",
      "\u001B[1m4/4\u001B[0m \u001B[32m━━━━━━━━━━━━━━━━━━━━\u001B[0m\u001B[37m\u001B[0m \u001B[1m0s\u001B[0m 1ms/step \n",
      "163 [D loss: [0.10536961 0.9910066 ]] [G loss: [array(0.10529673, dtype=float32), array(0.10529673, dtype=float32), array(0.9910204, dtype=float32)]]\n",
      "\u001B[1m4/4\u001B[0m \u001B[32m━━━━━━━━━━━━━━━━━━━━\u001B[0m\u001B[37m\u001B[0m \u001B[1m0s\u001B[0m 1ms/step \n",
      "164 [D loss: [0.10495043 0.9910612 ]] [G loss: [array(0.10488527, dtype=float32), array(0.10488527, dtype=float32), array(0.9910748, dtype=float32)]]\n",
      "\u001B[1m4/4\u001B[0m \u001B[32m━━━━━━━━━━━━━━━━━━━━\u001B[0m\u001B[37m\u001B[0m \u001B[1m0s\u001B[0m 666us/step\n",
      "165 [D loss: [0.10453559 0.9911152 ]] [G loss: [array(0.10446413, dtype=float32), array(0.10446413, dtype=float32), array(0.99112856, dtype=float32)]]\n",
      "\u001B[1m4/4\u001B[0m \u001B[32m━━━━━━━━━━━━━━━━━━━━\u001B[0m\u001B[37m\u001B[0m \u001B[1m0s\u001B[0m 1ms/step \n",
      "166 [D loss: [0.10413599 0.99116844]] [G loss: [array(0.10407472, dtype=float32), array(0.10407472, dtype=float32), array(0.9911817, dtype=float32)]]\n",
      "\u001B[1m4/4\u001B[0m \u001B[32m━━━━━━━━━━━━━━━━━━━━\u001B[0m\u001B[37m\u001B[0m \u001B[1m0s\u001B[0m 666us/step\n",
      "167 [D loss: [0.10372492 0.9912211 ]] [G loss: [array(0.1036585, dtype=float32), array(0.1036585, dtype=float32), array(0.9912342, dtype=float32)]]\n",
      "\u001B[1m4/4\u001B[0m \u001B[32m━━━━━━━━━━━━━━━━━━━━\u001B[0m\u001B[37m\u001B[0m \u001B[1m0s\u001B[0m 666us/step\n",
      "168 [D loss: [0.10331634 0.9912731 ]] [G loss: [array(0.10325256, dtype=float32), array(0.10325256, dtype=float32), array(0.99128604, dtype=float32)]]\n",
      "\u001B[1m4/4\u001B[0m \u001B[32m━━━━━━━━━━━━━━━━━━━━\u001B[0m\u001B[37m\u001B[0m \u001B[1m0s\u001B[0m 1000us/step\n",
      "169 [D loss: [0.10291078 0.99132454]] [G loss: [array(0.10284528, dtype=float32), array(0.10284528, dtype=float32), array(0.9913373, dtype=float32)]]\n",
      "\u001B[1m4/4\u001B[0m \u001B[32m━━━━━━━━━━━━━━━━━━━━\u001B[0m\u001B[37m\u001B[0m \u001B[1m0s\u001B[0m 1000us/step\n",
      "170 [D loss: [0.10251489 0.9913753 ]] [G loss: [array(0.10245348, dtype=float32), array(0.10245348, dtype=float32), array(0.99138796, dtype=float32)]]\n",
      "\u001B[1m4/4\u001B[0m \u001B[32m━━━━━━━━━━━━━━━━━━━━\u001B[0m\u001B[37m\u001B[0m \u001B[1m0s\u001B[0m 1000us/step\n",
      "171 [D loss: [0.10212864 0.9914255 ]] [G loss: [array(0.10206816, dtype=float32), array(0.10206816, dtype=float32), array(0.99143803, dtype=float32)]]\n",
      "\u001B[1m4/4\u001B[0m \u001B[32m━━━━━━━━━━━━━━━━━━━━\u001B[0m\u001B[37m\u001B[0m \u001B[1m0s\u001B[0m 1ms/step \n",
      "172 [D loss: [0.10174918 0.9914752 ]] [G loss: [array(0.10168798, dtype=float32), array(0.10168798, dtype=float32), array(0.99148756, dtype=float32)]]\n",
      "\u001B[1m4/4\u001B[0m \u001B[32m━━━━━━━━━━━━━━━━━━━━\u001B[0m\u001B[37m\u001B[0m \u001B[1m0s\u001B[0m 667us/step\n",
      "173 [D loss: [0.1013597 0.9915242]] [G loss: [array(0.10129511, dtype=float32), array(0.10129511, dtype=float32), array(0.99153644, dtype=float32)]]\n",
      "\u001B[1m4/4\u001B[0m \u001B[32m━━━━━━━━━━━━━━━━━━━━\u001B[0m\u001B[37m\u001B[0m \u001B[1m0s\u001B[0m 1ms/step \n",
      "174 [D loss: [0.1009783  0.99157274]] [G loss: [array(0.10092152, dtype=float32), array(0.10092152, dtype=float32), array(0.99158484, dtype=float32)]]\n",
      "\u001B[1m4/4\u001B[0m \u001B[32m━━━━━━━━━━━━━━━━━━━━\u001B[0m\u001B[37m\u001B[0m \u001B[1m0s\u001B[0m 665us/step\n",
      "175 [D loss: [0.10060026 0.9916207 ]] [G loss: [array(0.10053981, dtype=float32), array(0.10053981, dtype=float32), array(0.99163264, dtype=float32)]]\n",
      "\u001B[1m4/4\u001B[0m \u001B[32m━━━━━━━━━━━━━━━━━━━━\u001B[0m\u001B[37m\u001B[0m \u001B[1m0s\u001B[0m 1ms/step \n",
      "176 [D loss: [0.10022406 0.9916681 ]] [G loss: [array(0.1001628, dtype=float32), array(0.1001628, dtype=float32), array(0.9916799, dtype=float32)]]\n",
      "\u001B[1m4/4\u001B[0m \u001B[32m━━━━━━━━━━━━━━━━━━━━\u001B[0m\u001B[37m\u001B[0m \u001B[1m0s\u001B[0m 662us/step\n",
      "177 [D loss: [0.09984669 0.99171495]] [G loss: [array(0.09978741, dtype=float32), array(0.09978741, dtype=float32), array(0.99172664, dtype=float32)]]\n",
      "\u001B[1m4/4\u001B[0m \u001B[32m━━━━━━━━━━━━━━━━━━━━\u001B[0m\u001B[37m\u001B[0m \u001B[1m0s\u001B[0m 1ms/step \n",
      "178 [D loss: [0.09949121 0.9917613 ]] [G loss: [array(0.09944344, dtype=float32), array(0.09944344, dtype=float32), array(0.9917729, dtype=float32)]]\n",
      "\u001B[1m4/4\u001B[0m \u001B[32m━━━━━━━━━━━━━━━━━━━━\u001B[0m\u001B[37m\u001B[0m \u001B[1m0s\u001B[0m 1000us/step\n",
      "179 [D loss: [0.09913522 0.99180716]] [G loss: [array(0.09907816, dtype=float32), array(0.09907816, dtype=float32), array(0.99181855, dtype=float32)]]\n",
      "\u001B[1m4/4\u001B[0m \u001B[32m━━━━━━━━━━━━━━━━━━━━\u001B[0m\u001B[37m\u001B[0m \u001B[1m0s\u001B[0m 1000us/step\n",
      "180 [D loss: [0.09877271 0.9918525 ]] [G loss: [array(0.09871837, dtype=float32), array(0.09871837, dtype=float32), array(0.9918638, dtype=float32)]]\n",
      "\u001B[1m4/4\u001B[0m \u001B[32m━━━━━━━━━━━━━━━━━━━━\u001B[0m\u001B[37m\u001B[0m \u001B[1m0s\u001B[0m 1ms/step \n",
      "181 [D loss: [0.09841388 0.99189734]] [G loss: [array(0.09835514, dtype=float32), array(0.09835514, dtype=float32), array(0.9919085, dtype=float32)]]\n",
      "\u001B[1m4/4\u001B[0m \u001B[32m━━━━━━━━━━━━━━━━━━━━\u001B[0m\u001B[37m\u001B[0m \u001B[1m0s\u001B[0m 667us/step\n",
      "182 [D loss: [0.09805325 0.9919417 ]] [G loss: [array(0.09799934, dtype=float32), array(0.09799934, dtype=float32), array(0.9919527, dtype=float32)]]\n",
      "\u001B[1m4/4\u001B[0m \u001B[32m━━━━━━━━━━━━━━━━━━━━\u001B[0m\u001B[37m\u001B[0m \u001B[1m0s\u001B[0m 1ms/step \n",
      "183 [D loss: [0.09770835 0.99198556]] [G loss: [array(0.09765659, dtype=float32), array(0.09765659, dtype=float32), array(0.9919964, dtype=float32)]]\n",
      "\u001B[1m4/4\u001B[0m \u001B[32m━━━━━━━━━━━━━━━━━━━━\u001B[0m\u001B[37m\u001B[0m \u001B[1m0s\u001B[0m 1ms/step \n",
      "184 [D loss: [0.09736396 0.9920289 ]] [G loss: [array(0.09730759, dtype=float32), array(0.09730759, dtype=float32), array(0.9920397, dtype=float32)]]\n",
      "\u001B[1m4/4\u001B[0m \u001B[32m━━━━━━━━━━━━━━━━━━━━\u001B[0m\u001B[37m\u001B[0m \u001B[1m0s\u001B[0m 1ms/step \n",
      "185 [D loss: [0.09702258 0.9920718 ]] [G loss: [array(0.09696995, dtype=float32), array(0.09696995, dtype=float32), array(0.9920825, dtype=float32)]]\n",
      "\u001B[1m4/4\u001B[0m \u001B[32m━━━━━━━━━━━━━━━━━━━━\u001B[0m\u001B[37m\u001B[0m \u001B[1m0s\u001B[0m 669us/step\n",
      "186 [D loss: [0.09668171 0.9921143 ]] [G loss: [array(0.09662449, dtype=float32), array(0.09662449, dtype=float32), array(0.99212486, dtype=float32)]]\n",
      "\u001B[1m4/4\u001B[0m \u001B[32m━━━━━━━━━━━━━━━━━━━━\u001B[0m\u001B[37m\u001B[0m \u001B[1m0s\u001B[0m 667us/step\n",
      "187 [D loss: [0.09633584 0.99215627]] [G loss: [array(0.09628259, dtype=float32), array(0.09628259, dtype=float32), array(0.9921667, dtype=float32)]]\n",
      "\u001B[1m4/4\u001B[0m \u001B[32m━━━━━━━━━━━━━━━━━━━━\u001B[0m\u001B[37m\u001B[0m \u001B[1m0s\u001B[0m 1ms/step \n",
      "188 [D loss: [0.09600306 0.9921979 ]] [G loss: [array(0.09595089, dtype=float32), array(0.09595089, dtype=float32), array(0.9922082, dtype=float32)]]\n",
      "\u001B[1m4/4\u001B[0m \u001B[32m━━━━━━━━━━━━━━━━━━━━\u001B[0m\u001B[37m\u001B[0m \u001B[1m0s\u001B[0m 1000us/step\n",
      "189 [D loss: [0.09566651 0.992239  ]] [G loss: [array(0.09561295, dtype=float32), array(0.09561295, dtype=float32), array(0.9922492, dtype=float32)]]\n",
      "\u001B[1m4/4\u001B[0m \u001B[32m━━━━━━━━━━━━━━━━━━━━\u001B[0m\u001B[37m\u001B[0m \u001B[1m0s\u001B[0m 1ms/step \n",
      "190 [D loss: [0.09533296 0.99227965]] [G loss: [array(0.09527951, dtype=float32), array(0.09527951, dtype=float32), array(0.9922898, dtype=float32)]]\n",
      "\u001B[1m4/4\u001B[0m \u001B[32m━━━━━━━━━━━━━━━━━━━━\u001B[0m\u001B[37m\u001B[0m \u001B[1m0s\u001B[0m 1ms/step \n",
      "191 [D loss: [0.09500015 0.9923199 ]] [G loss: [array(0.09494323, dtype=float32), array(0.09494323, dtype=float32), array(0.9923299, dtype=float32)]]\n",
      "\u001B[1m4/4\u001B[0m \u001B[32m━━━━━━━━━━━━━━━━━━━━\u001B[0m\u001B[37m\u001B[0m \u001B[1m0s\u001B[0m 1ms/step \n",
      "192 [D loss: [0.09466621 0.99235976]] [G loss: [array(0.09461366, dtype=float32), array(0.09461366, dtype=float32), array(0.99236965, dtype=float32)]]\n",
      "\u001B[1m4/4\u001B[0m \u001B[32m━━━━━━━━━━━━━━━━━━━━\u001B[0m\u001B[37m\u001B[0m \u001B[1m0s\u001B[0m 1ms/step \n",
      "193 [D loss: [0.09434391 0.9923992 ]] [G loss: [array(0.09429853, dtype=float32), array(0.09429853, dtype=float32), array(0.992409, dtype=float32)]]\n",
      "\u001B[1m4/4\u001B[0m \u001B[32m━━━━━━━━━━━━━━━━━━━━\u001B[0m\u001B[37m\u001B[0m \u001B[1m0s\u001B[0m 999us/step\n",
      "194 [D loss: [0.0940317 0.9924382]] [G loss: [array(0.09398435, dtype=float32), array(0.09398435, dtype=float32), array(0.9924479, dtype=float32)]]\n",
      "\u001B[1m4/4\u001B[0m \u001B[32m━━━━━━━━━━━━━━━━━━━━\u001B[0m\u001B[37m\u001B[0m \u001B[1m0s\u001B[0m 1ms/step \n",
      "195 [D loss: [0.09371537 0.9924768 ]] [G loss: [array(0.09366276, dtype=float32), array(0.09366276, dtype=float32), array(0.9924865, dtype=float32)]]\n",
      "\u001B[1m4/4\u001B[0m \u001B[32m━━━━━━━━━━━━━━━━━━━━\u001B[0m\u001B[37m\u001B[0m \u001B[1m0s\u001B[0m 1ms/step \n",
      "196 [D loss: [0.09339535 0.9925151 ]] [G loss: [array(0.09334484, dtype=float32), array(0.09334484, dtype=float32), array(0.99252456, dtype=float32)]]\n",
      "\u001B[1m4/4\u001B[0m \u001B[32m━━━━━━━━━━━━━━━━━━━━\u001B[0m\u001B[37m\u001B[0m \u001B[1m0s\u001B[0m 1ms/step \n",
      "197 [D loss: [0.09307868 0.99255294]] [G loss: [array(0.0930301, dtype=float32), array(0.0930301, dtype=float32), array(0.99256235, dtype=float32)]]\n",
      "\u001B[1m4/4\u001B[0m \u001B[32m━━━━━━━━━━━━━━━━━━━━\u001B[0m\u001B[37m\u001B[0m \u001B[1m0s\u001B[0m 1ms/step \n",
      "198 [D loss: [0.09277788 0.9925904 ]] [G loss: [array(0.0927299, dtype=float32), array(0.0927299, dtype=float32), array(0.9925997, dtype=float32)]]\n",
      "\u001B[1m4/4\u001B[0m \u001B[32m━━━━━━━━━━━━━━━━━━━━\u001B[0m\u001B[37m\u001B[0m \u001B[1m0s\u001B[0m 1ms/step \n",
      "199 [D loss: [0.09247468 0.9926275 ]] [G loss: [array(0.09243062, dtype=float32), array(0.09243062, dtype=float32), array(0.99263674, dtype=float32)]]\n",
      "\u001B[1m313/313\u001B[0m \u001B[32m━━━━━━━━━━━━━━━━━━━━\u001B[0m\u001B[37m\u001B[0m \u001B[1m0s\u001B[0m 653us/step\n",
      "Shape of generated data: (10000, 104)\n"
     ]
    },
    {
     "name": "stderr",
     "output_type": "stream",
     "text": [
      "C:\\Users\\lucas\\AppData\\Local\\Temp\\ipykernel_11528\\1585377447.py:30: RuntimeWarning: invalid value encountered in cast\n",
      "  synthetic_data = np.round(synthetic_data).astype(int)\n"
     ]
    },
    {
     "data": {
      "text/plain": "    log_id  label_x  user_id  age  gender  residence  city  city_rank  \\\n0   958738        1   202930    6       4         32   276          4   \n1   799086        1   198039    6       3         38   325          4   \n2  1049208        1   255956    7       3         32   422          5   \n3   801919        1   250234    9       3         35   283          5   \n4  1073890        1   276091    7       3         32   409          4   \n\n   series_dev  series_group  ...  u_newsCatInterestsST_y_1  \\\n0          28             6  ...                       118   \n1          29             8  ...                       163   \n2          30             7  ...                       136   \n3          31             7  ...                       129   \n4          26             6  ...                       174   \n\n   u_newsCatInterestsST_y_2  u_newsCatInterestsST_y_3  \\\n0                       172                       156   \n1                       196                       184   \n2                       143                       156   \n3                       181                       182   \n4                       133                       192   \n\n   u_newsCatInterestsST_y_4  u_newsCatInterestsST_y_5  u_click_ca2_news_1  \\\n0                       147                       193                 187   \n1                       195                       215                 129   \n2                       198                       201                 120   \n3                       214                       144                 174   \n4                       152                       182                 118   \n\n   u_click_ca2_news_2  u_click_ca2_news_3  u_click_ca2_news_4  \\\n0                 176                 163                 117   \n1                 143                 159                 163   \n2                 163                 119                 197   \n3                 149                 189                 182   \n4                 210                 182                 152   \n\n   u_click_ca2_news_5  \n0                 207  \n1                 147  \n2                 204  \n3                 141  \n4                 131  \n\n[5 rows x 104 columns]",
      "text/html": "<div>\n<style scoped>\n    .dataframe tbody tr th:only-of-type {\n        vertical-align: middle;\n    }\n\n    .dataframe tbody tr th {\n        vertical-align: top;\n    }\n\n    .dataframe thead th {\n        text-align: right;\n    }\n</style>\n<table border=\"1\" class=\"dataframe\">\n  <thead>\n    <tr style=\"text-align: right;\">\n      <th></th>\n      <th>log_id</th>\n      <th>label_x</th>\n      <th>user_id</th>\n      <th>age</th>\n      <th>gender</th>\n      <th>residence</th>\n      <th>city</th>\n      <th>city_rank</th>\n      <th>series_dev</th>\n      <th>series_group</th>\n      <th>...</th>\n      <th>u_newsCatInterestsST_y_1</th>\n      <th>u_newsCatInterestsST_y_2</th>\n      <th>u_newsCatInterestsST_y_3</th>\n      <th>u_newsCatInterestsST_y_4</th>\n      <th>u_newsCatInterestsST_y_5</th>\n      <th>u_click_ca2_news_1</th>\n      <th>u_click_ca2_news_2</th>\n      <th>u_click_ca2_news_3</th>\n      <th>u_click_ca2_news_4</th>\n      <th>u_click_ca2_news_5</th>\n    </tr>\n  </thead>\n  <tbody>\n    <tr>\n      <th>0</th>\n      <td>958738</td>\n      <td>1</td>\n      <td>202930</td>\n      <td>6</td>\n      <td>4</td>\n      <td>32</td>\n      <td>276</td>\n      <td>4</td>\n      <td>28</td>\n      <td>6</td>\n      <td>...</td>\n      <td>118</td>\n      <td>172</td>\n      <td>156</td>\n      <td>147</td>\n      <td>193</td>\n      <td>187</td>\n      <td>176</td>\n      <td>163</td>\n      <td>117</td>\n      <td>207</td>\n    </tr>\n    <tr>\n      <th>1</th>\n      <td>799086</td>\n      <td>1</td>\n      <td>198039</td>\n      <td>6</td>\n      <td>3</td>\n      <td>38</td>\n      <td>325</td>\n      <td>4</td>\n      <td>29</td>\n      <td>8</td>\n      <td>...</td>\n      <td>163</td>\n      <td>196</td>\n      <td>184</td>\n      <td>195</td>\n      <td>215</td>\n      <td>129</td>\n      <td>143</td>\n      <td>159</td>\n      <td>163</td>\n      <td>147</td>\n    </tr>\n    <tr>\n      <th>2</th>\n      <td>1049208</td>\n      <td>1</td>\n      <td>255956</td>\n      <td>7</td>\n      <td>3</td>\n      <td>32</td>\n      <td>422</td>\n      <td>5</td>\n      <td>30</td>\n      <td>7</td>\n      <td>...</td>\n      <td>136</td>\n      <td>143</td>\n      <td>156</td>\n      <td>198</td>\n      <td>201</td>\n      <td>120</td>\n      <td>163</td>\n      <td>119</td>\n      <td>197</td>\n      <td>204</td>\n    </tr>\n    <tr>\n      <th>3</th>\n      <td>801919</td>\n      <td>1</td>\n      <td>250234</td>\n      <td>9</td>\n      <td>3</td>\n      <td>35</td>\n      <td>283</td>\n      <td>5</td>\n      <td>31</td>\n      <td>7</td>\n      <td>...</td>\n      <td>129</td>\n      <td>181</td>\n      <td>182</td>\n      <td>214</td>\n      <td>144</td>\n      <td>174</td>\n      <td>149</td>\n      <td>189</td>\n      <td>182</td>\n      <td>141</td>\n    </tr>\n    <tr>\n      <th>4</th>\n      <td>1073890</td>\n      <td>1</td>\n      <td>276091</td>\n      <td>7</td>\n      <td>3</td>\n      <td>32</td>\n      <td>409</td>\n      <td>4</td>\n      <td>26</td>\n      <td>6</td>\n      <td>...</td>\n      <td>174</td>\n      <td>133</td>\n      <td>192</td>\n      <td>152</td>\n      <td>182</td>\n      <td>118</td>\n      <td>210</td>\n      <td>182</td>\n      <td>152</td>\n      <td>131</td>\n    </tr>\n  </tbody>\n</table>\n<p>5 rows × 104 columns</p>\n</div>"
     },
     "execution_count": 117,
     "metadata": {},
     "output_type": "execute_result"
    }
   ],
   "source": [
    "scaler = MinMaxScaler(feature_range=(-1, 1))  # Use MinMaxScaler for normalization\n",
    "\n",
    "# Normalize the data\n",
    "click_array = scaler.fit_transform(click.values)\n",
    "\n",
    "# Define GAN parameters\n",
    "latent_dim = 100\n",
    "data_dim = click_array.shape[1]\n",
    "\n",
    "# Instantiate and train the GAN\n",
    "gan = GAN(latent_dim, data_dim)\n",
    "gan.train(click_array, epochs=200, batch_size=128)  # Choose the amount of runs \n",
    "\n",
    "# Generate synthetic data\n",
    "num_samples = 10000  # Adjust the number of samples as needed\n",
    "noise = np.random.normal(0, 1, (num_samples, latent_dim))\n",
    "synthetic_data = gan.generator.predict(noise)\n",
    "\n",
    "# Inverse transform the synthetic data\n",
    "synthetic_data = scaler.inverse_transform(synthetic_data)\n",
    "\n",
    "# Handle NaN and infinite values before rounding\n",
    "synthetic_data = np.nan_to_num(synthetic_data, nan=0.0, posinf=0.0, neginf=0.0)\n",
    "\n",
    "# Clip the data to a reasonable range, e.g., [0, max_value]\n",
    "max_value = click.max().max()  # Get max of numeric columns\n",
    "synthetic_data = np.clip(synthetic_data, 0, max_value)\n",
    "\n",
    "# Round the data and convert to integers\n",
    "synthetic_data = np.round(synthetic_data).astype(int)\n",
    "\n",
    "# Convert synthetic data back to a DataFrame\n",
    "synthetic_click = pd.DataFrame(synthetic_data, columns=click.columns)\n",
    "\n",
    "# Debug: Check the shape and head of the generated data\n",
    "print(f\"Shape of generated data: {synthetic_click.shape}\")\n",
    "synthetic_click.head()"
   ],
   "metadata": {
    "collapsed": false,
    "ExecuteTime": {
     "end_time": "2024-06-28T04:18:11.921268Z",
     "start_time": "2024-06-28T04:16:07.900792Z"
    }
   },
   "id": "8481a19065dc3d32",
   "execution_count": 117
  },
  {
   "cell_type": "code",
   "outputs": [
    {
     "data": {
      "text/plain": "             log_id       label_x        user_id           age        gender  \\\ncount  7.310400e+04  73104.000000   73104.000000  73104.000000  73104.000000   \nmean   5.456953e+05      0.008632  193422.610185      5.472710      2.375602   \nstd    3.181061e+05      0.092505   54052.268470      2.173391      0.735787   \nmin    4.000000e+00      0.000000  100022.000000      2.000000      2.000000   \n25%    2.688722e+05      0.000000  145387.000000      3.000000      2.000000   \n50%    5.425155e+05      0.000000  192789.000000      6.000000      2.000000   \n75%    8.176330e+05      0.000000  240004.000000      7.000000      2.000000   \nmax    1.176443e+06      1.000000  287127.000000      9.000000      4.000000   \n\n          residence          city     city_rank    series_dev  series_group  \\\ncount  73104.000000  73104.000000  73104.000000  73104.000000  73104.000000   \nmean      26.585248    268.858352      3.404643     24.455666      4.586042   \nstd        9.272219     98.773152      1.284477      7.760142      1.942284   \nmin       11.000000    101.000000      2.000000     11.000000      2.000000   \n25%       20.000000    175.000000      2.000000     16.000000      3.000000   \n50%       26.000000    297.000000      3.000000     27.000000      5.000000   \n75%       33.000000    342.000000      5.000000     31.000000      6.000000   \nmax       46.000000    441.000000      5.000000     37.000000      8.000000   \n\n       ...  u_newsCatInterestsST_y_1  u_newsCatInterestsST_y_2  \\\ncount  ...              73104.000000              73104.000000   \nmean   ...                122.068765                110.355753   \nstd    ...                 65.173354                 63.849116   \nmin    ...                  0.000000                  0.000000   \n25%    ...                 78.000000                 65.000000   \n50%    ...                112.000000                 98.000000   \n75%    ...                171.000000                168.000000   \nmax    ...                220.000000                220.000000   \n\n       u_newsCatInterestsST_y_3  u_newsCatInterestsST_y_4  \\\ncount              73104.000000              73104.000000   \nmean                 105.502339                103.364385   \nstd                   62.077208                 62.371114   \nmin                    0.000000                  0.000000   \n25%                   62.000000                 57.000000   \n50%                   98.000000                 98.000000   \n75%                  157.000000                155.000000   \nmax                  220.000000                220.000000   \n\n       u_newsCatInterestsST_y_5  u_click_ca2_news_1  u_click_ca2_news_2  \\\ncount              73104.000000        73104.000000        73104.000000   \nmean                 102.512735          114.086001          111.556358   \nstd                   61.594837           65.250141           64.075987   \nmin                    0.000000            0.000000            0.000000   \n25%                   57.000000           65.000000           63.000000   \n50%                   98.000000          108.000000          104.000000   \n75%                  152.000000          171.000000          168.000000   \nmax                  220.000000          220.000000          220.000000   \n\n       u_click_ca2_news_3  u_click_ca2_news_4  u_click_ca2_news_5  \ncount        73104.000000        73104.000000        73104.000000  \nmean           109.599653          108.906298          107.884822  \nstd             63.348185           64.481685           64.559538  \nmin              0.000000            0.000000            0.000000  \n25%             62.000000           57.000000           56.000000  \n50%            100.000000          104.000000          104.000000  \n75%            168.000000          168.000000          168.000000  \nmax            220.000000          220.000000          220.000000  \n\n[8 rows x 104 columns]",
      "text/html": "<div>\n<style scoped>\n    .dataframe tbody tr th:only-of-type {\n        vertical-align: middle;\n    }\n\n    .dataframe tbody tr th {\n        vertical-align: top;\n    }\n\n    .dataframe thead th {\n        text-align: right;\n    }\n</style>\n<table border=\"1\" class=\"dataframe\">\n  <thead>\n    <tr style=\"text-align: right;\">\n      <th></th>\n      <th>log_id</th>\n      <th>label_x</th>\n      <th>user_id</th>\n      <th>age</th>\n      <th>gender</th>\n      <th>residence</th>\n      <th>city</th>\n      <th>city_rank</th>\n      <th>series_dev</th>\n      <th>series_group</th>\n      <th>...</th>\n      <th>u_newsCatInterestsST_y_1</th>\n      <th>u_newsCatInterestsST_y_2</th>\n      <th>u_newsCatInterestsST_y_3</th>\n      <th>u_newsCatInterestsST_y_4</th>\n      <th>u_newsCatInterestsST_y_5</th>\n      <th>u_click_ca2_news_1</th>\n      <th>u_click_ca2_news_2</th>\n      <th>u_click_ca2_news_3</th>\n      <th>u_click_ca2_news_4</th>\n      <th>u_click_ca2_news_5</th>\n    </tr>\n  </thead>\n  <tbody>\n    <tr>\n      <th>count</th>\n      <td>7.310400e+04</td>\n      <td>73104.000000</td>\n      <td>73104.000000</td>\n      <td>73104.000000</td>\n      <td>73104.000000</td>\n      <td>73104.000000</td>\n      <td>73104.000000</td>\n      <td>73104.000000</td>\n      <td>73104.000000</td>\n      <td>73104.000000</td>\n      <td>...</td>\n      <td>73104.000000</td>\n      <td>73104.000000</td>\n      <td>73104.000000</td>\n      <td>73104.000000</td>\n      <td>73104.000000</td>\n      <td>73104.000000</td>\n      <td>73104.000000</td>\n      <td>73104.000000</td>\n      <td>73104.000000</td>\n      <td>73104.000000</td>\n    </tr>\n    <tr>\n      <th>mean</th>\n      <td>5.456953e+05</td>\n      <td>0.008632</td>\n      <td>193422.610185</td>\n      <td>5.472710</td>\n      <td>2.375602</td>\n      <td>26.585248</td>\n      <td>268.858352</td>\n      <td>3.404643</td>\n      <td>24.455666</td>\n      <td>4.586042</td>\n      <td>...</td>\n      <td>122.068765</td>\n      <td>110.355753</td>\n      <td>105.502339</td>\n      <td>103.364385</td>\n      <td>102.512735</td>\n      <td>114.086001</td>\n      <td>111.556358</td>\n      <td>109.599653</td>\n      <td>108.906298</td>\n      <td>107.884822</td>\n    </tr>\n    <tr>\n      <th>std</th>\n      <td>3.181061e+05</td>\n      <td>0.092505</td>\n      <td>54052.268470</td>\n      <td>2.173391</td>\n      <td>0.735787</td>\n      <td>9.272219</td>\n      <td>98.773152</td>\n      <td>1.284477</td>\n      <td>7.760142</td>\n      <td>1.942284</td>\n      <td>...</td>\n      <td>65.173354</td>\n      <td>63.849116</td>\n      <td>62.077208</td>\n      <td>62.371114</td>\n      <td>61.594837</td>\n      <td>65.250141</td>\n      <td>64.075987</td>\n      <td>63.348185</td>\n      <td>64.481685</td>\n      <td>64.559538</td>\n    </tr>\n    <tr>\n      <th>min</th>\n      <td>4.000000e+00</td>\n      <td>0.000000</td>\n      <td>100022.000000</td>\n      <td>2.000000</td>\n      <td>2.000000</td>\n      <td>11.000000</td>\n      <td>101.000000</td>\n      <td>2.000000</td>\n      <td>11.000000</td>\n      <td>2.000000</td>\n      <td>...</td>\n      <td>0.000000</td>\n      <td>0.000000</td>\n      <td>0.000000</td>\n      <td>0.000000</td>\n      <td>0.000000</td>\n      <td>0.000000</td>\n      <td>0.000000</td>\n      <td>0.000000</td>\n      <td>0.000000</td>\n      <td>0.000000</td>\n    </tr>\n    <tr>\n      <th>25%</th>\n      <td>2.688722e+05</td>\n      <td>0.000000</td>\n      <td>145387.000000</td>\n      <td>3.000000</td>\n      <td>2.000000</td>\n      <td>20.000000</td>\n      <td>175.000000</td>\n      <td>2.000000</td>\n      <td>16.000000</td>\n      <td>3.000000</td>\n      <td>...</td>\n      <td>78.000000</td>\n      <td>65.000000</td>\n      <td>62.000000</td>\n      <td>57.000000</td>\n      <td>57.000000</td>\n      <td>65.000000</td>\n      <td>63.000000</td>\n      <td>62.000000</td>\n      <td>57.000000</td>\n      <td>56.000000</td>\n    </tr>\n    <tr>\n      <th>50%</th>\n      <td>5.425155e+05</td>\n      <td>0.000000</td>\n      <td>192789.000000</td>\n      <td>6.000000</td>\n      <td>2.000000</td>\n      <td>26.000000</td>\n      <td>297.000000</td>\n      <td>3.000000</td>\n      <td>27.000000</td>\n      <td>5.000000</td>\n      <td>...</td>\n      <td>112.000000</td>\n      <td>98.000000</td>\n      <td>98.000000</td>\n      <td>98.000000</td>\n      <td>98.000000</td>\n      <td>108.000000</td>\n      <td>104.000000</td>\n      <td>100.000000</td>\n      <td>104.000000</td>\n      <td>104.000000</td>\n    </tr>\n    <tr>\n      <th>75%</th>\n      <td>8.176330e+05</td>\n      <td>0.000000</td>\n      <td>240004.000000</td>\n      <td>7.000000</td>\n      <td>2.000000</td>\n      <td>33.000000</td>\n      <td>342.000000</td>\n      <td>5.000000</td>\n      <td>31.000000</td>\n      <td>6.000000</td>\n      <td>...</td>\n      <td>171.000000</td>\n      <td>168.000000</td>\n      <td>157.000000</td>\n      <td>155.000000</td>\n      <td>152.000000</td>\n      <td>171.000000</td>\n      <td>168.000000</td>\n      <td>168.000000</td>\n      <td>168.000000</td>\n      <td>168.000000</td>\n    </tr>\n    <tr>\n      <th>max</th>\n      <td>1.176443e+06</td>\n      <td>1.000000</td>\n      <td>287127.000000</td>\n      <td>9.000000</td>\n      <td>4.000000</td>\n      <td>46.000000</td>\n      <td>441.000000</td>\n      <td>5.000000</td>\n      <td>37.000000</td>\n      <td>8.000000</td>\n      <td>...</td>\n      <td>220.000000</td>\n      <td>220.000000</td>\n      <td>220.000000</td>\n      <td>220.000000</td>\n      <td>220.000000</td>\n      <td>220.000000</td>\n      <td>220.000000</td>\n      <td>220.000000</td>\n      <td>220.000000</td>\n      <td>220.000000</td>\n    </tr>\n  </tbody>\n</table>\n<p>8 rows × 104 columns</p>\n</div>"
     },
     "execution_count": 118,
     "metadata": {},
     "output_type": "execute_result"
    }
   ],
   "source": [
    "click.describe()"
   ],
   "metadata": {
    "collapsed": false,
    "ExecuteTime": {
     "end_time": "2024-06-28T04:20:23.338591Z",
     "start_time": "2024-06-28T04:20:22.316850Z"
    }
   },
   "id": "ab8deccf4d05ccd",
   "execution_count": 118
  },
  {
   "cell_type": "code",
   "outputs": [
    {
     "data": {
      "text/plain": "             log_id  label_x        user_id           age        gender  \\\ncount  1.000000e+04  10000.0   10000.000000  10000.000000  10000.000000   \nmean   8.785169e+05      1.0  239951.449800      7.153000      3.452100   \nstd    1.583240e+05      0.0   25696.971946      0.940999      0.497725   \nmin    5.892340e+05      1.0  193793.000000      6.000000      3.000000   \n25%    7.419515e+05      1.0  217763.750000      6.000000      3.000000   \n50%    8.767985e+05      1.0  240142.000000      7.000000      3.000000   \n75%    1.015505e+06      1.0  262100.250000      8.000000      4.000000   \nmax    1.173133e+06      1.0  286694.000000      9.000000      4.000000   \n\n        residence          city     city_rank  series_dev  series_group  ...  \\\ncount  10000.0000  10000.000000  10000.000000  10000.0000  10000.000000  ...   \nmean      36.6278    353.583900      4.275800     30.4099      6.493800  ...   \nstd        4.2744     47.132731      0.446939      3.5870      0.952393  ...   \nmin       29.0000    272.000000      4.000000     24.0000      5.000000  ...   \n25%       33.0000    312.000000      4.000000     27.0000      6.000000  ...   \n50%       36.0000    352.000000      4.000000     30.0000      6.000000  ...   \n75%       40.0000    394.000000      5.000000     34.0000      7.000000  ...   \nmax       46.0000    441.000000      5.000000     37.0000      8.000000  ...   \n\n       u_newsCatInterestsST_y_1  u_newsCatInterestsST_y_2  \\\ncount              10000.000000              10000.000000   \nmean                 164.200100                162.006400   \nstd                   29.549037                 30.316093   \nmin                  110.000000                110.000000   \n25%                  139.000000                135.000000   \n50%                  164.000000                160.000000   \n75%                  190.000000                188.000000   \nmax                  220.000000                220.000000   \n\n       u_newsCatInterestsST_y_3  u_newsCatInterestsST_y_4  \\\ncount              10000.000000              10000.000000   \nmean                 165.799000                164.332100   \nstd                   29.746447                 29.952371   \nmin                  110.000000                110.000000   \n25%                  140.000000                138.000000   \n50%                  167.000000                164.000000   \n75%                  191.000000                190.000000   \nmax                  220.000000                220.000000   \n\n       u_newsCatInterestsST_y_5  u_click_ca2_news_1  u_click_ca2_news_2  \\\ncount               10000.00000        10000.000000         10000.00000   \nmean                  164.43780          162.936200           163.06980   \nstd                    31.65908           27.403216            30.20883   \nmin                   110.00000          111.000000           111.00000   \n25%                   136.00000          140.000000           136.00000   \n50%                   164.00000          162.000000           162.00000   \n75%                   193.00000          185.000000           189.00000   \nmax                   220.00000          219.000000           220.00000   \n\n       u_click_ca2_news_3  u_click_ca2_news_4  u_click_ca2_news_5  \ncount        10000.000000        10000.000000        10000.000000  \nmean           165.992700          164.465000          165.661000  \nstd             28.093849           29.335341           30.306731  \nmin            111.000000          110.000000          110.000000  \n25%            143.000000          139.000000          139.000000  \n50%            166.000000          164.000000          166.000000  \n75%            190.000000          190.000000          193.000000  \nmax            219.000000          220.000000          219.000000  \n\n[8 rows x 104 columns]",
      "text/html": "<div>\n<style scoped>\n    .dataframe tbody tr th:only-of-type {\n        vertical-align: middle;\n    }\n\n    .dataframe tbody tr th {\n        vertical-align: top;\n    }\n\n    .dataframe thead th {\n        text-align: right;\n    }\n</style>\n<table border=\"1\" class=\"dataframe\">\n  <thead>\n    <tr style=\"text-align: right;\">\n      <th></th>\n      <th>log_id</th>\n      <th>label_x</th>\n      <th>user_id</th>\n      <th>age</th>\n      <th>gender</th>\n      <th>residence</th>\n      <th>city</th>\n      <th>city_rank</th>\n      <th>series_dev</th>\n      <th>series_group</th>\n      <th>...</th>\n      <th>u_newsCatInterestsST_y_1</th>\n      <th>u_newsCatInterestsST_y_2</th>\n      <th>u_newsCatInterestsST_y_3</th>\n      <th>u_newsCatInterestsST_y_4</th>\n      <th>u_newsCatInterestsST_y_5</th>\n      <th>u_click_ca2_news_1</th>\n      <th>u_click_ca2_news_2</th>\n      <th>u_click_ca2_news_3</th>\n      <th>u_click_ca2_news_4</th>\n      <th>u_click_ca2_news_5</th>\n    </tr>\n  </thead>\n  <tbody>\n    <tr>\n      <th>count</th>\n      <td>1.000000e+04</td>\n      <td>10000.0</td>\n      <td>10000.000000</td>\n      <td>10000.000000</td>\n      <td>10000.000000</td>\n      <td>10000.0000</td>\n      <td>10000.000000</td>\n      <td>10000.000000</td>\n      <td>10000.0000</td>\n      <td>10000.000000</td>\n      <td>...</td>\n      <td>10000.000000</td>\n      <td>10000.000000</td>\n      <td>10000.000000</td>\n      <td>10000.000000</td>\n      <td>10000.00000</td>\n      <td>10000.000000</td>\n      <td>10000.00000</td>\n      <td>10000.000000</td>\n      <td>10000.000000</td>\n      <td>10000.000000</td>\n    </tr>\n    <tr>\n      <th>mean</th>\n      <td>8.785169e+05</td>\n      <td>1.0</td>\n      <td>239951.449800</td>\n      <td>7.153000</td>\n      <td>3.452100</td>\n      <td>36.6278</td>\n      <td>353.583900</td>\n      <td>4.275800</td>\n      <td>30.4099</td>\n      <td>6.493800</td>\n      <td>...</td>\n      <td>164.200100</td>\n      <td>162.006400</td>\n      <td>165.799000</td>\n      <td>164.332100</td>\n      <td>164.43780</td>\n      <td>162.936200</td>\n      <td>163.06980</td>\n      <td>165.992700</td>\n      <td>164.465000</td>\n      <td>165.661000</td>\n    </tr>\n    <tr>\n      <th>std</th>\n      <td>1.583240e+05</td>\n      <td>0.0</td>\n      <td>25696.971946</td>\n      <td>0.940999</td>\n      <td>0.497725</td>\n      <td>4.2744</td>\n      <td>47.132731</td>\n      <td>0.446939</td>\n      <td>3.5870</td>\n      <td>0.952393</td>\n      <td>...</td>\n      <td>29.549037</td>\n      <td>30.316093</td>\n      <td>29.746447</td>\n      <td>29.952371</td>\n      <td>31.65908</td>\n      <td>27.403216</td>\n      <td>30.20883</td>\n      <td>28.093849</td>\n      <td>29.335341</td>\n      <td>30.306731</td>\n    </tr>\n    <tr>\n      <th>min</th>\n      <td>5.892340e+05</td>\n      <td>1.0</td>\n      <td>193793.000000</td>\n      <td>6.000000</td>\n      <td>3.000000</td>\n      <td>29.0000</td>\n      <td>272.000000</td>\n      <td>4.000000</td>\n      <td>24.0000</td>\n      <td>5.000000</td>\n      <td>...</td>\n      <td>110.000000</td>\n      <td>110.000000</td>\n      <td>110.000000</td>\n      <td>110.000000</td>\n      <td>110.00000</td>\n      <td>111.000000</td>\n      <td>111.00000</td>\n      <td>111.000000</td>\n      <td>110.000000</td>\n      <td>110.000000</td>\n    </tr>\n    <tr>\n      <th>25%</th>\n      <td>7.419515e+05</td>\n      <td>1.0</td>\n      <td>217763.750000</td>\n      <td>6.000000</td>\n      <td>3.000000</td>\n      <td>33.0000</td>\n      <td>312.000000</td>\n      <td>4.000000</td>\n      <td>27.0000</td>\n      <td>6.000000</td>\n      <td>...</td>\n      <td>139.000000</td>\n      <td>135.000000</td>\n      <td>140.000000</td>\n      <td>138.000000</td>\n      <td>136.00000</td>\n      <td>140.000000</td>\n      <td>136.00000</td>\n      <td>143.000000</td>\n      <td>139.000000</td>\n      <td>139.000000</td>\n    </tr>\n    <tr>\n      <th>50%</th>\n      <td>8.767985e+05</td>\n      <td>1.0</td>\n      <td>240142.000000</td>\n      <td>7.000000</td>\n      <td>3.000000</td>\n      <td>36.0000</td>\n      <td>352.000000</td>\n      <td>4.000000</td>\n      <td>30.0000</td>\n      <td>6.000000</td>\n      <td>...</td>\n      <td>164.000000</td>\n      <td>160.000000</td>\n      <td>167.000000</td>\n      <td>164.000000</td>\n      <td>164.00000</td>\n      <td>162.000000</td>\n      <td>162.00000</td>\n      <td>166.000000</td>\n      <td>164.000000</td>\n      <td>166.000000</td>\n    </tr>\n    <tr>\n      <th>75%</th>\n      <td>1.015505e+06</td>\n      <td>1.0</td>\n      <td>262100.250000</td>\n      <td>8.000000</td>\n      <td>4.000000</td>\n      <td>40.0000</td>\n      <td>394.000000</td>\n      <td>5.000000</td>\n      <td>34.0000</td>\n      <td>7.000000</td>\n      <td>...</td>\n      <td>190.000000</td>\n      <td>188.000000</td>\n      <td>191.000000</td>\n      <td>190.000000</td>\n      <td>193.00000</td>\n      <td>185.000000</td>\n      <td>189.00000</td>\n      <td>190.000000</td>\n      <td>190.000000</td>\n      <td>193.000000</td>\n    </tr>\n    <tr>\n      <th>max</th>\n      <td>1.173133e+06</td>\n      <td>1.0</td>\n      <td>286694.000000</td>\n      <td>9.000000</td>\n      <td>4.000000</td>\n      <td>46.0000</td>\n      <td>441.000000</td>\n      <td>5.000000</td>\n      <td>37.0000</td>\n      <td>8.000000</td>\n      <td>...</td>\n      <td>220.000000</td>\n      <td>220.000000</td>\n      <td>220.000000</td>\n      <td>220.000000</td>\n      <td>220.00000</td>\n      <td>219.000000</td>\n      <td>220.00000</td>\n      <td>219.000000</td>\n      <td>220.000000</td>\n      <td>219.000000</td>\n    </tr>\n  </tbody>\n</table>\n<p>8 rows × 104 columns</p>\n</div>"
     },
     "execution_count": 119,
     "metadata": {},
     "output_type": "execute_result"
    }
   ],
   "source": [
    "synthetic_click.describe()"
   ],
   "metadata": {
    "collapsed": false,
    "ExecuteTime": {
     "end_time": "2024-06-28T04:20:23.650177Z",
     "start_time": "2024-06-28T04:20:23.339599Z"
    }
   },
   "id": "b5366b4106bd07e1",
   "execution_count": 119
  },
  {
   "cell_type": "code",
   "outputs": [],
   "source": [
    "click.to_csv(r'C:\\Users\\lucas\\Downloads\\GES Hackathon\\decrypted_file\\train\\real_click.csv', index=False)\n",
    "synthetic_click.to_csv(r'C:\\Users\\lucas\\Downloads\\GES Hackathon\\decrypted_file\\train\\synthetic_click.csv', index=False)"
   ],
   "metadata": {
    "collapsed": false,
    "ExecuteTime": {
     "end_time": "2024-06-28T04:12:03.966510Z",
     "start_time": "2024-06-28T04:12:02.444049Z"
    }
   },
   "id": "d8101228015684fb",
   "execution_count": 113
  },
  {
   "cell_type": "code",
   "outputs": [],
   "source": [],
   "metadata": {
    "collapsed": false
   },
   "id": "f67b9111b0d65040"
  }
 ],
 "metadata": {
  "kernelspec": {
   "display_name": "Python 3",
   "language": "python",
   "name": "python3"
  },
  "language_info": {
   "codemirror_mode": {
    "name": "ipython",
    "version": 2
   },
   "file_extension": ".py",
   "mimetype": "text/x-python",
   "name": "python",
   "nbconvert_exporter": "python",
   "pygments_lexer": "ipython2",
   "version": "2.7.6"
  }
 },
 "nbformat": 4,
 "nbformat_minor": 5
}
